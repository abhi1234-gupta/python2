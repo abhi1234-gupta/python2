{
 "cells": [
  {
   "cell_type": "code",
   "execution_count": 1,
   "metadata": {},
   "outputs": [
    {
     "name": "stdout",
     "output_type": "stream",
     "text": [
      "hello world\n"
     ]
    }
   ],
   "source": [
    "print('hello world')"
   ]
  },
  {
   "cell_type": "code",
   "execution_count": 14,
   "metadata": {},
   "outputs": [
    {
     "name": "stdout",
     "output_type": "stream",
     "text": [
      "5\n",
      "5.5\n",
      "abhishek\n"
     ]
    }
   ],
   "source": [
    "a=5\n",
    "b=5.5\n",
    "c='abhishek'\n",
    "print(a)\n",
    "print(b)\n",
    "print(c)"
   ]
  },
  {
   "cell_type": "code",
   "execution_count": 15,
   "metadata": {},
   "outputs": [
    {
     "data": {
      "text/plain": [
       "10.5"
      ]
     },
     "execution_count": 15,
     "metadata": {},
     "output_type": "execute_result"
    }
   ],
   "source": [
    "a+b"
   ]
  },
  {
   "cell_type": "code",
   "execution_count": 16,
   "metadata": {},
   "outputs": [
    {
     "name": "stdout",
     "output_type": "stream",
     "text": [
      "10.5\n"
     ]
    }
   ],
   "source": [
    "print(a+b)"
   ]
  },
  {
   "cell_type": "code",
   "execution_count": 17,
   "metadata": {},
   "outputs": [
    {
     "data": {
      "text/plain": [
       "-0.5"
      ]
     },
     "execution_count": 17,
     "metadata": {},
     "output_type": "execute_result"
    }
   ],
   "source": [
    "a-b"
   ]
  },
  {
   "cell_type": "code",
   "execution_count": 12,
   "metadata": {},
   "outputs": [
    {
     "data": {
      "text/plain": [
       "'h'"
      ]
     },
     "execution_count": 12,
     "metadata": {},
     "output_type": "execute_result"
    }
   ],
   "source": [
    "a=\"hello\"\n",
    "a[0]\n"
   ]
  },
  {
   "cell_type": "code",
   "execution_count": 13,
   "metadata": {},
   "outputs": [
    {
     "data": {
      "text/plain": [
       "'5.5'"
      ]
     },
     "execution_count": 13,
     "metadata": {},
     "output_type": "execute_result"
    }
   ],
   "source": [
    "d=str(b)\n",
    "d\n"
   ]
  },
  {
   "cell_type": "code",
   "execution_count": 18,
   "metadata": {},
   "outputs": [
    {
     "name": "stdout",
     "output_type": "stream",
     "text": [
      "5\n"
     ]
    }
   ],
   "source": [
    "e=str(a)\n",
    "print(a)"
   ]
  },
  {
   "cell_type": "code",
   "execution_count": 19,
   "metadata": {},
   "outputs": [
    {
     "data": {
      "text/plain": [
       "'hel'"
      ]
     },
     "execution_count": 19,
     "metadata": {},
     "output_type": "execute_result"
    }
   ],
   "source": [
    "a=\"hello\"\n",
    "a[:3]"
   ]
  },
  {
   "cell_type": "code",
   "execution_count": 20,
   "metadata": {},
   "outputs": [
    {
     "data": {
      "text/plain": [
       "'hell'"
      ]
     },
     "execution_count": 20,
     "metadata": {},
     "output_type": "execute_result"
    }
   ],
   "source": [
    "a=\"hello\"\n",
    "a[:-1]"
   ]
  },
  {
   "cell_type": "code",
   "execution_count": 171,
   "metadata": {},
   "outputs": [
    {
     "data": {
      "text/plain": [
       "'hel'"
      ]
     },
     "execution_count": 171,
     "metadata": {},
     "output_type": "execute_result"
    }
   ],
   "source": [
    "a=\"hello\"\n",
    "a[:3]"
   ]
  },
  {
   "cell_type": "code",
   "execution_count": 22,
   "metadata": {},
   "outputs": [
    {
     "data": {
      "text/plain": [
       "'lo'"
      ]
     },
     "execution_count": 22,
     "metadata": {},
     "output_type": "execute_result"
    }
   ],
   "source": [
    "a=\"hello\"\n",
    "a[-2:]"
   ]
  },
  {
   "cell_type": "code",
   "execution_count": 23,
   "metadata": {},
   "outputs": [
    {
     "data": {
      "text/plain": [
       "'ell'"
      ]
     },
     "execution_count": 23,
     "metadata": {},
     "output_type": "execute_result"
    }
   ],
   "source": [
    "a=\"hello\"\n",
    "a[1:4]"
   ]
  },
  {
   "cell_type": "code",
   "execution_count": 24,
   "metadata": {},
   "outputs": [
    {
     "data": {
      "text/plain": [
       "8"
      ]
     },
     "execution_count": 24,
     "metadata": {},
     "output_type": "execute_result"
    }
   ],
   "source": [
    "a=\"abhishek\"\n",
    "len(a)"
   ]
  },
  {
   "cell_type": "code",
   "execution_count": 25,
   "metadata": {},
   "outputs": [
    {
     "data": {
      "text/plain": [
       "'abhishek'"
      ]
     },
     "execution_count": 25,
     "metadata": {},
     "output_type": "execute_result"
    }
   ],
   "source": [
    "e=\"abhishek\"\n",
    "e"
   ]
  },
  {
   "cell_type": "code",
   "execution_count": 177,
   "metadata": {},
   "outputs": [
    {
     "data": {
      "text/plain": [
       "'ABHISHEK'"
      ]
     },
     "execution_count": 177,
     "metadata": {},
     "output_type": "execute_result"
    }
   ],
   "source": [
    "e=\"abhishek\"\n",
    "e.upper()"
   ]
  },
  {
   "cell_type": "code",
   "execution_count": 29,
   "metadata": {},
   "outputs": [
    {
     "data": {
      "text/plain": [
       "'ABHISHEK'"
      ]
     },
     "execution_count": 29,
     "metadata": {},
     "output_type": "execute_result"
    }
   ],
   "source": [
    "e.upper()"
   ]
  },
  {
   "cell_type": "code",
   "execution_count": 30,
   "metadata": {},
   "outputs": [
    {
     "data": {
      "text/plain": [
       "'abhishek'"
      ]
     },
     "execution_count": 30,
     "metadata": {},
     "output_type": "execute_result"
    }
   ],
   "source": [
    "e.lower()"
   ]
  },
  {
   "cell_type": "code",
   "execution_count": 35,
   "metadata": {},
   "outputs": [
    {
     "data": {
      "text/plain": [
       "'hello'"
      ]
     },
     "execution_count": 35,
     "metadata": {},
     "output_type": "execute_result"
    }
   ],
   "source": [
    "f=' hello '\n",
    "f.strip()"
   ]
  },
  {
   "cell_type": "code",
   "execution_count": 36,
   "metadata": {},
   "outputs": [
    {
     "data": {
      "text/plain": [
       "'abhhshek'"
      ]
     },
     "execution_count": 36,
     "metadata": {},
     "output_type": "execute_result"
    }
   ],
   "source": [
    "a=\"abhishek\"\n",
    "a.replace(\"i\",\"h\")"
   ]
  },
  {
   "cell_type": "code",
   "execution_count": 37,
   "metadata": {},
   "outputs": [
    {
     "data": {
      "text/plain": [
       "'heio'"
      ]
     },
     "execution_count": 37,
     "metadata": {},
     "output_type": "execute_result"
    }
   ],
   "source": [
    "a=\"hello\"\n",
    "a.replace(\"ll\",\"i\")"
   ]
  },
  {
   "cell_type": "code",
   "execution_count": 39,
   "metadata": {},
   "outputs": [
    {
     "data": {
      "text/plain": [
       "'heilo'"
      ]
     },
     "execution_count": 39,
     "metadata": {},
     "output_type": "execute_result"
    }
   ],
   "source": [
    "a=\"hello\"\n",
    "a.replace(\"ll\",\"il\")"
   ]
  },
  {
   "cell_type": "code",
   "execution_count": 40,
   "metadata": {},
   "outputs": [
    {
     "data": {
      "text/plain": [
       "'helho'"
      ]
     },
     "execution_count": 40,
     "metadata": {},
     "output_type": "execute_result"
    }
   ],
   "source": [
    "a=\"hello\"\n",
    "a.replace(\"ll\",\"lh\")"
   ]
  },
  {
   "cell_type": "code",
   "execution_count": 43,
   "metadata": {},
   "outputs": [
    {
     "data": {
      "text/plain": [
       "'my age is:17'"
      ]
     },
     "execution_count": 43,
     "metadata": {},
     "output_type": "execute_result"
    }
   ],
   "source": [
    "a='17'\n",
    "b='my age is:'\n",
    "b+a"
   ]
  },
  {
   "cell_type": "code",
   "execution_count": 45,
   "metadata": {},
   "outputs": [
    {
     "name": "stdout",
     "output_type": "stream",
     "text": [
      "my age is:17\n"
     ]
    }
   ],
   "source": [
    "a='17'\n",
    "b='my age is:'\n",
    "print(\"my age is:\"+a)"
   ]
  },
  {
   "cell_type": "code",
   "execution_count": 46,
   "metadata": {},
   "outputs": [
    {
     "data": {
      "text/plain": [
       "[1, 2, 3, 4]"
      ]
     },
     "execution_count": 46,
     "metadata": {},
     "output_type": "execute_result"
    }
   ],
   "source": [
    "l=[1,2,3,4]\n",
    "l"
   ]
  },
  {
   "cell_type": "code",
   "execution_count": 48,
   "metadata": {},
   "outputs": [
    {
     "data": {
      "text/plain": [
       "(1, 2, 3, 4)"
      ]
     },
     "execution_count": 48,
     "metadata": {},
     "output_type": "execute_result"
    }
   ],
   "source": [
    "l=(1,2,3,4)\n",
    "l"
   ]
  },
  {
   "cell_type": "code",
   "execution_count": 49,
   "metadata": {},
   "outputs": [
    {
     "data": {
      "text/plain": [
       "3"
      ]
     },
     "execution_count": 49,
     "metadata": {},
     "output_type": "execute_result"
    }
   ],
   "source": [
    "l=[1,2,3,4]\n",
    "l[2]"
   ]
  },
  {
   "cell_type": "code",
   "execution_count": 50,
   "metadata": {},
   "outputs": [
    {
     "data": {
      "text/plain": [
       "3"
      ]
     },
     "execution_count": 50,
     "metadata": {},
     "output_type": "execute_result"
    }
   ],
   "source": [
    "l=(1,2,3,4)\n",
    "l[2]"
   ]
  },
  {
   "cell_type": "code",
   "execution_count": 55,
   "metadata": {},
   "outputs": [
    {
     "data": {
      "text/plain": [
       "[1, 3, 3, 4]"
      ]
     },
     "execution_count": 55,
     "metadata": {},
     "output_type": "execute_result"
    }
   ],
   "source": [
    "l=[1,2,3,4]\n",
    "l[1]=3\n",
    "l"
   ]
  },
  {
   "cell_type": "code",
   "execution_count": 56,
   "metadata": {},
   "outputs": [
    {
     "ename": "TypeError",
     "evalue": "'tuple' object does not support item assignment",
     "output_type": "error",
     "traceback": [
      "\u001b[1;31m---------------------------------------------------------------------------\u001b[0m",
      "\u001b[1;31mTypeError\u001b[0m                                 Traceback (most recent call last)",
      "\u001b[1;32m<ipython-input-56-cf0d5625db2e>\u001b[0m in \u001b[0;36m<module>\u001b[1;34m\u001b[0m\n\u001b[0;32m      1\u001b[0m \u001b[0ml\u001b[0m\u001b[1;33m=\u001b[0m\u001b[1;33m(\u001b[0m\u001b[1;36m1\u001b[0m\u001b[1;33m,\u001b[0m\u001b[1;36m2\u001b[0m\u001b[1;33m,\u001b[0m\u001b[1;36m3\u001b[0m\u001b[1;33m,\u001b[0m\u001b[1;36m4\u001b[0m\u001b[1;33m)\u001b[0m\u001b[1;33m\u001b[0m\u001b[1;33m\u001b[0m\u001b[0m\n\u001b[1;32m----> 2\u001b[1;33m \u001b[0ml\u001b[0m\u001b[1;33m[\u001b[0m\u001b[1;36m2\u001b[0m\u001b[1;33m]\u001b[0m\u001b[1;33m=\u001b[0m\u001b[1;36m5\u001b[0m\u001b[1;33m\u001b[0m\u001b[1;33m\u001b[0m\u001b[0m\n\u001b[0m\u001b[0;32m      3\u001b[0m \u001b[0ml\u001b[0m\u001b[1;33m\u001b[0m\u001b[1;33m\u001b[0m\u001b[0m\n",
      "\u001b[1;31mTypeError\u001b[0m: 'tuple' object does not support item assignment"
     ]
    }
   ],
   "source": [
    "l=(1,2,3,4)\n",
    "l[2]=5\n",
    "l"
   ]
  },
  {
   "cell_type": "code",
   "execution_count": 61,
   "metadata": {},
   "outputs": [
    {
     "data": {
      "text/plain": [
       "[1, 2, 3, 4, 5]"
      ]
     },
     "execution_count": 61,
     "metadata": {},
     "output_type": "execute_result"
    }
   ],
   "source": [
    "l=[1,2,3,4]\n",
    "l.append(5)\n",
    "l"
   ]
  },
  {
   "cell_type": "code",
   "execution_count": 62,
   "metadata": {},
   "outputs": [
    {
     "data": {
      "text/plain": [
       "5"
      ]
     },
     "execution_count": 62,
     "metadata": {},
     "output_type": "execute_result"
    }
   ],
   "source": [
    "len(l)"
   ]
  },
  {
   "cell_type": "code",
   "execution_count": 63,
   "metadata": {},
   "outputs": [
    {
     "data": {
      "text/plain": [
       "[1, 2, 3, 4]"
      ]
     },
     "execution_count": 63,
     "metadata": {},
     "output_type": "execute_result"
    }
   ],
   "source": [
    "l.pop()\n",
    "l"
   ]
  },
  {
   "cell_type": "code",
   "execution_count": 66,
   "metadata": {},
   "outputs": [
    {
     "data": {
      "text/plain": [
       "[1, 2, 3, 9, 4]"
      ]
     },
     "execution_count": 66,
     "metadata": {},
     "output_type": "execute_result"
    }
   ],
   "source": [
    "l.insert(l[2],9)\n",
    "l"
   ]
  },
  {
   "cell_type": "code",
   "execution_count": 67,
   "metadata": {},
   "outputs": [
    {
     "data": {
      "text/plain": [
       "[1, 2, 9, 4]"
      ]
     },
     "execution_count": 67,
     "metadata": {},
     "output_type": "execute_result"
    }
   ],
   "source": [
    "l.remove(l[2])\n",
    "l"
   ]
  },
  {
   "cell_type": "code",
   "execution_count": 72,
   "metadata": {},
   "outputs": [
    {
     "data": {
      "text/plain": [
       "[1, 6, 2, 9, 4]"
      ]
     },
     "execution_count": 72,
     "metadata": {},
     "output_type": "execute_result"
    }
   ],
   "source": [
    "l.insert(l[0],6)\n",
    "l"
   ]
  },
  {
   "cell_type": "code",
   "execution_count": null,
   "metadata": {},
   "outputs": [],
   "source": []
  },
  {
   "cell_type": "code",
   "execution_count": 80,
   "metadata": {},
   "outputs": [
    {
     "data": {
      "text/plain": [
       "[1, 2, 3, 4]"
      ]
     },
     "execution_count": 80,
     "metadata": {},
     "output_type": "execute_result"
    }
   ],
   "source": [
    "l=[1,2,3,4]\n",
    "m=l.copy()\n",
    "m"
   ]
  },
  {
   "cell_type": "code",
   "execution_count": 87,
   "metadata": {},
   "outputs": [
    {
     "data": {
      "text/plain": [
       "[1, 3, 4, 5, 7]"
      ]
     },
     "execution_count": 87,
     "metadata": {},
     "output_type": "execute_result"
    }
   ],
   "source": [
    "l=[1,5,4,3,7]\n",
    "l.sort()\n",
    "l\n",
    "\n"
   ]
  },
  {
   "cell_type": "code",
   "execution_count": 95,
   "metadata": {},
   "outputs": [
    {
     "data": {
      "text/plain": [
       "'my name'"
      ]
     },
     "execution_count": 95,
     "metadata": {},
     "output_type": "execute_result"
    }
   ],
   "source": [
    "a= \"my name\"\n",
    "a.split()\n",
    "a\n"
   ]
  },
  {
   "cell_type": "code",
   "execution_count": 104,
   "metadata": {},
   "outputs": [
    {
     "data": {
      "text/plain": [
       "{'a': 'name', 'b': 'class', 'c': 'school'}"
      ]
     },
     "execution_count": 104,
     "metadata": {},
     "output_type": "execute_result"
    }
   ],
   "source": [
    "e={'a':'name',\n",
    "  'b':'class',\n",
    "  'c':'school'}\n",
    "e\n"
   ]
  },
  {
   "cell_type": "code",
   "execution_count": 108,
   "metadata": {},
   "outputs": [
    {
     "data": {
      "text/plain": [
       "'name'"
      ]
     },
     "execution_count": 108,
     "metadata": {},
     "output_type": "execute_result"
    }
   ],
   "source": [
    "e['a']"
   ]
  },
  {
   "cell_type": "code",
   "execution_count": 122,
   "metadata": {},
   "outputs": [
    {
     "data": {
      "text/plain": [
       "{'a': 'ab', 'b': 'class', 'c': 'school'}"
      ]
     },
     "execution_count": 122,
     "metadata": {},
     "output_type": "execute_result"
    }
   ],
   "source": [
    "e['a']='ab'\n",
    "e"
   ]
  },
  {
   "cell_type": "code",
   "execution_count": 112,
   "metadata": {},
   "outputs": [
    {
     "data": {
      "text/plain": [
       "3"
      ]
     },
     "execution_count": 112,
     "metadata": {},
     "output_type": "execute_result"
    }
   ],
   "source": [
    "len(e)"
   ]
  },
  {
   "cell_type": "code",
   "execution_count": 113,
   "metadata": {},
   "outputs": [
    {
     "data": {
      "text/plain": [
       "('c', 'school')"
      ]
     },
     "execution_count": 113,
     "metadata": {},
     "output_type": "execute_result"
    }
   ],
   "source": [
    "e.popitem()"
   ]
  },
  {
   "cell_type": "code",
   "execution_count": 115,
   "metadata": {},
   "outputs": [
    {
     "data": {
      "text/plain": [
       "{'b': 'class'}"
      ]
     },
     "execution_count": 115,
     "metadata": {},
     "output_type": "execute_result"
    }
   ],
   "source": [
    "e.pop('a')\n",
    "e"
   ]
  },
  {
   "cell_type": "code",
   "execution_count": 123,
   "metadata": {},
   "outputs": [],
   "source": [
    "del(e)\n"
   ]
  },
  {
   "cell_type": "code",
   "execution_count": null,
   "metadata": {},
   "outputs": [],
   "source": []
  },
  {
   "cell_type": "code",
   "execution_count": 121,
   "metadata": {},
   "outputs": [
    {
     "data": {
      "text/plain": [
       "{'a': 'name', 'b': 'class', 'c': 'school'}"
      ]
     },
     "execution_count": 121,
     "metadata": {},
     "output_type": "execute_result"
    }
   ],
   "source": [
    "e={'a':'name',\n",
    "  'b':'class',\n",
    "  'c':'school'}\n",
    "f=e.copy()\n",
    "f"
   ]
  },
  {
   "cell_type": "code",
   "execution_count": 127,
   "metadata": {},
   "outputs": [
    {
     "data": {
      "text/plain": [
       "dict_keys(['a', 'b', 'c'])"
      ]
     },
     "execution_count": 127,
     "metadata": {},
     "output_type": "execute_result"
    }
   ],
   "source": [
    "  e={'a':'name',\n",
    "  'b':'class',\n",
    "  'c':'school'}\n",
    "e.keys()\n"
   ]
  },
  {
   "cell_type": "code",
   "execution_count": 126,
   "metadata": {},
   "outputs": [
    {
     "data": {
      "text/plain": [
       "dict_values(['name', 'class', 'school'])"
      ]
     },
     "execution_count": 126,
     "metadata": {},
     "output_type": "execute_result"
    }
   ],
   "source": [
    "e.values()"
   ]
  },
  {
   "cell_type": "code",
   "execution_count": 131,
   "metadata": {},
   "outputs": [
    {
     "data": {
      "text/plain": [
       "{'b': 'class'}"
      ]
     },
     "execution_count": 131,
     "metadata": {},
     "output_type": "execute_result"
    }
   ],
   "source": [
    "b={'b':'name',\n",
    "  'b':'class'}\n",
    "b"
   ]
  },
  {
   "cell_type": "code",
   "execution_count": 132,
   "metadata": {},
   "outputs": [
    {
     "data": {
      "text/plain": [
       "{'e': 'name', 's': 'name'}"
      ]
     },
     "execution_count": 132,
     "metadata": {},
     "output_type": "execute_result"
    }
   ],
   "source": [
    "a={'e':'name',\n",
    "  's':'name'}\n",
    "a"
   ]
  },
  {
   "cell_type": "code",
   "execution_count": 135,
   "metadata": {},
   "outputs": [],
   "source": [
    "import webbrowser as wb"
   ]
  },
  {
   "cell_type": "code",
   "execution_count": 136,
   "metadata": {},
   "outputs": [
    {
     "data": {
      "text/plain": [
       "True"
      ]
     },
     "execution_count": 136,
     "metadata": {},
     "output_type": "execute_result"
    }
   ],
   "source": [
    "wb.open_new_tab('www.google.com')"
   ]
  },
  {
   "cell_type": "code",
   "execution_count": 6,
   "metadata": {},
   "outputs": [],
   "source": [
    "import webbrowser as wb"
   ]
  },
  {
   "cell_type": "code",
   "execution_count": 7,
   "metadata": {},
   "outputs": [
    {
     "data": {
      "text/plain": [
       "True"
      ]
     },
     "execution_count": 7,
     "metadata": {},
     "output_type": "execute_result"
    }
   ],
   "source": [
    "wb.open_new_tab('https://www.bing.com/search?q=jaipur')"
   ]
  },
  {
   "cell_type": "code",
   "execution_count": 5,
   "metadata": {},
   "outputs": [],
   "source": [
    "import webbrowser as wb"
   ]
  },
  {
   "cell_type": "code",
   "execution_count": null,
   "metadata": {},
   "outputs": [],
   "source": [
    "a=input('https://www.bing.com/search?q=jaipur')\n",
    "a='jaipur'\n",
    "q= %s '%a',\n",
    "q='{}' .format(a)"
   ]
  },
  {
   "cell_type": "code",
   "execution_count": 3,
   "metadata": {},
   "outputs": [
    {
     "name": "stdout",
     "output_type": "stream",
     "text": [
      "b is grater than a\n"
     ]
    }
   ],
   "source": [
    " a=5\n",
    "b=4\n",
    "if    (a<b):\n",
    "    print ('a is grater than b')\n",
    "else:\n",
    "    print('b is grater than a')"
   ]
  },
  {
   "cell_type": "code",
   "execution_count": 1,
   "metadata": {},
   "outputs": [
    {
     "name": "stdout",
     "output_type": "stream",
     "text": [
      "yes\n"
     ]
    }
   ],
   "source": [
    "a=6\n",
    "b=4\n",
    "if  (a>b):\n",
    "    print(\"yes\")\n",
    "else:\n",
    "    print(\"wrong\")\n"
   ]
  },
  {
   "cell_type": "code",
   "execution_count": 4,
   "metadata": {},
   "outputs": [
    {
     "name": "stdout",
     "output_type": "stream",
     "text": [
      "wrong\n"
     ]
    }
   ],
   "source": [
    "a=6\n",
    "b=4\n",
    "if  (a==b):\n",
    "    print(\"yes\")\n",
    "else:\n",
    "    print(\"wrong\")\n"
   ]
  },
  {
   "cell_type": "code",
   "execution_count": 5,
   "metadata": {},
   "outputs": [
    {
     "name": "stdout",
     "output_type": "stream",
     "text": [
      "yes\n"
     ]
    }
   ],
   "source": [
    "a=6\n",
    "b=4\n",
    "if  (a!=b):\n",
    "    print(\"yes\")\n",
    "else:\n",
    "    print(\"wrong\")\n"
   ]
  },
  {
   "cell_type": "code",
   "execution_count": 1,
   "metadata": {},
   "outputs": [
    {
     "data": {
      "text/plain": [
       "<function print>"
      ]
     },
     "execution_count": 1,
     "metadata": {},
     "output_type": "execute_result"
    }
   ],
   "source": [
    "print"
   ]
  },
  {
   "cell_type": "code",
   "execution_count": 2,
   "metadata": {},
   "outputs": [
    {
     "data": {
      "text/plain": [
       "<function print>"
      ]
     },
     "execution_count": 2,
     "metadata": {},
     "output_type": "execute_result"
    }
   ],
   "source": [
    "print\n"
   ]
  },
  {
   "cell_type": "code",
   "execution_count": 15,
   "metadata": {},
   "outputs": [
    {
     "name": "stdout",
     "output_type": "stream",
     "text": [
      "wrong\n"
     ]
    }
   ],
   "source": [
    "a=6\n",
    "b=4\n",
    "if  (a<b):\n",
    "    print(\"yes\")\n",
    "elif  (b<a):\n",
    "         print(\"wrong\")   \n",
    "else:\n",
    "    print(\"yes\")\n"
   ]
  },
  {
   "cell_type": "code",
   "execution_count": 12,
   "metadata": {},
   "outputs": [
    {
     "name": "stdout",
     "output_type": "stream",
     "text": [
      "yes\n",
      "wrong\n"
     ]
    }
   ],
   "source": [
    "a=6\n",
    "b=4\n",
    "if  (a>=b):\n",
    "    print(\"yes\")\n",
    "    if  (b<a):\n",
    "         print(\"wrong\")   \n",
    "else:\n",
    "    print(\"no\")\n"
   ]
  },
  {
   "cell_type": "code",
   "execution_count": 10,
   "metadata": {},
   "outputs": [
    {
     "name": "stdout",
     "output_type": "stream",
     "text": [
      "yes\n",
      "ads\n"
     ]
    }
   ],
   "source": [
    "a=6\n",
    "b=4\n",
    "while  (a>b):\n",
    "    print(\"yes\")\n",
    "    if  (b<a):\n",
    "        print(\"ads\")    \n",
    "        break \n",
    "else:\n",
    "    print(\"wrong\")\n"
   ]
  },
  {
   "cell_type": "code",
   "execution_count": 14,
   "metadata": {},
   "outputs": [
    {
     "name": "stdout",
     "output_type": "stream",
     "text": [
      "yes\n",
      "wrong\n"
     ]
    }
   ],
   "source": [
    "a=6\n",
    "b=4\n",
    "while  (a>b):\n",
    "    b+=4\n",
    "    print(\"yes\")\n",
    "    if  (b==6):\n",
    "        print(\"ads\")    \n",
    "        continue \n",
    "else:\n",
    "    print(\"wrong\")\n"
   ]
  },
  {
   "cell_type": "code",
   "execution_count": 18,
   "metadata": {},
   "outputs": [
    {
     "name": "stdout",
     "output_type": "stream",
     "text": [
      "1\n",
      "2\n",
      "3\n",
      "4\n",
      "5\n"
     ]
    }
   ],
   "source": [
    "a=[1,2,3,4,5]\n",
    "for i in a:\n",
    "    print(i)"
   ]
  },
  {
   "cell_type": "code",
   "execution_count": 24,
   "metadata": {},
   "outputs": [
    {
     "name": "stdout",
     "output_type": "stream",
     "text": [
      "abhi\n",
      "manaal\n",
      "anupam\n"
     ]
    }
   ],
   "source": [
    "b=['abhi','manaal','anupam']\n",
    "for i in b:\n",
    "    print(i)"
   ]
  },
  {
   "cell_type": "code",
   "execution_count": 28,
   "metadata": {},
   "outputs": [
    {
     "name": "stdout",
     "output_type": "stream",
     "text": [
      "a\n",
      "n\n",
      "u\n",
      "p\n",
      "a\n",
      "m\n"
     ]
    }
   ],
   "source": [
    "for l in i:\n",
    "    print(l)"
   ]
  },
  {
   "cell_type": "code",
   "execution_count": 32,
   "metadata": {},
   "outputs": [
    {
     "name": "stdout",
     "output_type": "stream",
     "text": [
      "a\n",
      "b\n",
      "h\n",
      "i\n"
     ]
    }
   ],
   "source": [
    "for i in 'abhi':\n",
    "    print(i)"
   ]
  },
  {
   "cell_type": "code",
   "execution_count": 33,
   "metadata": {},
   "outputs": [
    {
     "name": "stdout",
     "output_type": "stream",
     "text": [
      "a\n",
      "b\n",
      "h\n",
      "i\n",
      "m\n",
      "a\n",
      "n\n",
      "a\n",
      "a\n",
      "l\n",
      "a\n",
      "n\n",
      "u\n",
      "p\n",
      "a\n",
      "m\n"
     ]
    }
   ],
   "source": [
    "for i in b:\n",
    "    for j in i:\n",
    "        print(j)"
   ]
  },
  {
   "cell_type": "code",
   "execution_count": 51,
   "metadata": {},
   "outputs": [
    {
     "name": "stdout",
     "output_type": "stream",
     "text": [
      "ram\n"
     ]
    }
   ],
   "source": [
    "for i in b:\n",
    "    if(i in b):\n",
    "        print('ram')\n",
    "        break\n",
    "    else:\n",
    "        print('shyam')"
   ]
  },
  {
   "cell_type": "code",
   "execution_count": 44,
   "metadata": {},
   "outputs": [
    {
     "name": "stdout",
     "output_type": "stream",
     "text": [
      "shyam\n",
      "shyam\n",
      "shyam\n"
     ]
    }
   ],
   "source": [
    "for i in b:\n",
    "    if(i==b):\n",
    "        print('ram')\n",
    "        continue\n",
    "    else:\n",
    "        print('shyam')"
   ]
  },
  {
   "cell_type": "code",
   "execution_count": 49,
   "metadata": {},
   "outputs": [
    {
     "name": "stdout",
     "output_type": "stream",
     "text": [
      "shyam\n",
      "shyam\n",
      "shyam\n"
     ]
    }
   ],
   "source": [
    "for i in b:\n",
    "    if(i==b):\n",
    "        print('ram')\n",
    "    \n",
    "    else:\n",
    "        print('shyam')"
   ]
  },
  {
   "cell_type": "code",
   "execution_count": 50,
   "metadata": {},
   "outputs": [
    {
     "data": {
      "text/plain": [
       "['abhi', 'manaal', 'anupam']"
      ]
     },
     "execution_count": 50,
     "metadata": {},
     "output_type": "execute_result"
    }
   ],
   "source": [
    "b"
   ]
  },
  {
   "cell_type": "code",
   "execution_count": 62,
   "metadata": {},
   "outputs": [
    {
     "name": "stdout",
     "output_type": "stream",
     "text": [
      "manaal\n"
     ]
    }
   ],
   "source": [
    " if(i =='abhi'):\n",
    "        print('ram')\n",
    "elif(i =='anupam'):\n",
    "     print('manaal')\n",
    "else:\n",
    "    print('shyam')"
   ]
  },
  {
   "cell_type": "code",
   "execution_count": 163,
   "metadata": {},
   "outputs": [
    {
     "ename": "IndentationError",
     "evalue": "unexpected indent (<ipython-input-163-b4127699692e>, line 2)",
     "output_type": "error",
     "traceback": [
      "\u001b[1;36m  File \u001b[1;32m\"<ipython-input-163-b4127699692e>\"\u001b[1;36m, line \u001b[1;32m2\u001b[0m\n\u001b[1;33m    for x in furits:\u001b[0m\n\u001b[1;37m    ^\u001b[0m\n\u001b[1;31mIndentationError\u001b[0m\u001b[1;31m:\u001b[0m unexpected indent\n"
     ]
    }
   ],
   "source": [
    "fruits=[\"apple\",\"banana\",\"orange\"]\n",
    "  for x in furits:\n",
    "    if (x==\"fruit\")\n",
    "    break\n"
   ]
  },
  {
   "cell_type": "code",
   "execution_count": null,
   "metadata": {},
   "outputs": [],
   "source": []
  },
  {
   "cell_type": "code",
   "execution_count": null,
   "metadata": {},
   "outputs": [],
   "source": []
  },
  {
   "cell_type": "code",
   "execution_count": 88,
   "metadata": {},
   "outputs": [],
   "source": [
    "def xyz():\n",
    "     print(\"hello world\")\n",
    "    "
   ]
  },
  {
   "cell_type": "code",
   "execution_count": 89,
   "metadata": {},
   "outputs": [
    {
     "name": "stdout",
     "output_type": "stream",
     "text": [
      "hello world\n"
     ]
    }
   ],
   "source": [
    "xyz()"
   ]
  },
  {
   "cell_type": "code",
   "execution_count": 114,
   "metadata": {},
   "outputs": [],
   "source": [
    "def xyz(a,b):\n",
    "    print(\"hello world\"+a+b)\n"
   ]
  },
  {
   "cell_type": "code",
   "execution_count": 116,
   "metadata": {},
   "outputs": [
    {
     "name": "stdout",
     "output_type": "stream",
     "text": [
      "hello world abhi gupta\n"
     ]
    }
   ],
   "source": [
    "xyz(\" abhi \",\"gupta\")"
   ]
  },
  {
   "cell_type": "code",
   "execution_count": 110,
   "metadata": {},
   "outputs": [],
   "source": [
    "def xyz(a):\n",
    "    print(\"my name is-\"+a)"
   ]
  },
  {
   "cell_type": "code",
   "execution_count": 111,
   "metadata": {},
   "outputs": [
    {
     "name": "stdout",
     "output_type": "stream",
     "text": [
      "my name is-abhi\n"
     ]
    }
   ],
   "source": [
    "xyz(\"abhi\")"
   ]
  },
  {
   "cell_type": "code",
   "execution_count": 146,
   "metadata": {},
   "outputs": [],
   "source": [
    "l=[1,4,5,6]\n",
    "def d(a):\n",
    "    print(a)"
   ]
  },
  {
   "cell_type": "code",
   "execution_count": 160,
   "metadata": {},
   "outputs": [
    {
     "name": "stdout",
     "output_type": "stream",
     "text": [
      "[1, 2, 3, 4]\n"
     ]
    }
   ],
   "source": [
    "     d(l)"
   ]
  },
  {
   "cell_type": "code",
   "execution_count": 156,
   "metadata": {},
   "outputs": [],
   "source": [
    "l=[1,2,3,4]\n",
    "def p(a):\n",
    "    print(a)"
   ]
  },
  {
   "cell_type": "code",
   "execution_count": 158,
   "metadata": {},
   "outputs": [
    {
     "name": "stdout",
     "output_type": "stream",
     "text": [
      "1\n",
      "2\n",
      "3\n",
      "4\n"
     ]
    }
   ],
   "source": [
    " for i in l:\n",
    "    p(i)"
   ]
  },
  {
   "cell_type": "code",
   "execution_count": 145,
   "metadata": {},
   "outputs": [
    {
     "name": "stdout",
     "output_type": "stream",
     "text": [
      "[1, 2, 3, 4]\n"
     ]
    }
   ],
   "source": [
    "l=[1,2,3,4]\n",
    "print(l)"
   ]
  },
  {
   "cell_type": "code",
   "execution_count": 152,
   "metadata": {},
   "outputs": [
    {
     "name": "stdout",
     "output_type": "stream",
     "text": [
      "0\n",
      "1\n",
      "2\n",
      "3\n",
      "4\n",
      "5\n",
      "6\n",
      "7\n",
      "8\n",
      "9\n"
     ]
    }
   ],
   "source": [
    "for i in range (10):\n",
    "     print(i)"
   ]
  },
  {
   "cell_type": "code",
   "execution_count": 153,
   "metadata": {},
   "outputs": [
    {
     "name": "stdout",
     "output_type": "stream",
     "text": [
      "10\n",
      "11\n",
      "12\n",
      "13\n",
      "14\n",
      "15\n",
      "16\n",
      "17\n",
      "18\n",
      "19\n"
     ]
    }
   ],
   "source": [
    "for i in range (10,20):\n",
    "     print(i)"
   ]
  },
  {
   "cell_type": "code",
   "execution_count": 154,
   "metadata": {},
   "outputs": [
    {
     "name": "stdout",
     "output_type": "stream",
     "text": [
      "10\n",
      "13\n",
      "16\n",
      "19\n"
     ]
    }
   ],
   "source": [
    "for i in range (10,20,3):\n",
    "     print(i)"
   ]
  },
  {
   "cell_type": "code",
   "execution_count": 168,
   "metadata": {},
   "outputs": [],
   "source": [
    "a=[1,2,3,4,5,6,7,8,9,10]"
   ]
  },
  {
   "cell_type": "code",
   "execution_count": 172,
   "metadata": {},
   "outputs": [],
   "source": [
    "def abhi(a):\n",
    "    return(a*5)\n",
    "    print('abhi')"
   ]
  },
  {
   "cell_type": "code",
   "execution_count": 185,
   "metadata": {},
   "outputs": [
    {
     "ename": "AttributeError",
     "evalue": "module 'aaa' has no attribute 'abhi'",
     "output_type": "error",
     "traceback": [
      "\u001b[1;31m---------------------------------------------------------------------------\u001b[0m",
      "\u001b[1;31mAttributeError\u001b[0m                            Traceback (most recent call last)",
      "\u001b[1;32m<ipython-input-185-cff712473e22>\u001b[0m in \u001b[0;36m<module>\u001b[1;34m\u001b[0m\n\u001b[0;32m      1\u001b[0m \u001b[1;32mimport\u001b[0m \u001b[0maaa\u001b[0m\u001b[1;33m\u001b[0m\u001b[1;33m\u001b[0m\u001b[0m\n\u001b[1;32m----> 2\u001b[1;33m \u001b[0maaa\u001b[0m\u001b[1;33m.\u001b[0m\u001b[0mabhi\u001b[0m\u001b[1;33m(\u001b[0m\u001b[1;33m)\u001b[0m\u001b[1;33m\u001b[0m\u001b[1;33m\u001b[0m\u001b[0m\n\u001b[0m\u001b[0;32m      3\u001b[0m \u001b[1;33m\u001b[0m\u001b[0m\n",
      "\u001b[1;31mAttributeError\u001b[0m: module 'aaa' has no attribute 'abhi'"
     ]
    }
   ],
   "source": [
    "\n",
    "       "
   ]
  },
  {
   "cell_type": "code",
   "execution_count": 186,
   "metadata": {},
   "outputs": [],
   "source": [
    "import aaa"
   ]
  },
  {
   "cell_type": "code",
   "execution_count": 187,
   "metadata": {},
   "outputs": [
    {
     "ename": "AttributeError",
     "evalue": "module 'aaa' has no attribute 'abc'",
     "output_type": "error",
     "traceback": [
      "\u001b[1;31m---------------------------------------------------------------------------\u001b[0m",
      "\u001b[1;31mAttributeError\u001b[0m                            Traceback (most recent call last)",
      "\u001b[1;32m<ipython-input-187-eefda3ba1330>\u001b[0m in \u001b[0;36m<module>\u001b[1;34m\u001b[0m\n\u001b[1;32m----> 1\u001b[1;33m \u001b[0maaa\u001b[0m\u001b[1;33m.\u001b[0m\u001b[0mabc\u001b[0m\u001b[1;33m(\u001b[0m\u001b[1;33m)\u001b[0m\u001b[1;33m\u001b[0m\u001b[1;33m\u001b[0m\u001b[0m\n\u001b[0m",
      "\u001b[1;31mAttributeError\u001b[0m: module 'aaa' has no attribute 'abc'"
     ]
    }
   ],
   "source": [
    "aaa.abc()"
   ]
  },
  {
   "cell_type": "code",
   "execution_count": 188,
   "metadata": {},
   "outputs": [],
   "source": [
    "import aaa"
   ]
  },
  {
   "cell_type": "code",
   "execution_count": 189,
   "metadata": {},
   "outputs": [
    {
     "ename": "AttributeError",
     "evalue": "module 'aaa' has no attribute 'abc'",
     "output_type": "error",
     "traceback": [
      "\u001b[1;31m---------------------------------------------------------------------------\u001b[0m",
      "\u001b[1;31mAttributeError\u001b[0m                            Traceback (most recent call last)",
      "\u001b[1;32m<ipython-input-189-eefda3ba1330>\u001b[0m in \u001b[0;36m<module>\u001b[1;34m\u001b[0m\n\u001b[1;32m----> 1\u001b[1;33m \u001b[0maaa\u001b[0m\u001b[1;33m.\u001b[0m\u001b[0mabc\u001b[0m\u001b[1;33m(\u001b[0m\u001b[1;33m)\u001b[0m\u001b[1;33m\u001b[0m\u001b[1;33m\u001b[0m\u001b[0m\n\u001b[0m",
      "\u001b[1;31mAttributeError\u001b[0m: module 'aaa' has no attribute 'abc'"
     ]
    }
   ],
   "source": [
    "aaa.abc()"
   ]
  },
  {
   "cell_type": "code",
   "execution_count": 192,
   "metadata": {},
   "outputs": [],
   "source": [
    "import datetime as dt"
   ]
  },
  {
   "cell_type": "code",
   "execution_count": 195,
   "metadata": {},
   "outputs": [],
   "source": [
    "x=dt.datetime.now()"
   ]
  },
  {
   "cell_type": "code",
   "execution_count": 196,
   "metadata": {},
   "outputs": [
    {
     "data": {
      "text/plain": [
       "2019"
      ]
     },
     "execution_count": 196,
     "metadata": {},
     "output_type": "execute_result"
    }
   ],
   "source": [
    "x.year"
   ]
  },
  {
   "cell_type": "code",
   "execution_count": 197,
   "metadata": {},
   "outputs": [
    {
     "data": {
      "text/plain": [
       "6"
      ]
     },
     "execution_count": 197,
     "metadata": {},
     "output_type": "execute_result"
    }
   ],
   "source": [
    "x.month"
   ]
  },
  {
   "cell_type": "code",
   "execution_count": 201,
   "metadata": {},
   "outputs": [],
   "source": [
    "import time"
   ]
  },
  {
   "cell_type": "code",
   "execution_count": 203,
   "metadata": {},
   "outputs": [
    {
     "data": {
      "text/plain": [
       "'Thu Jun 27 16:03:13 2019'"
      ]
     },
     "execution_count": 203,
     "metadata": {},
     "output_type": "execute_result"
    }
   ],
   "source": [
    "time.ctime()"
   ]
  },
  {
   "cell_type": "code",
   "execution_count": 8,
   "metadata": {},
   "outputs": [
    {
     "name": "stdout",
     "output_type": "stream",
     "text": [
      "0.5\n",
      "2.0\n"
     ]
    }
   ],
   "source": [
    "try:\n",
    "    print(0/0)\n",
    "except: \n",
    "    print(1/2)\n",
    "finally: \n",
    "    print(4/2)"
   ]
  },
  {
   "cell_type": "code",
   "execution_count": 9,
   "metadata": {},
   "outputs": [],
   "source": [
    "import os"
   ]
  },
  {
   "cell_type": "code",
   "execution_count": 11,
   "metadata": {},
   "outputs": [
    {
     "data": {
      "text/plain": [
       "1"
      ]
     },
     "execution_count": 11,
     "metadata": {},
     "output_type": "execute_result"
    }
   ],
   "source": [
    "os.system('mkdirabhi')"
   ]
  },
  {
   "cell_type": "code",
   "execution_count": 13,
   "metadata": {},
   "outputs": [
    {
     "data": {
      "text/plain": [
       "0"
      ]
     },
     "execution_count": 13,
     "metadata": {},
     "output_type": "execute_result"
    }
   ],
   "source": [
    "os.system('dir')"
   ]
  },
  {
   "cell_type": "code",
   "execution_count": 16,
   "metadata": {},
   "outputs": [
    {
     "data": {
      "text/plain": [
       "0"
      ]
     },
     "execution_count": 16,
     "metadata": {},
     "output_type": "execute_result"
    }
   ],
   "source": [
    "os.system('rmdir abhi')"
   ]
  },
  {
   "cell_type": "code",
   "execution_count": 18,
   "metadata": {},
   "outputs": [],
   "source": [
    "f=open('abc.txt','w')\n",
    "f.write('hello')\n",
    "f.close()"
   ]
  },
  {
   "cell_type": "code",
   "execution_count": 73,
   "metadata": {},
   "outputs": [],
   "source": [
    "f=open('abc.txt','a')\n",
    "f.write('hello')\n",
    "f.close()"
   ]
  },
  {
   "cell_type": "code",
   "execution_count": 33,
   "metadata": {},
   "outputs": [
    {
     "data": {
      "text/plain": [
       "'hellohellohello'"
      ]
     },
     "execution_count": 33,
     "metadata": {},
     "output_type": "execute_result"
    }
   ],
   "source": [
    "f=open('abc.txt','r')\n",
    "f.read()\n",
    "\n"
   ]
  },
  {
   "cell_type": "code",
   "execution_count": 34,
   "metadata": {},
   "outputs": [],
   "source": []
  },
  {
   "cell_type": "code",
   "execution_count": null,
   "metadata": {},
   "outputs": [],
   "source": []
  },
  {
   "cell_type": "markdown",
   "metadata": {},
   "source": [
    "os.remove('abc.txt')"
   ]
  },
  {
   "cell_type": "code",
   "execution_count": 41,
   "metadata": {},
   "outputs": [],
   "source": []
  },
  {
   "cell_type": "code",
   "execution_count": 46,
   "metadata": {},
   "outputs": [],
   "source": [
    "f=open('abc.txt','a')\n",
    "f.write('hello')\n",
    "f.close()"
   ]
  },
  {
   "cell_type": "code",
   "execution_count": 49,
   "metadata": {},
   "outputs": [
    {
     "ename": "PermissionError",
     "evalue": "[WinError 32] The process cannot access the file because it is being used by another process: 'abc.txt'",
     "output_type": "error",
     "traceback": [
      "\u001b[1;31m---------------------------------------------------------------------------\u001b[0m",
      "\u001b[1;31mPermissionError\u001b[0m                           Traceback (most recent call last)",
      "\u001b[1;32m<ipython-input-49-5f7e2466f695>\u001b[0m in \u001b[0;36m<module>\u001b[1;34m\u001b[0m\n\u001b[1;32m----> 1\u001b[1;33m \u001b[0mos\u001b[0m\u001b[1;33m.\u001b[0m\u001b[0mremove\u001b[0m\u001b[1;33m(\u001b[0m\u001b[1;34m'abc.txt'\u001b[0m\u001b[1;33m)\u001b[0m\u001b[1;33m\u001b[0m\u001b[1;33m\u001b[0m\u001b[0m\n\u001b[0m",
      "\u001b[1;31mPermissionError\u001b[0m: [WinError 32] The process cannot access the file because it is being used by another process: 'abc.txt'"
     ]
    }
   ],
   "source": [
    "os.remove('abc.txt')"
   ]
  },
  {
   "cell_type": "code",
   "execution_count": 50,
   "metadata": {},
   "outputs": [
    {
     "data": {
      "text/plain": [
       "<function print>"
      ]
     },
     "execution_count": 50,
     "metadata": {},
     "output_type": "execute_result"
    }
   ],
   "source": [
    "print"
   ]
  },
  {
   "cell_type": "code",
   "execution_count": 51,
   "metadata": {},
   "outputs": [],
   "source": [
    "f=open('abc.txt','w')\n",
    "f.write('hello')\n",
    "f.close()"
   ]
  },
  {
   "cell_type": "code",
   "execution_count": 52,
   "metadata": {},
   "outputs": [],
   "source": [
    "import os"
   ]
  },
  {
   "cell_type": "code",
   "execution_count": 53,
   "metadata": {},
   "outputs": [
    {
     "ename": "PermissionError",
     "evalue": "[WinError 32] The process cannot access the file because it is being used by another process: 'abc.txt'",
     "output_type": "error",
     "traceback": [
      "\u001b[1;31m---------------------------------------------------------------------------\u001b[0m",
      "\u001b[1;31mPermissionError\u001b[0m                           Traceback (most recent call last)",
      "\u001b[1;32m<ipython-input-53-5f7e2466f695>\u001b[0m in \u001b[0;36m<module>\u001b[1;34m\u001b[0m\n\u001b[1;32m----> 1\u001b[1;33m \u001b[0mos\u001b[0m\u001b[1;33m.\u001b[0m\u001b[0mremove\u001b[0m\u001b[1;33m(\u001b[0m\u001b[1;34m'abc.txt'\u001b[0m\u001b[1;33m)\u001b[0m\u001b[1;33m\u001b[0m\u001b[1;33m\u001b[0m\u001b[0m\n\u001b[0m",
      "\u001b[1;31mPermissionError\u001b[0m: [WinError 32] The process cannot access the file because it is being used by another process: 'abc.txt'"
     ]
    }
   ],
   "source": [
    "os.remove('abc.txt')"
   ]
  },
  {
   "cell_type": "code",
   "execution_count": 54,
   "metadata": {},
   "outputs": [],
   "source": [
    "import os"
   ]
  },
  {
   "cell_type": "code",
   "execution_count": 55,
   "metadata": {},
   "outputs": [],
   "source": [
    "f=open('abc.txt','w')\n",
    "f.write('hello')\n",
    "f.close()"
   ]
  },
  {
   "cell_type": "code",
   "execution_count": 61,
   "metadata": {},
   "outputs": [
    {
     "ename": "PermissionError",
     "evalue": "[WinError 32] The process cannot access the file because it is being used by another process: 'abc.txt'",
     "output_type": "error",
     "traceback": [
      "\u001b[1;31m---------------------------------------------------------------------------\u001b[0m",
      "\u001b[1;31mPermissionError\u001b[0m                           Traceback (most recent call last)",
      "\u001b[1;32m<ipython-input-61-d977dbf03bad>\u001b[0m in \u001b[0;36m<module>\u001b[1;34m\u001b[0m\n\u001b[1;32m----> 1\u001b[1;33m \u001b[0mos\u001b[0m\u001b[1;33m.\u001b[0m\u001b[0mremove\u001b[0m\u001b[1;33m(\u001b[0m\u001b[1;34m\"abc.txt\"\u001b[0m\u001b[1;33m)\u001b[0m\u001b[1;33m\u001b[0m\u001b[1;33m\u001b[0m\u001b[0m\n\u001b[0m",
      "\u001b[1;31mPermissionError\u001b[0m: [WinError 32] The process cannot access the file because it is being used by another process: 'abc.txt'"
     ]
    }
   ],
   "source": [
    "os.remove(\"abc.txt\")"
   ]
  },
  {
   "cell_type": "code",
   "execution_count": 62,
   "metadata": {},
   "outputs": [
    {
     "ename": "SyntaxError",
     "evalue": "invalid syntax (<ipython-input-62-dbca41082e93>, line 3)",
     "output_type": "error",
     "traceback": [
      "\u001b[1;36m  File \u001b[1;32m\"<ipython-input-62-dbca41082e93>\"\u001b[1;36m, line \u001b[1;32m3\u001b[0m\n\u001b[1;33m    floor value(//)\u001b[0m\n\u001b[1;37m              ^\u001b[0m\n\u001b[1;31mSyntaxError\u001b[0m\u001b[1;31m:\u001b[0m invalid syntax\n"
     ]
    }
   ],
   "source": [
    "skitlen\n",
    "re(regular function)\n",
    "floor value(//)"
   ]
  },
  {
   "cell_type": "code",
   "execution_count": 1,
   "metadata": {},
   "outputs": [
    {
     "ename": "ModuleNotFoundError",
     "evalue": "No module named 'mysql'",
     "output_type": "error",
     "traceback": [
      "\u001b[1;31m---------------------------------------------------------------------------\u001b[0m",
      "\u001b[1;31mModuleNotFoundError\u001b[0m                       Traceback (most recent call last)",
      "\u001b[1;32m<ipython-input-1-64c3dc79fd7d>\u001b[0m in \u001b[0;36m<module>\u001b[1;34m\u001b[0m\n\u001b[1;32m----> 1\u001b[1;33m \u001b[1;32mimport\u001b[0m \u001b[0mmysql\u001b[0m\u001b[1;33m.\u001b[0m\u001b[0mconnector\u001b[0m\u001b[1;33m\u001b[0m\u001b[1;33m\u001b[0m\u001b[0m\n\u001b[0m\u001b[0;32m      2\u001b[0m \u001b[1;33m\u001b[0m\u001b[0m\n\u001b[0;32m      3\u001b[0m mydb = mysql.connector.connect(\n\u001b[0;32m      4\u001b[0m   \u001b[0mhost\u001b[0m\u001b[1;33m=\u001b[0m\u001b[1;34m\"localhost\"\u001b[0m\u001b[1;33m,\u001b[0m\u001b[1;33m\u001b[0m\u001b[1;33m\u001b[0m\u001b[0m\n\u001b[0;32m      5\u001b[0m   \u001b[0muser\u001b[0m\u001b[1;33m=\u001b[0m\u001b[1;34m\"yourusername\"\u001b[0m\u001b[1;33m,\u001b[0m\u001b[1;33m\u001b[0m\u001b[1;33m\u001b[0m\u001b[0m\n",
      "\u001b[1;31mModuleNotFoundError\u001b[0m: No module named 'mysql'"
     ]
    }
   ],
   "source": [
    "import mysql.connector\n",
    "\n",
    "mydb = mysql.connector.connect(\n",
    "  host=\"localhost\",\n",
    "  user=\"yourusername\",\n",
    "  passwd=\"yourpassword\",\n",
    "  database=\"mydatabase\"\n",
    ")\n",
    "\n",
    "mycursor = mydb.cursor()\n",
    "\n",
    "sql = \"SELECT * FROM customers ORDER BY name DESC\"\n",
    "\n",
    "mycursor.execute(sql)\n",
    "\n",
    "myresult = mycursor.fetchall()\n",
    "\n",
    "for x in myresult:\n",
    "  print(x)"
   ]
  },
  {
   "cell_type": "code",
   "execution_count": 2,
   "metadata": {},
   "outputs": [
    {
     "ename": "SyntaxError",
     "evalue": "invalid syntax (<ipython-input-2-40c09c461e77>, line 1)",
     "output_type": "error",
     "traceback": [
      "\u001b[1;36m  File \u001b[1;32m\"<ipython-input-2-40c09c461e77>\"\u001b[1;36m, line \u001b[1;32m1\u001b[0m\n\u001b[1;33m    dynamo db, hipe(use in haddop),mysqual(same as dymamo db),sql\u001b[0m\n\u001b[1;37m            ^\u001b[0m\n\u001b[1;31mSyntaxError\u001b[0m\u001b[1;31m:\u001b[0m invalid syntax\n"
     ]
    }
   ],
   "source": [
    "dynamo db, hipe(use in haddop),mysqual(same as dymamo db),sql  "
   ]
  },
  {
   "cell_type": "code",
   "execution_count": 4,
   "metadata": {},
   "outputs": [],
   "source": [
    "x=\"hello\""
   ]
  },
  {
   "cell_type": "code",
   "execution_count": 6,
   "metadata": {},
   "outputs": [],
   "source": [
    "def abc(a):\n",
    "    print(a)\n",
    " "
   ]
  },
  {
   "cell_type": "code",
   "execution_count": 7,
   "metadata": {},
   "outputs": [
    {
     "name": "stdout",
     "output_type": "stream",
     "text": [
      "hello\n"
     ]
    }
   ],
   "source": [
    "abc(x)"
   ]
  },
  {
   "cell_type": "code",
   "execution_count": 8,
   "metadata": {},
   "outputs": [],
   "source": [
    "z=\"world\""
   ]
  },
  {
   "cell_type": "code",
   "execution_count": 9,
   "metadata": {},
   "outputs": [],
   "source": [
    "def abh(c):\n",
    "    print(c)"
   ]
  },
  {
   "cell_type": "code",
   "execution_count": 10,
   "metadata": {},
   "outputs": [
    {
     "name": "stdout",
     "output_type": "stream",
     "text": [
      "world\n"
     ]
    }
   ],
   "source": [
    "abh(z)"
   ]
  },
  {
   "cell_type": "code",
   "execution_count": 25,
   "metadata": {},
   "outputs": [],
   "source": [
    "import threading"
   ]
  },
  {
   "cell_type": "code",
   "execution_count": 36,
   "metadata": {},
   "outputs": [],
   "source": [
    "if __name__=='__main__':\n",
    "    t1=threading.Thread(\n",
    "        target=abc,args=('hello',))\n",
    "    t2=threading.Thread(\n",
    "        target=abh,args=('abhi',))\n",
    " "
   ]
  },
  {
   "cell_type": "code",
   "execution_count": 37,
   "metadata": {},
   "outputs": [
    {
     "name": "stdout",
     "output_type": "stream",
     "text": [
      "hello\n",
      "abhi\n",
      "process completed\n"
     ]
    }
   ],
   "source": [
    "t1.start()\n",
    "t2.start()\n",
    "t1.join()\n",
    "t2.join()\n",
    "print('process completed')"
   ]
  },
  {
   "cell_type": "code",
   "execution_count": 38,
   "metadata": {},
   "outputs": [],
   "source": [
    "import threading"
   ]
  },
  {
   "cell_type": "code",
   "execution_count": 39,
   "metadata": {},
   "outputs": [],
   "source": [
    "if __name__=='__main__':\n",
    "    t1=threading.Thread(\n",
    "        target=abc,args=('hello',))\n",
    "    t2=threading.Thread(\n",
    "        target=abh,args=('abhi',))\n",
    " "
   ]
  },
  {
   "cell_type": "code",
   "execution_count": 40,
   "metadata": {},
   "outputs": [
    {
     "name": "stdout",
     "output_type": "stream",
     "text": [
      "hello\n",
      "abhi\n",
      "process completed\n"
     ]
    }
   ],
   "source": [
    "t1.start()\n",
    "t2.start()\n",
    "t1.join()\n",
    "t2.join()\n",
    "\n",
    "print('process completed')"
   ]
  },
  {
   "cell_type": "code",
   "execution_count": 126,
   "metadata": {},
   "outputs": [
    {
     "name": "stdout",
     "output_type": "stream",
     "text": [
      "1\n",
      "2\n",
      "3\n",
      "4\n",
      "5\n",
      "0.5\n",
      "2.0\n"
     ]
    }
   ],
   "source": [
    "m=[1,2,3,4,5]\n",
    "for i in m:\n",
    "    print(i)\n",
    "try:\n",
    "    print(1/2)\n",
    "except: \n",
    "    print(1/3)\n",
    "finally: \n",
    "    print(4/2)"
   ]
  },
  {
   "cell_type": "code",
   "execution_count": 72,
   "metadata": {},
   "outputs": [
    {
     "name": "stdout",
     "output_type": "stream",
     "text": [
      "wrong\n"
     ]
    }
   ],
   "source": [
    "i+=2\n",
    "if (i==4):\n",
    "    print(i)\n",
    "else:\n",
    "    print('wrong')\n",
    "    x=open('abc.txt','w')\n",
    "    x.write('continue')\n",
    "    x.close()\n",
    "   "
   ]
  },
  {
   "cell_type": "code",
   "execution_count": 77,
   "metadata": {},
   "outputs": [
    {
     "name": "stdout",
     "output_type": "stream",
     "text": [
      "hello\n",
      "abhi\n",
      "process completed\n"
     ]
    }
   ],
   "source": [
    "x=open('abc.txt','a')\n",
    "x.write('aage bedho')\n",
    "x.close\n"
   ]
  },
  {
   "cell_type": "code",
   "execution_count": 111,
   "metadata": {},
   "outputs": [],
   "source": [
    "import ab"
   ]
  },
  {
   "cell_type": "code",
   "execution_count": null,
   "metadata": {},
   "outputs": [],
   "source": []
  },
  {
   "cell_type": "code",
   "execution_count": null,
   "metadata": {},
   "outputs": [],
   "source": []
  },
  {
   "cell_type": "code",
   "execution_count": 114,
   "metadata": {},
   "outputs": [],
   "source": [
    "import adc"
   ]
  },
  {
   "cell_type": "code",
   "execution_count": 117,
   "metadata": {},
   "outputs": [
    {
     "name": "stdout",
     "output_type": "stream",
     "text": [
      "by abhi\n"
     ]
    },
    {
     "data": {
      "text/plain": [
       "0"
      ]
     },
     "execution_count": 117,
     "metadata": {},
     "output_type": "execute_result"
    }
   ],
   "source": [
    "adc.abc()\n",
    "import os\n",
    "os.system(\"mkdir a\")\n"
   ]
  },
  {
   "cell_type": "code",
   "execution_count": 122,
   "metadata": {},
   "outputs": [
    {
     "data": {
      "text/plain": [
       "True"
      ]
     },
     "execution_count": 122,
     "metadata": {},
     "output_type": "execute_result"
    }
   ],
   "source": [
    "import webbrowser as raso\n",
    "raso.open_new_tab('www.google.com')"
   ]
  },
  {
   "cell_type": "code",
   "execution_count": 123,
   "metadata": {},
   "outputs": [
    {
     "data": {
      "text/plain": [
       "datetime.datetime(2019, 6, 29, 13, 12, 59, 124180)"
      ]
     },
     "execution_count": 123,
     "metadata": {},
     "output_type": "execute_result"
    }
   ],
   "source": [
    "import datetime as dt\n",
    "dt.datetime.now()\n"
   ]
  },
  {
   "cell_type": "code",
   "execution_count": 124,
   "metadata": {},
   "outputs": [
    {
     "data": {
      "text/plain": [
       "'Sat Jun 29 13:13:39 2019'"
      ]
     },
     "execution_count": 124,
     "metadata": {},
     "output_type": "execute_result"
    }
   ],
   "source": [
    "import time as t\n",
    "t.ctime()"
   ]
  },
  {
   "cell_type": "code",
   "execution_count": 127,
   "metadata": {},
   "outputs": [
    {
     "name": "stdout",
     "output_type": "stream",
     "text": [
      "hello\n",
      "abhi\n",
      "process completed\n"
     ]
    }
   ],
   "source": [
    "import threading\n",
    "if __name__=='__main__':\n",
    "    t1=threading.Thread(\n",
    "        target=abc,args=('hello',))\n",
    "    t2=threading.Thread(\n",
    "        target=abh,args=('abhi',))\n",
    "    t1.start()\n",
    "t2.start()\n",
    "t1.join()\n",
    "t2.join()\n",
    "print('process completed')\n",
    " "
   ]
  },
  {
   "cell_type": "code",
   "execution_count": 141,
   "metadata": {},
   "outputs": [
    {
     "name": "stdout",
     "output_type": "stream",
     "text": [
      "<function abc at 0x00000292E6F37730>\n",
      "process completed\n"
     ]
    }
   ],
   "source": [
    "def qwerty(abc):\n",
    "     abc=(\"\"\" m=[1,2,3,4,5]\n",
    "        for i in m:\n",
    "    print(i)\n",
    "try:\n",
    "    print(1/2)\n",
    "except: \n",
    "    print(1/3)\n",
    "finally: \n",
    "    print(4/2)\n",
    "    i+=2\n",
    "if (i==4):\n",
    "    print(i)\n",
    "else:\n",
    "    print('wrong')\n",
    "    x=open('abc.txt','w')\n",
    "    x.write('continue')\n",
    "    x.close()\n",
    "    x=open('abc.txt','a')\n",
    "x.write('aage bedho')\n",
    "x.close\n",
    "import adc\n",
    "adc.abc()\n",
    "import os\n",
    "os.system(\"mkdir a\")\n",
    "import webbrowser as raso\n",
    "raso.open_new_tab('www.google.com')\n",
    "import datetime as dt\n",
    "dt.datetime.now()\n",
    "import time as t\n",
    "t.ctime()\"\"\" )\n",
    "print (abc)\n",
    "import threading\n",
    "if __name__=='__main__':\n",
    "    t1=threading.Thread(\n",
    "        target=qwerty,args=('hello',))\n",
    "   \n",
    "    t1.start()\n",
    "    t1.join()\n",
    "\n",
    "print('process completed')\n",
    " \n"
   ]
  },
  {
   "cell_type": "code",
   "execution_count": null,
   "metadata": {},
   "outputs": [],
   "source": [
    "import time\n",
    "a=time.ctime()\n",
    "b=a.split()\n",
    "while True:\n",
    "    if ( b[3]=='14:15:00'):\n",
    "        print(\"hello\")\n",
    "        break"
   ]
  },
  {
   "cell_type": "code",
   "execution_count": null,
   "metadata": {},
   "outputs": [],
   "source": [
    "pandas\n",
    "salenium\n",
    "soup\n",
    "code pen"
   ]
  },
  {
   "cell_type": "code",
   "execution_count": 41,
   "metadata": {},
   "outputs": [],
   "source": [
    "from bs4 import BeautifulSoup"
   ]
  },
  {
   "cell_type": "code",
   "execution_count": 42,
   "metadata": {},
   "outputs": [],
   "source": [
    "import requests"
   ]
  },
  {
   "cell_type": "code",
   "execution_count": 43,
   "metadata": {},
   "outputs": [
    {
     "data": {
      "text/plain": [
       "<Response [200]>"
      ]
     },
     "execution_count": 43,
     "metadata": {},
     "output_type": "execute_result"
    }
   ],
   "source": [
    "url=requests.get(\"https://www.cricbuzz.com\")\n",
    "url"
   ]
  },
  {
   "cell_type": "code",
   "execution_count": 44,
   "metadata": {},
   "outputs": [
    {
     "data": {
      "text/plain": [
       "'\\r\\n\\r\\n<!DOCTYPE html><html lang=\"en\" itemscope itemtype=\"http://schema.org/WebPage\"><head><meta charset=\"utf-8\"><script>var is_mobile = /symbian|tizen|midp|uc(web|browser)|MSIE (5.0|6.0|7.0|8.0)|tablet/i.test(navigator.userAgent);\\tif(is_mobile && window.location.hostname != \"www1.cricbuzz.com\") window.location.hostname = \"m.cricbuzz.com\";</script><style>body{background:#E3E6E3; font-family: helvetica,\"Segoe UI\",Arial,sans-serif;color:#222;font-size:14px; line-height: 1.5; margin:0;}\\tbody, .cb-comm-pg, .cb-hm-mid {min-height:1000px}\\t.container{width:980px;margin:0 auto;}\\t.page{max-width: 980px;margin: 0 auto;position: relative;}\\t.cb-col-8 {width:8%;}\\t.cb-col-10 {width:10%;}\\t.cb-col-14 {width:14%;}\\t.cb-col-16 {width:16%;}\\t.cb-col-20 {width:20%;}\\t.cb-col-25 {width:25%;}\\t.cb-col-27 {width:27%;}\\t.cb-col-33 {width:33%;}\\t.cb-col-40 {width:40%;}\\t.cb-col-46 {width:46%;}\\t.cb-col-47 {width:47%;}\\t.cb-col-50 {width:50%;}\\t.cb-col-60 {width:60%;}\\t.cb-col-66 {width:66%;}\\t.cb-col-67 {width:67%;}\\t.cb-col-73 {width:73%;}\\t.cb-col-75 {width:75%;}\\t.cb-col-84 {width:84%;}\\t.cb-col-80 {width:80%;}\\t.cb-col-90{width:90%;}\\t.cb-col-100 {width:100%;}\\t.cb-col {display: inline-block;box-sizing: border-box;float: left; min-height: 1px;}\\th1 {font-size: 36px;line-height: 42px; margin:0;}\\th2 {font-size: 24px; margin:0; line-height: 30px;}\\th3 {font-size: 18px;line-height: 24px; margin:0; }\\th4 {font-size: 16px; margin:0; }\\th5 {font-size: 14px; margin: 0;}\\t.cb-font-18 {font-size:18px;}\\timg{border-radius: 4px;}\\ta {text-decoration: none; color:#222;}\\ta, a:hover, a:active, a:focus {outline: medium none;}\\t.text-center {text-align: center;}\\t.cb-nws-lft-col{padding:15px 20px;}\\t.cb-nws-dtl-lft-col {padding: 10px 30px 0 30px;border-right: 1px solid #ecebeb ;}\\t.cb-nws-lst-rt{padding-left: 10px;}\\t.cb-srs-lst-itm {padding: 10px 0;}\\t.cb-lst-itm-sm{padding:10px 0 5px;}\\t.cb-scrd-lft-col{padding:15px 10px;} .cb-col-rt{padding: 10px;}\\t.text-white{color: #fff;}\\t.cb-scrd-hdr-rw, .cb-nav-pill-1.active {background: #028062 ;color: #fff;}\\t.cb-nav{position:relative; height:48px;background: #009270;}\\t.cb-hm-mnu-itm{padding: 16px 6px 11px; color:#fff; display:inline-block;}\\t.cb-hm-text{padding:10px 18px 10px 20px;}\\t.cb-hm-rght{padding: 15px;}\\t.cb-subnav .cb-sub-navigation {display: none; position: absolute;}\\t.cb-mat-mnu{background:#4a4a4a; width:980px; font-size: 0;}\\t.cb-mat-mnu-itm{font-size:12px; color:#fff; padding:10px; cursor: pointer; display:inline-block; max-width: 140px;}\\t.cb-mat-mnu-ttl{background: #333; padding: 10px 20px;}\\t.cb-mat-mnu-wrp{margin-bottom: 10px;}\\t.cb-ovr-flo{overflow: hidden; white-space: nowrap; text-overflow: ellipsis;}\\t.cb-mat-mnu-all{text-align: center; float: right; width:60px;}\\t.cb-nav-main{border-bottom:1px solid #e3e6e3;padding:0 0 5px 20px;}\\t.cb-nav-bar{padding-top:10px;clear:both;}\\t.cb-lst-itm, .cb-bg-white{background: #fff;}\\t.cb-nav-tab.active, .cb-nav-tab-hm.active{ font-weight: bold; color: #028062;}\\t.cb-nav-tab.active {border-bottom: 3px solid #028062; line-height: 24px; }\\t.cb-nav-tab-hm.active{ border-bottom:2px solid #028062; line-height: 22px;}\\t.cb-nav-tab{margin-right:20px;padding-bottom:6px;}\\t.cb-nav-tab-hm{margin-right:15px;padding-bottom:6px;}\\t.cb-nav-hdr{padding-top:15px}\\t.cb-nav-subhdr{padding:5px 0 10px 0;}\\t.cb-lv-scr-mtch-hdr{line-height: 21px;font-size: 16px;}\\t.disp-none{display:none;}\\t.disp-blck{display:block;}\\t.cb-font-24{font-size: 24px;}\\t.line-ht30{line-height: 30px;}\\t.line-ht24{line-height: 24px;}\\t.cb-hm-scg-blk{background: #fff; margin-bottom: 5px; height:90px;}\\t.mrgn-btm-5{margin-bottom : 5px;}\\t#scagTabContent .show{display: block; visibility: visible;}\\t#scagTabContent .hide{display: none; visibility: hidden;}\\t[ng\\\\:cloak], [ng-cloak], [data-ng-cloak], [x-ng-cloak], .ng-cloak, .x-ng-cloak { display: none !important;}\\t.cb-hm-lft{margin-bottom:5px;padding:0 15px;}\\t.cb-hm-lft-hdr{margin:0; padding:15px 15px 0; color: #009270;} .cb-hm-mid {border-left: 5px solid #e3e6e3 ;border-right: 5px solid #e3e6e3 ;padding: 0 15px;} .cb-mtch-blk {border-right: 1px solid #ecebeb ;line-height: 1.4;margin: 15px 0;padding: 0 20px;}\\t.crd-cntxt{font-size: 12px; color:#666; padding-bottom: 10px;}\\t.big-crd-main{border-top: 1px solid #ecebeb;padding:15px 0 5px; margin-bottom: 1px;clear: both;} .big-crd-reltd-itm {margin: 0 0 10px; width:100%; display: inline-block;}\\t.cb-nws-time{font-size:12px; padding-bottom: 5px;}\\t.cb-nws-hdln-ancr{padding-bottom: 5px;}\\t.cb-hmscg-bwl-txt, .cb-hmscg-bat-txt{font-weight:bold; padding-bottom:4px; height:18px;}\\t.cb-hmscg-bwl-txt{color:#666;}\\t.sml-crd-main{padding: 15px 0 5px; width: 100%;}\\t.big-crd-hdln{margin: 10px 0;}\\t.big-crd-rltd-txt {font-weight: bold; margin:10px 0; color:#1866DB;} .cb-nws-intr {color: #666;padding-bottom: 5px;} .cb-lv-scrs-well {background: #f5f5f5 ;display: inline-block;margin: 10px 0;padding: 10px 5px;}\\t.cb-hm-mtch-crd-width{min-width:300px;}\\t.cb-mr-30{margin-right: 30px;} .cb-schdl-hdr {margin: 0;padding: 15px 0 10px 10px;} .cb-lst-itm-lg {padding: 20px 0;} .cb-left-pad {padding: 20px 10px 0;}\\t.cb-nav-pill-1 {background: #CFE0DB;border-radius: 20px;color: #222;cursor: pointer;margin-right: 15px;padding: 5px 20px;} .cb-mtch-lst {padding: 15px 0;}\\t.cb-nws-min-cntr{padding: 10px; background: #f5f5f5; color:#333; margin:10px 0 15px;}\\t.sml-crd-subtxt{margin:0 10px 10px;}\\t/*-------------------------Live Pages -----------------------*/\\t.cb-scrcrd-status{padding:0 0 10px 10px;}\\t.cb-scrd-hdr-rw{padding:8px 10px;}\\t.cb-bg-gray{background: #ecebeb;}\\t.cb-lv-grn-strip{background: #ecebeb;}\\t.cb-min-hdr-rw, .cb-scrd-sub-hdr{padding: 4px 10px; font-size: 12px; color: #666;}\\t.cb-scrd-itms{padding: 4px 10px; font-size: 13px;}\\t.cb-text-link {color: #1866DB;}\\t.text-bold{font-weight: bold;}\\t.text-normal{font-weight: normal;}\\t.cb-mat-fct-itm{padding: 5px 0;}\\t.cb-min-bat-rw{padding-bottom: 5px;}\\t.cb-nws-sub-txt, .cb-nws-sub-txt, .cb-font-12{font-size:12px;}\\t.cb-font-16{font-size:16px;}\\t.cb-font-20{font-size:20px;}\\t.cb-min-inf{padding-top:10px; margin-left: -10px; display: inline-block;}\\t.cb-min-itm-rw{padding:5px 10px 0;}\\t.text-right{text-align:right;}\\t.cb-key-st-lst{padding: 10px 0 0 5px; }\\t.cb-min-prw-time{padding:20px 0 0;}\\t.cb-toss-sts{padding: 10px 0 30px;}\\t.cb-min-rcnt{padding: 7px 10px; margin: 0 -10px 0;}\\t.cb-key-lst-wrp{border: 1px solid #ecebeb; padding-bottom: 15px; margin-right: -10px;}\\t.cb-min-tm{font-size: 18px; font-weight: bold;}\\t.cb-min-stts{padding: 20px 0;}\\t.cb-mom-itm{padding: 0 0 10px;}\\t.cb-lv-grn-strip {padding: 10px 10px 5px;}\\t.cb-ovr-num{padding-top:2px;}\\t.cb-min-pad{padding-left: 5px;}\\t/*Upcoming Series*/\\t.cb-mnth{margin-top: 10px; padding: 0 10px;}\\t.cb-sch-lst-itm {padding:10px 0; margin-left: 20px;border-bottom: 1px solid #ecebeb;}\\t/*Matches By Day*/\\t.cb-mtchs-dy{padding:20px 20px 20px 10px ;}\\t.cb-mtchs-dy-tm,.cb-mtchs-dy-vnu{padding:20px 20px 20px 0px;}\\t/*Schedule Teams*/\\t.cb-lv-upcom-strip{padding: 5px 10px;background: #ecebeb;}\\t/*Archives*/\\t.cb-srs-cat{padding:10px; color:#028062; }\\t.pad-left{padding-left:30px;}\\t.cb-arcv-yr{font-size:20px; padding: 0 0 5px 10px;font-weight: bold}\\t.cb-yr-tmline{padding: 2px 15px 15px 0;}\\t.cb-sch-tms-widgt{padding: 5px 10px; margin:5px 2px 2px 2px; background: #f5f5f5; border-radius: 0; border:0; display: inline-block;}\\t/*Photos*/\\t.cb-thmb-dark {background: #333333; box-shadow:none; border-radius:4px; border:none; padding:0;color:#CCC;}\\t.cb-pht-main {padding:20px 15px;margin: 0 -10px;}\\t.cb-pht-block{padding:9px;float:left;height:280px;box-sizing: border-box;} .cb-gallery-pht-block{padding: 9px 9px 9px 16px;}\\t.img-responsive{height:auto; max-width:100%;}\\t.center-block{margin-right: auto;margin-left: auto;}\\t.cb-schdl{padding:0 10px;line-height: 1.5;}\\t.cb-caret-up, .cb-caret-down{display: inline-block; width: 0; height: 0; margin-left: 4px; margin-bottom: 1px; border-right: 4px solid transparent; border-left: 4px solid transparent;}\\t.cb-caret-up{border-bottom: 4px solid;}\\t.cb-caret-down{border-top: 4px solid;}\\t.cb-hm-rt-itm{margin: 0 0 5px; padding: 10px 10px 5px;}\\t.cb-hmscg-tm-nm{display:inline-block; width: 60px;}\\t.pull-right,.cb-all-mtch-tab{float:right;}\\t.cb-skin-ads-close{display: none;}\\t.cb-nws-sub-txt{padding-top:10px;}\\t.nws-dtl-hdln{margin-top:10px;}\\t.cb-min-lv{min-height:270px}\\t.cb-min-comp{min-height:150px;}\\t.cb-ttl-vts{margin-top:20px;}\\t.cb-poll-radio{width: 5%;margin:4px 10px 0 0;}\\t.cb-mini-tim{padding-bottom:20px;}\\t.cb-com-ln{margin: 0 0 10px; line-height: 24px;}\\t.cb-comm-static{min-height:31px; margin: 0 -10px 10px;}\\t.cb-com-ovr-sum-ad{min-height: 31px;}\\t.cb-comm-static-anchr{margin:5px 10px; display: block;}\\t.ad-unit-rendered{margin-bottom: 5px;}\\t.cb-mm-wrp { max-height: 0px; -webkit-transition: max-height 0.35s ease; transition: max-height 0.35s ease; overflow: hidden; }\\t.cb-mm-wrp.down { max-height: 1000px; transition: max-height 0.75s ease; -webkit-transition: max-height 0.75s ease; overflow: hidden;} .cb-srs-hstry-dtl {padding:10px 15px;margin-top:20px; border-radius: 4px;}\\t.cb-qck-lnk{margin-bottom: 5px; padding:10px 15px;}\\t.cb-qck-hdr{padding-right: 15px; border-right: 1px solid #ecebeb ;}\\t.cb-qck-ancr{margin-left: 15px;}\\t.cb-lst-vid-rw{padding-bottom: 0; height: 64px; border: 1px solid #ecebeb; margin-right: -10px;}\\t.cb-auth-img{border-radius: 100%;}\\t.cb-expt-athr{vertical-align: top; padding: 5px 0 0 0; display: inline-block; font-size: 16px}\\t.inline-block{display: inline-block;}\\t.cb-exprt-athr-hdr{text-align: right;font-size: 42px;font-family: bodani; color: #fff;padding-right: 15px;line-height:44px;text-transform:uppercase;}\\t.cb-exprt-athr-hdr-tag{text-align: right;font-size: 24px;font-family: bodani; color: #fff;padding-right: 15px;font-style:italic;}\\t.cb-athr-wgt-wrp{border:1px solid #ecebeb; padding:15px; margin-bottom:20px;background:#f5f5f5;}\\t.cb-exprt-athr-hdr-img{background: url(\"/images/harsha-banner.jpg\") no-repeat scroll; height:80px;}\\t.cb-overflow-hidden{overflow: hidden;}\\t/*Videos*/\\t.cb-vid-sm-ply-api {color: #fff;line-height: 34px;font-size: 18px;margin-left: 3px;}\\t.cb-vid-sml-card-api {margin-top: 10px;height: auto;padding: 0 12px 0 11px;}\\t.cb-cat-head-wrap {padding: 0 12px 0 11px;}\\t.cb-cat-head-text {margin-top: 5px;line-height: 20px;}\\t.cb-more-btn {padding: 8px 20px;border-radius: 2px;color: #fff;background: #009270;border: 0;cursor: pointer;}\\t.cb-cat-head-link {float: right;padding: 5px 25px;margin-top: 10px;border-radius: 4px;}\\t.cb-pos-rel{position: relative;}\\t.cb-videos-cat {border-bottom: 1px solid #ecebeb;padding: 10px 3px 15px 4px;}\\t.cb-cat-head-text-wrap {float: left;}\\t.cb-cat-head-count {margin: 0;color: #666;}\\th2.cb-cat-head-text{font-size : 18px}\\t.cb-vid-sml-card-api-head {font-size: 14px;font-weight: bold;line-height: 18px;max-height: 55px;margin: 2px 0 5px;overflow: hidden;}\\t.cb-cen {position: absolute;top: 50%;left: 50%;opacity: .8;transform: translateX(-50%) translateY(-50%);-webkit-transform: translateX(-50%) translateY(-50%);-moz-transform: translateX(-50%) translateY(-50%);-ms-transform: translateX(-50%) translateY(-50%);-o-transform: translateX(-50%) translateY(-50%);background: #222;text-align: center;height: 35px;width: 35px;border-radius: 50px;}\\t.cb-cen:hover{opacity: 1;}\\t.padding-handling-errors{padding: 20px 0px 10px 15px;border-bottom: 1px solid #ecebeb;}\\t.cb-col .cb-align-cen{float: none; text-align: center; padding: 7px 25px; margin-top: 20px;}\\t.cb-align-cen{padding-top: 10px;}\\t.cb-hot-cat{max-width: 90px; text-align: center; padding-right: 0;}\\t.cb-hot-cat-img{width: 72px;}\\t.cb-vid-slider-arrs{position: absolute; top: 52px; left: 0; right: 0; z-index: 5;}\\t.cb-vid-slider-arr{position: absolute; z-index: 5; height: 43px; width: 43px; border-radius: 50%; cursor: pointer;}\\t.cb-vid-slider-arr-prev{display: none; left: 0;}\\t.cb-vid-slider-arr-next{right: 0;}\\t.videos-list-carousal{overflow: hidden; position: relative; height: 220px;}\\t.videos-carousal-wrapper{float: none; list-style: none; padding: 0; margin: 0; transition: all 0.3s ease; display: flex; flex-direction: row; position: absolute; left: 0;}\\t.videos-carousal-item{min-width: 25%; justify-content: center; align-items: center;}\\t.cb-vid-more{float: right; color: #2C3E9A; font-size: 18px;}\\t.cb-vid-more:hover{text-decoration: underline;}\\t.cat-vid-carousal{height: 135px !important;}\\t.cat-vid-carousal .videos-carousal-item{min-width: auto;}\\t.cat-vid-carousal .cb-vid-slider-arrs{top: 24px;}\\t.cb-srs-sqd-box{min-height: 700px; background: #fff;}\\t.cb-float-none{float: none;}\\t.cb-margin-top-10{margin-top: 10px;}\\t.cb-schdl-nvtb {margin: 0 0 10px 0;padding: 10px;}\\t.cb-carousal-item-small {padding: 0 0 0 16px;}\\t.cb-carousal-item-small:first-child {padding-left: 11px;}\\t.cb-carousal-item-large {padding: 0 11px;}\\t.cb-carousal-item-small .cb-vid-txt-wrp{font-size: 12px;}\\t.cb-hot-cat .cb-vid-txt-wrp{display: -webkit-box; -webkit-box-orient: vertical; -webkit-line-clamp: 2; overflow: hidden; max-height: 40px;}\\t/*Rankings*/\\t.cb-ranking-nav.active{line-height: 21px}\\t.cb-rank-plyr{padding-left:15px}\\t.text-left{text-align:left;}\\t.cb-rank-tabs{padding-left: 10px;}\\t.cb-plyr-tbody{padding:5px 0;}\\t.cb-padding-left0{padding-left: 0;}\\t.cb-rank-hdr{margin-top: 15px; padding: 5px 0;}\\t.cb-bg-grey{background: #f5f5f5;}\\t/*Players*/\\t.cb-player-name-wrap{padding-top: 90px;}\\t.cb-plyr-tbl{margin-top: 30px}\\t.cb-font-40{font-size:40px;}\\t/*Teams*/\\t.cb-cursor-pointer{cursor: pointer;}\\t.cb-team-stats-btn{margin-top: 21px;}\\t.cb-upper-text{text-transform: capitalize;}</style><script>function getCookie(c_name){\\tvar i,x,y,ARRcookies=document.cookie.split(\";\");\\tfor (i=0;i<ARRcookies.length;i++){\\tx=ARRcookies[i].substr(0,ARRcookies[i].indexOf(\"=\"));\\ty=ARRcookies[i].substr(ARRcookies[i].indexOf(\"=\")+1);\\tx=x.replace(/^\\\\s+|\\\\s+$/g,\"\");\\tif (x==c_name){\\treturn unescape(y);\\t}\\t}\\t}\\tvar cbads_value = getCookie(\"cbzads\");\\tif(cbads_value != null && cbads_value.indexOf(\\'IN|AS\\') >= 0){\\tdocument.write(\"<style>.cb-geo-in-50{height:50px}</style>\")\\t}\\t/*polifill for remove function*/\\tif (!(\\'remove\\' in Element.prototype)) {\\tElement.prototype[\\'remove\\'] = function () {\\tif (this.parentNode) {\\tthis.parentNode.removeChild(this);\\t}\\t};\\t}</script><meta http-equiv=\"X-UA-Compatible\" content=\"IE=edge\" /><meta name=\"author\" content=\"\"><link rel=\"shortcut icon\" type=\"image/x-icon\" href=\"/images/cric_ball.ico\" /><meta name=\"google-signin-client_id\" content=\"125255339112-d594jen12o0j854sufu8jfn2gbbnaskj.apps.googleusercontent.com\"><LINK REL=\"apple-touch-icon\" href=\"/images/apple-touch-icon.png\" /> <title itemprop=\"name\">World Cup 2019, Cricket Score, Schedule, Latest News, Stats & Videos | Cricbuzz.com</title><meta name=\"description\" itemprop=\"description\" content=\"Get Live Cricket Score, Scorecard, Schedules of International, Domestic and World Cup matches along with Latest News, Videos and ICC Cricket Rankings of Players on Cricbuzz.\"><link rel=\"alternate\" href=\"android-app://com.cricbuzz.android/http/www.cricbuzz.com/\"><link rel=\"alternate\" href=\"//m.cricbuzz.com/\" media=\"only screen and (max-width: 640px)\"><meta name=\"robots\" content=\"index, follow\"><meta name=\"googlebot\" content=\"index, follow\"><meta name=\"google-site-verification\" content=\"google89fd37b1258ef4b9.html\"><meta name=\"p:domain_verify\" content=\"fd560568b43f31382de30f628c8430bd\"><meta name=\"msvalidate.01\" content=\"A509FA8BAE50018F9DF2553AEDEDF77B\"> <meta property=\"og:title\" content=\"World Cup 2019, Cricket Score, Schedule, Latest News, Stats &amp; Videos\"><meta property=\"og:description\" content=\"Get Live Cricket Score, Scorecard, Schedules of International, Domestic and World Cup matches along with Latest News, Videos and ICC Cricket Rankings of Players on Cricbuzz.\"><meta property=\"og:image\" content=\"http://www.cricbuzz.com\"><meta property=\"og:image:secure_url\" content=\"https://www.cricbuzz.com\"><meta property=\"fb:app_id\" content=\"30119633160\"><meta property=\"og:site_name\" content=\"Cricbuzz\"> <meta property=\"twitter:title\" content=\"World Cup 2019, Cricket Score, Schedule, Latest News, Stats &amp; Videos\"><meta property=\"twitter:description\" content=\"Get Live Cricket Score, Scorecard, Schedules of International, Domestic and World Cup matches along with Latest News, Videos and ICC Cricket Rankings of Players on Cricbuzz.\"><meta property=\"twitter:image\" content=\"https://www.cricbuzz.com\"><meta name=\"twitter:site\" content=\"@cricbuzz\"><meta name=\"twitter:domain\" content=\"cricbuzz.com\"><meta name=\"twitter:app:name:iphone\" content=\"Cricbuzz\"><meta name=\"twitter:app:id:iphone\" content=\"360466413\"><meta name=\"twitter:app:name:googleplay\" content=\"Cricbuzz\"><meta name=\"twitter:app:id:googleplay\" content=\"com.cricbuzz.android\"><meta name=\"twitter:widgets:csp\" content=\"on\"><meta property=\"fb:pages\" content=\"178697151159\" /><meta name=\"keywords\" content=\"\"><meta name=\"news_keywords\" content=\"\"><link rel=\"canonical\" href=\"https://www.cricbuzz.com\"><meta name=\"msapplication-config\" content=\"none\"/><script>var PAGE_NAME = \"cb-homepage\";\\tvar PAGE_TARGETS = {};\\tvar CBQueue = CBQueue || [];\\tvar CBQueueOnLoad = CBQueueOnLoad || [];\\t/*CBQueue.push(function(){roadblock(2,{country:[\"US\",\"CA\", \"ZA\", \"AU\"], continent:[\"EU\"]});});*/\\tCBQueue.push(function(){roadblock(2,{country:[\"US\"]});});\\t_udn = \"cricbuzz.com\";</script><script>(function(w){\\t\"use strict\";\\tvar loadCSS = function( href, before, media ){\\tvar doc = w.document;\\tvar ss = doc.createElement( \"link\" );\\tvar ref;\\tif( before ){\\tref = before;\\t}\\telse {\\tvar refs = ( doc.body || doc.getElementsByTagName( \"head\" )[ 0 ] ).childNodes;\\tref = refs[ refs.length - 1];\\t}\\tvar sheets = doc.styleSheets;\\tss.rel = \"stylesheet\";\\tss.href = href;\\tss.media = \"only x\";\\tref.parentNode.insertBefore( ss, ( before ? ref : ref.nextSibling ) );\\tvar onloadcssdefined = function( cb ){\\tvar resolvedHref = ss.href;\\tvar i = sheets.length;\\twhile( i-- ){\\tif( sheets[ i ].href === resolvedHref ){\\treturn cb();\\t}\\t}\\tsetTimeout(function() {\\tonloadcssdefined( cb );\\t});\\t};\\tss.onloadcssdefined = onloadcssdefined;\\tonloadcssdefined(function() {\\tss.media = media || \"all\";\\t});\\treturn ss;\\t};\\tif( typeof module !== \"undefined\" ){\\tmodule.exports = loadCSS;\\t}\\telse {\\tw.loadCSS = loadCSS;\\t}\\t}( typeof global !== \"undefined\" ? global : this ));\\tloadCSS( \"/dist/css/cricbuzz.min.6501.css\" );</script><noscript><link rel=\"stylesheet\" type=\"text/css\" href=\"/dist/css/cricbuzz.min.6501.css\"></noscript></head><body><a href=\"https://plus.google.com/104502282508811467249\" rel=\"publisher\"></a><a id=\"ad-skin\" target=\"_blank\" href=\"Javascript:void(0)\" class=\"cb-skin-ads-link cb-skin-ads-link-fixed ad-skin\"></a><a href=\"Javascript:void(0)\" class=\"cb-skin-ads-close cb-font-18 ad-skin-close\" style=\"position:fixed; z-index:1001; color:#FFF; background:#000; padding:2px 5px; right:2px;\">&#x2716;</a><header id=\"top\" style=\"z-index: 1000;position: relative;padding-top:10px;width:980px;margin:0 auto;\" itemscope itemtype=\"http://schema.org/WPHeader\"><div class=\"container\"><div id=\"leaderboard\" class=\"ad-unit text-center center-block\" style=\"min-height:90px;margin-bottom:10px;\"></div><div id=\"countdown\" class=\"ad-unit\" style=\"margin:-10px 15px 0px;float:right;position:absolute;\"></div><div class=\"toi-branding toi-referral\"></div><nav class=\"cb-nav cb-col cb-col-100\" id=\"cb-main-menu\"><a href=\"/\" target=\"_self\" class=\"cb-hm-text\"><img itemprop=\"image\" height=\"30\" width=\"101\" style=\"bottom: -4px; position: relative;\" alt=\"Cricbuzz Logo\" title=\"Cricbuzz Logo\" src=\"/images/cbz-logo.png\"></a><a class=\"cb-hm-mnu-itm\" target=\"_self\" href=\"/cricket-match/live-scores\" title=\"Live Cricket Score\">Live Scores</a><a class=\"cb-hm-mnu-itm\" target=\"_self\" href=\"/cricket-schedule/upcoming-series/international\" title=\"Cricket Schedule\">Schedule</a><a class=\"cb-hm-mnu-itm\" target=\"_self\" href=\"/cricket-scorecard-archives\" title=\"Cricket Scorecard Archives\">Archives</a><div class=\"cb-subnav cb-hm-mnu-itm feature-button cursor-pointer\" id=\"newsDropDown\"><a class=\"text-white\" target=\"_self\" href=\"/cricket-news\" >News</a><span class =\"cb-caret-down\"></span><nav class=\"cb-sub-navigation\"><a class=\"cb-subnav-item\" target=\"_self\" href=\"/cricket-news\" title=\"Latest Cricket News\">All Stories</a><a class=\"cb-subnav-item\" target=\"_self\" href=\"/cricket-news/latest-news\" title=\"Latest Cricket News\">Latest News</a><a class=\"cb-subnav-item\" target=\"_self\" href=\"/cricket-news/info/\" title=\"Latest Cricket Topics\">Topics</a><a class=\"cb-subnav-item\" target=\"_self\" href=\"/cricket-news/editorial/spotlight\" title=\"Cricket Editorials and Specials\">Spotlight</a><a class=\"cb-subnav-item\" target=\"_self\" href=\"/cricket-news/editorial/editorial-list\" title=\"Latest Cricket Opinions & Editorials\">Opinions</a><a class=\"cb-subnav-item\" target=\"_self\" href=\"/cricket-news/editorial/specials\" title=\"Latest Cricket Specials\">Specials</a><a class=\"cb-subnav-item\" target=\"_self\" href=\"/cricket-news/editorial/stats-analysis\" title=\"Latest Cricket Stats & Analysis\">Stats & Analysis</a><a class=\"cb-subnav-item\" target=\"_self\" href=\"/cricket-news/editorial/interviews\" title=\"Latest Cricket Player Interviews\">Interviews</a><a class=\"cb-subnav-item\" target=\"_self\" href=\"/cricket-news/editorial/live-blogs\" title=\"Latest Cricket Match live blogs\">Live Blogs</a><a class=\"cb-subnav-item\" target=\"_self\" href=\"/cricket-news/experts/harsha-bhogle/170\" title=\"Articles and Videos by Harsha Bhogle\">Harsha Bhogle</a></nav></div><div class=\"cb-subnav cb-hm-mnu-itm feature-button cursor-pointer\" id=\"seriesDropDown\"><a class=\"text-white\" target=\"_self\" href=\"/cricket-schedule/series\" >Series</a><span class =\"cb-caret-down\"></span><nav class=\"cb-sub-navigation\"><a class=\"cb-subnav-item\" target=\"_self\" href=\"/cricket-series/2697/icc-cricket-world-cup-2019\" title=\"ICC Cricket World Cup 2019\">ICC Cricket World Cup 2019</a><a class=\"cb-subnav-item\" target=\"_self\" href=\"/cricket-series/2818/zimbabwe-tour-of-netherlands-2019\" title=\"Zimbabwe tour of Netherlands, 2019\">Zimbabwe tour of Netherlands, 2019</a><a class=\"cb-subnav-item\" target=\"_self\" href=\"/cricket-series/2844/malaysia-tri-series-2019\" title=\"Malaysia Tri-Series 2019\">Malaysia Tri-Series 2019</a><a class=\"cb-subnav-item\" target=\"_self\" href=\"/cricket-series/2793/zimbabwe-tour-of-ireland-2019\" title=\"Zimbabwe tour of Ireland, 2019\">Zimbabwe tour of Ireland, 2019</a><a class=\"cb-subnav-item\" target=\"_self\" href=\"/cricket-series/2777/west-indies-women-tour-of-england-2019\" title=\"West Indies Women tour of England, 2019\">West Indies Women tour of England, 2019</a><a class=\"cb-subnav-item\" target=\"_self\" href=\"/cricket-series/2780/county-championship-division-one-2019\" title=\"County Championship Division One 2019\">County Championship Division One 2019</a></nav></div><div class=\"cb-subnav cb-hm-mnu-itm feature-button cursor-pointer\" id=\"teamDropDown\"><a class=\"text-white\" target=\"_self\" href=\"/cricket-team\" >Teams</a><span class =\"cb-caret-down\"></span><nav class=\"cb-sub-navigation cb-sub-lg\"> <div class=\"cb-sub-lg-outer\"> <div class=\"cb-sub-lg-sec\"> <h4 class=\"cb-sub-lg-sec-head\">Test Teams</h4> <a class=\"cb-subnav-item cb-sub-lg-sec-item\" target=\"_self\" href=\"/cricket-team/india/2\" title=\"India Cricket Team\">India</a> <a class=\"cb-subnav-item cb-sub-lg-sec-item\" target=\"_self\" href=\"/cricket-team/pakistan/3\" title=\"Pakistan Cricket Team\">Pakistan</a> <a class=\"cb-subnav-item cb-sub-lg-sec-item\" target=\"_self\" href=\"/cricket-team/australia/4\" title=\"Australia Cricket Team\">Australia</a> <a class=\"cb-subnav-item cb-sub-lg-sec-item\" target=\"_self\" href=\"/cricket-team/sri-lanka/5\" title=\"Sri Lanka Cricket Team\">Sri Lanka</a> <a class=\"cb-subnav-item cb-sub-lg-sec-item\" target=\"_self\" href=\"/cricket-team/bangladesh/6\" title=\"Bangladesh Cricket Team\">Bangladesh</a> <a class=\"cb-subnav-item cb-sub-lg-sec-item\" target=\"_self\" href=\"/cricket-team/england/9\" title=\"England Cricket Team\">England</a> <a class=\"cb-subnav-item cb-sub-lg-sec-item\" target=\"_self\" href=\"/cricket-team/west-indies/10\" title=\"West Indies Cricket Team\">West Indies</a> <a class=\"cb-subnav-item cb-sub-lg-sec-item\" target=\"_self\" href=\"/cricket-team/south-africa/11\" title=\"South Africa Cricket Team\">South Africa</a> <a class=\"cb-subnav-item cb-sub-lg-sec-item\" target=\"_self\" href=\"/cricket-team/zimbabwe/12\" title=\"Zimbabwe Cricket Team\">Zimbabwe</a> <a class=\"cb-subnav-item cb-sub-lg-sec-item\" target=\"_self\" href=\"/cricket-team/new-zealand/13\" title=\"New Zealand Cricket Team\">New Zealand</a> <a class=\"cb-subnav-item cb-sub-lg-sec-item\" target=\"_self\" href=\"/cricket-team/ireland/27\" title=\"Ireland Cricket Team\">Ireland</a> <a class=\"cb-subnav-item cb-sub-lg-sec-item\" target=\"_self\" href=\"/cricket-team/afghanistan/96\" title=\"Afghanistan Cricket Team\">Afghanistan</a> </div> <div class=\"cb-sub-lg-sec\"> <h4 class=\"cb-sub-lg-sec-head\">Associate</h4> <a class=\"cb-subnav-item cb-sub-lg-sec-item\" target=\"_self\" href=\"/cricket-team/united-arab-emirates/7\" title=\"United Arab Emirates Cricket Team\">United Arab Emirates</a> <a class=\"cb-subnav-item cb-sub-lg-sec-item\" target=\"_self\" href=\"/cricket-team/hong-kong/8\" title=\"Hong Kong Cricket Team\">Hong Kong</a> <a class=\"cb-subnav-item cb-sub-lg-sec-item\" target=\"_self\" href=\"/cricket-team/kenya/14\" title=\"Kenya Cricket Team\">Kenya</a> <a class=\"cb-subnav-item cb-sub-lg-sec-item\" target=\"_self\" href=\"/cricket-team/united-states/15\" title=\"United States Cricket Team\">United States</a> <a class=\"cb-subnav-item cb-sub-lg-sec-item\" target=\"_self\" href=\"/cricket-team/scotland/23\" title=\"Scotland Cricket Team\">Scotland</a> <a class=\"cb-subnav-item cb-sub-lg-sec-item\" target=\"_self\" href=\"/cricket-team/netherlands/24\" title=\"Netherlands Cricket Team\">Netherlands</a> <a class=\"cb-subnav-item cb-sub-lg-sec-item\" target=\"_self\" href=\"/cricket-team/bermuda/25\" title=\"Bermuda Cricket Team\">Bermuda</a> <a class=\"cb-subnav-item cb-sub-lg-sec-item\" target=\"_self\" href=\"/cricket-team/canada/26\" title=\"Canada Cricket Team\">Canada</a> <a class=\"cb-subnav-item cb-sub-lg-sec-item\" target=\"_self\" href=\"/cricket-team/uganda/44\" title=\"Uganda Cricket Team\">Uganda</a> <a class=\"cb-subnav-item cb-sub-lg-sec-item\" target=\"_self\" href=\"/cricket-team/malaysia/71\" title=\"Malaysia Cricket Team\">Malaysia</a> <a class=\"cb-subnav-item cb-sub-lg-sec-item\" target=\"_self\" href=\"/cricket-team/nepal/72\" title=\"Nepal Cricket Team\">Nepal</a> <a class=\"cb-subnav-item cb-sub-lg-sec-item\" target=\"_self\" href=\"/cricket-team/germany/77\" title=\"Germany Cricket Team\">Germany</a> </div> </div> <a target=\"_self\" href=\"/cricket-team\" class=\"cb-sub-lg-more\">More...</a></nav></div> <div class=\"cb-subnav cb-hm-mnu-itm feature-button cursor-pointer\" id=\"videosDropDown\"><a class=\"text-white\" target=\"_self\" href=\"/cricket-videos\">Videos</a><span class =\"cb-caret-down\"></span> <nav class=\"cb-sub-navigation\"> <a target=\"_self\" class=\"cb-subnav-item\" href=\"/cricket-videos\" title=\"All Cricket Videos\">All Videos</a> <a target=\"_self\" class=\"cb-subnav-item\" href=\"/cricket-videos/categories\" title=\"Cricket Videos Categories\">Categories</a> <a target=\"_self\" class=\"cb-subnav-item\" href=\"/cricket-videos/playlists\" title=\"Cricket Videos Playlists\">Playlists</a> </nav> </div> <div class=\"cb-subnav cb-hm-mnu-itm feature-button cursor-pointer\" id=\"rankingDropDown\"><a class=\"text-white\" href=\"/cricket-stats/icc-rankings/men/batting\">Rankings</a><span class =\"cb-caret-down\"></span><nav class=\"cb-sub-navigation\"><a class=\"cb-subnav-item\" target=\"_self\" href=\"/cricket-stats/icc-rankings/men/batting\" title=\"ICC Rankings Men\">ICC Rankings - Men</a><a class=\"cb-subnav-item\" target=\"_self\" href=\"/cricket-stats/icc-rankings/women/batting\" title=\"ICC Rankings Women\">ICC Rankings - Women</a></nav></div> <div class=\"cb-subnav cb-hm-mnu-itm feature-button cursor-pointer\">More<span class =\"cb-caret-down\"></span><nav class=\"cb-sub-navigation\" style=\"right:0px;\"> <a class=\"cb-subnav-item\" target=\"_self\" href=\"/cricket-photo-gallery\" title=\"Photo Gallery\">Photos</a> <a class=\"cb-subnav-item\" target=\"_self\" href=\"/mobileapps\" title=\"Mobile Apps\">Mobile Apps</a><a class=\"cb-subnav-item\" target=\"_self\" href=\"/careers\" title=\"Careers\">Careers</a><a class=\"cb-subnav-item\" target=\"_self\" href=\"/info/contact\" title=\"Contact Us\">Contact Us</a></nav></div> <div ng-controller=\"SearchCtrl\" ng-init=\" init(-1, 61, 76, 350, \\'\\', \\'nav\\')\"> <div class=\"cb-nav-search-wrap\" ng-style=\"{width: inputFocus?\\'830px\\':\\'170px\\'}\"> <div class=\"cb-col-100 cb-col cb-srch-bar cb-srch-bar-nav\"> <form ng-submit=\"search_results(false, false)\" name=\"form\" class=\"cb-search-form\" ng-cloak> <div class=\"cb-search-input-nav\"> <div class=\"cb-search-outer\"> <div class=\"cb-search-input-wrap\"> <input type=\"text\" class=\"js-cb-search-input cb-search-input-elem cb-search-input-elem-nav form-control cb-car-inp cb-srch-bg\" ng-change=\"suggest_search()\" maxlength=\"500\" ng-model=\"searchText\" id=\"search_bar\" name=\"search\" value=\"suggest.title\" autocomplete=\"off\" ng-class=\"{\\'cb-search-input-elem-error-nav\\':errorText, \\'cb-srch-high-zIndex\\':dropdownVisible, \\'cb-srch-input-focus\\':inputFocus}\" placeholder=\"{{errorText?errorText:(source == \\'nav\\' && inputFocus) || source == \\'search-page\\'?\\'Search for Player, Series, Team, News or Video. eg: Windies tour of India\\': \\'Search\\'}}\" ng-keydown=\"onKeyPress($event)\" ng-focus=\"onInputFocus()\" ng-blur=\"loseInputFocus()\" ng-model-options=\"{ debounce: 400 }\"/> <span class=\"cb-ico cb-search-input-icon cb-search-input-icon-nav\"></span> <span class=\"cb-srch-cross-new cb-srch-cross-new-nav cb-font-14\" ng-class=\"{\\'cb-srch-cross-focus\\': inputFocus, \\'cb-srch-high-zIndex\\':dropdownVisible}\" ng-click=\"reset_form(\\'view\\');\" ng-show=\"searchText.length > 0\">â\\x9c\\x96</span> </div> <div ng-show=\"dropdownVisible\" class=\"cb-srch-backdrop\" ng-click=\"hideDropdown()\"></div> <div ng-show=\"dropdownVisible && searchText.length >= 2 && search_ftr_suggst.length > 0\" class=\"cb-main-srch-box-wrap\"> <ul class=\"cb-main-srch-box\" id=\"searchBox_nav\"> <li class=\"cb-main-srch-box-item {{selected_suggestions == $index?\\'highlight\\':\\'\\'}}\" id=\"search_item_{{$index}}\" ng-click=\"search_results()\" ng-repeat=\"suggest in search_ftr_suggst track by $index\" ng-show=\"suggestions && searchText.length > 0 && inputFocus\" ng-mouseover=\"highlight_item_mouse_hover($index)\" ng-class=\"{\\'cb-main-srch-box-item-border\\':suggest.hasBorder, \\'cb-big\\': suggest.isSearchItem}\" > <a ng-if=\"!suggest.isSearchItem\" class=\"text-black cb-srch-suggest-link\"> <div class=\"cb-srch-suggest-img\" ng-class=\"{\\'cb-srch-suggest-img-teams\\': suggest.type == \\'Teams\\'}\"> <div ng-if=\"suggest.imgUrl\" class=\"\"> <img class=\"cb-srch-suggest-icon-img\" ng-src=\"{{suggest.imgUrl}}\" /> </div> <div ng-if=\"!suggest.imgUrl\" class=\"cb-srch-sugggest-icon {{suggest.iconClass}} cb-ico\"> </div> </div> <div class=\"cb-srch-suggest-content\"> <p class=\"cb-srch-suggest-content-title\" ng-bind-html=\"suggest | searchfilter:oldText\"></p> <p class=\"cb-srch-suggest-content-subtitle cb-font-12 cb-text-gray\">{{suggest.tag}}</p> </div> </a> <a ng-if=\"suggest.isSearchItem\" href=\"javascript:void(0)\" class=\"text-black cb-srch-suggest-link\"> <div class=\"cb-srch-suggest-img\"> <div class=\"cb-srch-sugggest-icon cb-srch-sugggest-icon-search cb-ico\"> </div> </div> <div class=\"cb-srch-suggest-content cb-center-text\"> <p class=\"cb-srch-suggest-content-title\">Search for &#8220;<span ng-bind=\"searchText\"></span>&#8221;</p> </div> </a> </li> </ul> </div> </div> </div> <div class=\"cb-search-submit-nav\" ng-class=\"{\\'cb-search-submit-input-focus\\': inputFocus, \\'cb-search-submit-error\\': errorText}\"> <a class=\"text-white cb-srch-bttn\" ng-class=\"{\\'cb-srch-high-zIndex\\':dropdownVisible}\" ng-click=\"search_results(false, true)\">SEARCH</a> </div> </form></div><style>.cb-srch-ico{margin: 0}</style> </div> </div> </nav></div></header><div class=\"page\"><div id=\"fb-root\"></div><div id=\"page-wrapper\" class=\"container\" style=\"display:inline-block;\"><div id=\"shosh\" class=\"ad-unit shosh-embed\" style=\"height:0; width:980px; text-align:center;\"></div><span id=\"skin_left\" class=\"ad-unit\" style=\"overflow:hidden; position:fixed;top:0;left:calc(50% - 635px);margin-right:3px;z-index:-99;\" ></span> <div class=\"cb-col cb-col-100\"><div id=\"match_menu_container\" class=\"cb-col cb-col-100 html-refresh\" url=\"/api/html/homepage-scag\" timeout=\"45000\"><div class=\"cb-nav-main cb-bg-white\" ng-init=\"run_active = \\'Featured\\'\"><nav class=\"cb-nav-bar\" id=\"scagTab\"><a href=\"javascript:void(0)\" ng-class=\"{true:\\'active\\',false:\\'\\'}[run_active == \\'Featured\\']\" class=\"cb-nav-tab-hm active\" id=\"featured-mtchs-tab\" ng-click=\"run_active = \\'Featured\\'\">Featured</a><a href=\"javascript:void(0)\" ng-class=\"{true:\\'active\\',false:\\'\\'}[run_active == \\'International\\']\" class=\"cb-nav-tab-hm \" id=\"international-mtchs-tab\" ng-click=\"run_active = \\'International\\'\">International</a><a href=\"javascript:void(0)\" ng-class=\"{true:\\'active\\',false:\\'\\'}[run_active == \\'ICC Cricket WC 2019\\']\" class=\"cb-nav-tab-hm \" id=\"icc-cricket-wc-2019-mtchs-tab\" ng-click=\"run_active = \\'ICC Cricket WC 2019\\'\">ICC Cricket WC 2019</a><a href=\"javascript:void(0)\" ng-class=\"{true:\\'active\\',false:\\'\\'}[run_active == \\'PAK U19 tour of SA\\']\" class=\"cb-nav-tab-hm \" id=\"pak-u19-tour-of-sa-mtchs-tab\" ng-click=\"run_active = \\'PAK U19 tour of SA\\'\">PAK U19 tour of SA</a><a class=\"cb-nav-tab-hm cb-text-link cb-all-mtch-tab\" href=\"/cricket-match/live-scores\" title=\"Live Scores of Cricket Matches\" id=\"AllMatches\">All Matches</a></nav></div><div class=\"cb-bg-white\" style=\"min-height:90px;\" id=\"hm-scag-mtch-blk\"><div ng-if=\"run_active == \\'Featured\\'\" ><div class=\"cb-col-100 cb-col cb-hm-scg-blk \"><div class=\"cb-col cb-col-25 cb-mtch-blk\"><a title=\"Pakistan v Afghanistan - Match 36\" href=\"/live-cricket-scores/20272/pak-vs-afg-match-36-icc-cricket-world-cup-2019\" target=\"_self\" class=\"cb-font-12\"><div class=\"cb-hmscg-bat-txt cb-ovr-flo \"><div class=\\'cb-ovr-flo cb-hmscg-tm-nm\\'>AFG</div><div class=\\'cb-ovr-flo\\' style=\\'display:inline-block; width:140px\\'>82/3 (15.4 Ovs)</div></div><div class=\"cb-hmscg-bwl-txt \"><div class=\\'cb-ovr-flo cb-hmscg-tm-nm\\'>PAK</div><div class=\\'cb-ovr-flo\\' style=\\'display:inline-block; width:140px\\'></div></div><div class=\" cb-ovr-flo cb-text-live\">Afghanistan opt to bat</div></a></div><div class=\"cb-col cb-col-25 cb-mtch-blk\"><a title=\"England v India - Match 38\" href=\"/live-cricket-scores/20274/eng-vs-ind-match-38-icc-cricket-world-cup-2019\" target=\"_self\" class=\"cb-font-12\"><div class=\"cb-hmscg-bat-txt cb-ovr-flo \">England</div> <div class=\"cb-hmscg-bat-txt cb-ovr-flo \">India</div><div class=\" cb-ovr-flo cb-text-preview\" ng-bind=\"1561887000000 |date: \\'EEEE, d MMM, hh:mm a\\'\"></div></a></div><div class=\"cb-col cb-col-25 cb-mtch-blk\"><a title=\"New Zealand v Australia - Match 37\" href=\"/live-cricket-scores/20273/nz-vs-aus-match-37-icc-cricket-world-cup-2019\" target=\"_self\" class=\"cb-font-12\"><div class=\"cb-hmscg-bat-txt cb-ovr-flo \">New Zealand</div> <div class=\"cb-hmscg-bat-txt cb-ovr-flo \">Australia</div><div class=\" cb-ovr-flo cb-text-preview\" ng-bind=\"1561811400000 |date: \\'EEEE, d MMM, hh:mm a\\'\"></div></a></div><div class=\"cb-col cb-col-25 cb-mtch-blk\"><a title=\"Sri Lanka v South Africa - Match 35\" href=\"/live-cricket-scores/20271/sl-vs-rsa-match-35-icc-cricket-world-cup-2019\" target=\"_self\" class=\"cb-font-12\"><div class=\"cb-hmscg-bat-txt cb-ovr-flo \"><div class=\\'cb-ovr-flo cb-hmscg-tm-nm\\'>RSA</div><div class=\\'cb-ovr-flo\\' style=\\'display:inline-block; width:140px\\'>206/1 (37.2 Ovs)</div></div><div class=\"cb-hmscg-bwl-txt \"><div class=\\'cb-ovr-flo cb-hmscg-tm-nm\\'>SL</div><div class=\\'cb-ovr-flo\\' style=\\'display:inline-block; width:140px\\'>203 (49.3 Ovs)</div></div><div class=\" cb-ovr-flo cb-text-complete\">South Africa won by 9 wkts</div></a></div></div></div><div ng-if=\"run_active == \\'International\\'\" ><div class=\"cb-col-100 cb-col cb-hm-scg-blk ng-cloak\"><div class=\"cb-col cb-col-25 cb-mtch-blk\"><a title=\"Pakistan v Afghanistan - Match 36\" href=\"/live-cricket-scores/20272/pak-vs-afg-match-36-icc-cricket-world-cup-2019\" target=\"_self\" class=\"cb-font-12\"><div class=\"cb-hmscg-bat-txt cb-ovr-flo \"><div class=\\'cb-ovr-flo cb-hmscg-tm-nm\\'>AFG</div><div class=\\'cb-ovr-flo\\' style=\\'display:inline-block; width:140px\\'>82/3 (15.4 Ovs)</div></div><div class=\"cb-hmscg-bwl-txt \"><div class=\\'cb-ovr-flo cb-hmscg-tm-nm\\'>PAK</div><div class=\\'cb-ovr-flo\\' style=\\'display:inline-block; width:140px\\'></div></div><div class=\" cb-ovr-flo cb-text-live\">Afghanistan opt to bat</div></a></div><div class=\"cb-col cb-col-25 cb-mtch-blk\"><a title=\"England v India - Match 38\" href=\"/live-cricket-scores/20274/eng-vs-ind-match-38-icc-cricket-world-cup-2019\" target=\"_self\" class=\"cb-font-12\"><div class=\"cb-hmscg-bat-txt cb-ovr-flo \">England</div> <div class=\"cb-hmscg-bat-txt cb-ovr-flo \">India</div><div class=\" cb-ovr-flo cb-text-preview\" ng-bind=\"1561887000000 |date: \\'EEEE, d MMM, hh:mm a\\'\"></div></a></div><div class=\"cb-col cb-col-25 cb-mtch-blk\"><a title=\"New Zealand v Australia - Match 37\" href=\"/live-cricket-scores/20273/nz-vs-aus-match-37-icc-cricket-world-cup-2019\" target=\"_self\" class=\"cb-font-12\"><div class=\"cb-hmscg-bat-txt cb-ovr-flo \">New Zealand</div> <div class=\"cb-hmscg-bat-txt cb-ovr-flo \">Australia</div><div class=\" cb-ovr-flo cb-text-preview\" ng-bind=\"1561811400000 |date: \\'EEEE, d MMM, hh:mm a\\'\"></div></a></div><div class=\"cb-col cb-col-25 cb-mtch-blk\"><a title=\"Sri Lanka v South Africa - Match 35\" href=\"/live-cricket-scores/20271/sl-vs-rsa-match-35-icc-cricket-world-cup-2019\" target=\"_self\" class=\"cb-font-12\"><div class=\"cb-hmscg-bat-txt cb-ovr-flo \"><div class=\\'cb-ovr-flo cb-hmscg-tm-nm\\'>RSA</div><div class=\\'cb-ovr-flo\\' style=\\'display:inline-block; width:140px\\'>206/1 (37.2 Ovs)</div></div><div class=\"cb-hmscg-bwl-txt \"><div class=\\'cb-ovr-flo cb-hmscg-tm-nm\\'>SL</div><div class=\\'cb-ovr-flo\\' style=\\'display:inline-block; width:140px\\'>203 (49.3 Ovs)</div></div><div class=\" cb-ovr-flo cb-text-complete\">South Africa won by 9 wkts</div></a></div></div></div><div ng-if=\"run_active == \\'ICC Cricket WC 2019\\'\" ><div class=\"cb-col-100 cb-col cb-hm-scg-blk ng-cloak\"><div class=\"cb-col cb-col-25 cb-mtch-blk\"><a title=\"Pakistan v Afghanistan - Match 36\" href=\"/live-cricket-scores/20272/pak-vs-afg-match-36-icc-cricket-world-cup-2019\" target=\"_self\" class=\"cb-font-12\"><div class=\"cb-hmscg-bat-txt cb-ovr-flo \"><div class=\\'cb-ovr-flo cb-hmscg-tm-nm\\'>AFG</div><div class=\\'cb-ovr-flo\\' style=\\'display:inline-block; width:140px\\'>82/3 (15.4 Ovs)</div></div><div class=\"cb-hmscg-bwl-txt \"><div class=\\'cb-ovr-flo cb-hmscg-tm-nm\\'>PAK</div><div class=\\'cb-ovr-flo\\' style=\\'display:inline-block; width:140px\\'></div></div><div class=\" cb-ovr-flo cb-text-live\">Afghanistan opt to bat</div></a></div><div class=\"cb-col cb-col-25 cb-mtch-blk\"><a title=\"England v India - Match 38\" href=\"/live-cricket-scores/20274/eng-vs-ind-match-38-icc-cricket-world-cup-2019\" target=\"_self\" class=\"cb-font-12\"><div class=\"cb-hmscg-bat-txt cb-ovr-flo \">England</div> <div class=\"cb-hmscg-bat-txt cb-ovr-flo \">India</div><div class=\" cb-ovr-flo cb-text-preview\" ng-bind=\"1561887000000 |date: \\'EEEE, d MMM, hh:mm a\\'\"></div></a></div><div class=\"cb-col cb-col-25 cb-mtch-blk\"><a title=\"New Zealand v Australia - Match 37\" href=\"/live-cricket-scores/20273/nz-vs-aus-match-37-icc-cricket-world-cup-2019\" target=\"_self\" class=\"cb-font-12\"><div class=\"cb-hmscg-bat-txt cb-ovr-flo \">New Zealand</div> <div class=\"cb-hmscg-bat-txt cb-ovr-flo \">Australia</div><div class=\" cb-ovr-flo cb-text-preview\" ng-bind=\"1561811400000 |date: \\'EEEE, d MMM, hh:mm a\\'\"></div></a></div><div class=\"cb-col cb-col-25 cb-mtch-blk\"><a title=\"Sri Lanka v South Africa - Match 35\" href=\"/live-cricket-scores/20271/sl-vs-rsa-match-35-icc-cricket-world-cup-2019\" target=\"_self\" class=\"cb-font-12\"><div class=\"cb-hmscg-bat-txt cb-ovr-flo \"><div class=\\'cb-ovr-flo cb-hmscg-tm-nm\\'>RSA</div><div class=\\'cb-ovr-flo\\' style=\\'display:inline-block; width:140px\\'>206/1 (37.2 Ovs)</div></div><div class=\"cb-hmscg-bwl-txt \"><div class=\\'cb-ovr-flo cb-hmscg-tm-nm\\'>SL</div><div class=\\'cb-ovr-flo\\' style=\\'display:inline-block; width:140px\\'>203 (49.3 Ovs)</div></div><div class=\" cb-ovr-flo cb-text-complete\">South Africa won by 9 wkts</div></a></div></div></div><div ng-if=\"run_active == \\'PAK U19 tour of SA\\'\" ><div class=\"cb-col-100 cb-col cb-hm-scg-blk ng-cloak\"><div class=\"cb-col cb-col-25 cb-mtch-blk\"><a title=\"South Africa U19 v Pakistan U19 - 4th Youth ODI\" href=\"/live-cricket-scores/22864/rsau19-vs-paku19-4th-youth-odi-pakistan-under-19-tour-of-south-africa-2019\" target=\"_self\" class=\"cb-font-12\"><div class=\"cb-hmscg-bat-txt cb-ovr-flo \">South Africa U19</div> <div class=\"cb-hmscg-bat-txt cb-ovr-flo \">Pakistan U19</div><div class=\" cb-ovr-flo cb-text-preview\" ng-bind=\"1561878000000 |date: \\'EEEE, d MMM, hh:mm a\\'\"></div></a></div></div></div></div></div><div id=\"menu_branding\" class=\"ad-unit\" style=\"float:right;\"></div></div><nav class=\"cb-col cb-col-100 cb-bg-white cb-qck-lnk\" id=\"cb-qck-navbar\"> <h1 class=\"cb-qck-lnk-hdr inline-block\">World Cup 2019</h1> <a class=\"cb-text-link cb-qck-ancr\" href=\"/cricket-series/2697/icc-cricket-world-cup-2019\" title=\"World Cup 2019\">Home</a><a class=\"cb-text-link cb-qck-ancr\" href=\"/cricket-series/2697/icc-cricket-world-cup-2019/matches\" title=\"World Cup 2019 Schedule\">Schedule</a><a class=\"cb-text-link cb-qck-ancr\" href=\"/cricket-series/2697/icc-cricket-world-cup-2019/points-table\" title=\"World Cup 2019 Points Table\">Points Table</a><a class=\"cb-text-link cb-qck-ancr\" href=\"/cricket-series/2697/icc-cricket-world-cup-2019/news\" title=\"World Cup 2019 News\">News</a><a class=\"cb-text-link cb-qck-ancr\" href=\"/cricket-series/2697/icc-cricket-world-cup-2019/videos\" title=\"World Cup 2019 Videos\">Videos</a><a class=\"cb-text-link cb-qck-ancr\" href=\"/cricket-series/2697/icc-cricket-world-cup-2019/squads\" title=\"World Cup 2019 Squads\">Squads</a><a class=\"cb-text-link cb-qck-ancr\" href=\"/special-content/boundary-tracker/2697/icc-cricket-world-cup-2019\" title=\"World Cup 2019 Boundary Tracker\">Boundary Tracker</a><a class=\"cb-text-link cb-qck-ancr\" href=\"/cricket-news/108171/world-cup-2019-that-happened\" title=\"World Cup Pulse\">Pulse</a></nav><style>.cb-qck-lnk-hdr{ font-size:18px; line-height: 27px;\\n}</style> <meta http-equiv=\"refresh\" content=\"400\"> <div class=\"cb-col cb-col-20\"> <div class=\"cb-bg-white\" id=\"cb-news-blck\"><h2 class=\"cb-hm-lft-hdr cb-lv-scr-mtch-hdr\">LATEST NEWS</h2><div class=\\'cb-hm-lft\\'><div class=\"cb-col-100 cb-lst-itm cb-lst-itm-sm\"><a class=\"cb-nws-hdln-ancr text-hvr-underline\" href=\"/cricket-news/108734/australia-resist-temptation-to-rest-starc-and-cummins-before-knockouts\" title=\"Australia resist temptation to rest Starc and Cummins before knockouts\">Australia resist temptation to rest Starc and Cummins before knockouts</a><div class=\"cb-nws-time\">8h ago</div></div><div class=\"cb-col-100 cb-lst-itm cb-lst-itm-sm\"><a class=\"cb-nws-hdln-ancr text-hvr-underline\" href=\"/cricket-news/108732/sri-lanka-switch-from-fifth-gear-to-reverse-in-double-quick-time\" title=\"Sri Lanka switch from fifth gear to reverse in double quick time\">Sri Lanka switch from fifth gear to reverse in double quick time</a><div class=\"cb-nws-time\">15h ago</div></div><div class=\"cb-col-100 cb-lst-itm cb-lst-itm-sm\"><a class=\"cb-nws-hdln-ancr text-hvr-underline\" href=\"/cricket-news/108731/du-plessis-and-the-saga-of-bittersweet-win\" title=\" Du Plessis and the saga of a bittersweet win\"> Du Plessis and the saga of a bittersweet win</a><div class=\"cb-nws-time\">15h ago</div></div><div class=\"cb-col-100 cb-lst-itm cb-lst-itm-sm\"><a class=\"cb-nws-hdln-ancr text-hvr-underline\" href=\"/cricket-news/108729/muted-buttler-keen-to-make-some-noise-icc-cricket-world-cup-2019\" title=\"Muted Buttler keen to make some noise\">Muted Buttler keen to make some noise</a><div class=\"cb-nws-time\">16h ago</div></div><div class=\"cb-col-100 cb-lst-itm cb-lst-itm-sm\"><a class=\"cb-nws-hdln-ancr text-hvr-underline\" href=\"/cricket-news/108726/naib-hopes-cricket-mends-relationships-off-the-pitch\" title=\"Naib hopes cricket mends relationships off the pitch\">Naib hopes cricket mends relationships off the pitch</a><div class=\"cb-nws-time\">18h ago</div></div><div class=\"cb-col-100 cb-lst-itm cb-lst-itm-sm\"><a class=\"cb-nws-hdln-ancr text-hvr-underline\" href=\"/cricket-news/108722/icc-cricket-world-cup-2019-carlos-brathwaite-fined-handed-demerit-point-for-dissenting-wide-call\" title=\"Brathwaite fined, handed demerit point for dissenting wide call\">Brathwaite fined, handed demerit point for dissenting wide call</a><div class=\"cb-nws-time\">22h ago</div></div><div class=\"cb-col-100 cb-lst-itm cb-lst-itm-sm\"><a class=\"cb-nws-hdln-ancr text-hvr-underline\" href=\"/cricket-news/108721/deepti-sharma-to-play-for-western-storm\" title=\"Deepti Sharma to play for Western Storm\">Deepti Sharma to play for Western Storm</a><div class=\"cb-nws-time\">22h ago</div></div><div class=\"cb-col-100 cb-lst-itm cb-lst-itm-sm\"><a class=\"cb-nws-hdln-ancr text-hvr-underline\" href=\"/cricket-news/108720/no-plan-to-retire-immediately-after-world-cup-mortaza\" title=\"No plan to retire immediately after World Cup: Mortaza\">No plan to retire immediately after World Cup: Mortaza</a><div class=\"cb-nws-time\">23h ago</div></div><div class=\"cb-col-100 cb-lst-itm cb-lst-itm-sm\"><a class=\"cb-nws-hdln-ancr text-hvr-underline\" href=\"/cricket-news/108718/icc-cricket-world-cup-2019-indian-cricket-team-west-indies-kl-rahul\" title=\"Rahul disappointed at throwing away starts\">Rahul disappointed at throwing away starts</a><div class=\"cb-nws-time\">1d ago</div></div><div class=\"cb-col-100 cb-lst-itm cb-lst-itm-sm\"><a class=\"cb-nws-hdln-ancr text-hvr-underline\" href=\"/cricket-news/108711/icc-cricket-world-cup-2019-south-africa-will-play-fearless-cricket-with-no-pressure-of-qualifying-chadika-hathurusingha-sri-lanka-cricket-team\" title=\"South Africa will play fearless cricket with no pressure of qualifying - Hathurusingha\">South Africa will play fearless cricket with no pressure of qualifying - Hathurusingha</a><div class=\"cb-nws-time\">1d ago</div></div><div class=\"cb-hm-mr-lnk\"><a class=\"cb-font-12 cb-text-link\" href=\"/cricket-news/latest-news\" title=\"More News\"><i>More News..</i></a></div></div></div> <div class=\"cb-bg-white\" id=\"hm-photos-blk\"> <h2 class=\"cb-hm-lft-hdr cb-lv-scr-mtch-hdr\">LATEST PHOTOS</h2> <div class=\\'cb-hm-lft\\'> <div class=\"cb-col-100 cb-lst-itm cb-lst-itm-sm\"> <a href=\"/cricket-gallery/4633/south-africa-v-sri-lanka-icc-world-cup-2019\" title=\"South Africa v Sri Lanka, ICC World Cup 2019\"> <img width=\"165\" height=\"95\" class=\"lazy-loading pad-0\" alt=\"South Africa v Sri Lanka, ICC World Cup 2019\" src=\"\" source=\"/a/img/v1/165x95/i1/c175780/south-africa-v-sri-lanka-icc.jpg\"/> <div class=\"cb-nws-hdln\">South Africa v Sri Lanka, ICC World Cup 2019</div> <span class=\"cb-nws-time\">Fri, Jun 28 2019</span> </a> </div> <div class=\"cb-col-100 cb-lst-itm cb-lst-itm-sm\"> <a href=\"/cricket-gallery/4632/west-indies-vs-india-icc-world-cup-2019-match-34\" title=\"West Indies vs India, ICC World Cup 2019, Match 34\"> <img width=\"165\" height=\"95\" class=\"lazy-loading pad-0\" alt=\"West Indies vs India, ICC World Cup 2019, Match 34\" src=\"\" source=\"/a/img/v1/165x95/i1/c175594/west-indies-vs-india-icc-worl.jpg\"/> <div class=\"cb-nws-hdln\">West Indies vs India, ICC World Cup 2019, Match 34</div> <span class=\"cb-nws-time\">Thu, Jun 27 2019</span> </a> </div> <div class=\"cb-col-100 cb-lst-itm cb-lst-itm-sm\"> <a href=\"/cricket-gallery/4631/new-zealand-vs-pakistan-icc-world-cup-match-33\" title=\"New Zealand vs Pakistan, ICC World Cup, Match 33\"> <img width=\"165\" height=\"95\" class=\"lazy-loading pad-0\" alt=\"New Zealand vs Pakistan, ICC World Cup, Match 33\" src=\"\" source=\"/a/img/v1/165x95/i1/c175492/new-zealand-vs-pakistan-icc-w.jpg\"/> <div class=\"cb-nws-hdln\">New Zealand vs Pakistan, ICC World Cup, Match 33</div> <span class=\"cb-nws-time\">Wed, Jun 26 2019</span> </a> </div> <div class=\"cb-col-100 cb-lst-itm cb-lst-itm-sm\"> <a href=\"/cricket-gallery/4630/england-v-australia-icc-world-cup-2019\" title=\"England v Australia, ICC World Cup 2019\"> <img width=\"165\" height=\"95\" class=\"lazy-loading pad-0\" alt=\"England v Australia, ICC World Cup 2019\" src=\"\" source=\"/a/img/v1/165x95/i1/c175312/england-v-australia-icc-world.jpg\"/> <div class=\"cb-nws-hdln\">England v Australia, ICC World Cup 2019</div> <span class=\"cb-nws-time\">Tue, Jun 25 2019</span> </a> </div> <div class=\"cb-col-100 cb-lst-itm cb-lst-itm-sm\"> <a href=\"/cricket-gallery/4629/afghanistan-v-bangladesh-icc-world-cup-match-31\" title=\"Afghanistan v Bangladesh, ICC World Cup, Match 31\"> <img width=\"165\" height=\"95\" class=\"lazy-loading pad-0\" alt=\"Afghanistan v Bangladesh, ICC World Cup, Match 31\" src=\"\" source=\"/a/img/v1/165x95/i1/c175163/afghanistan-v-bangladesh-icc.jpg\"/> <div class=\"cb-nws-hdln\">Afghanistan v Bangladesh, ICC World Cup, Match 31</div> <span class=\"cb-nws-time\">Mon, Jun 24 2019</span> </a> </div> <div class=\"cb-col-100 cb-lst-itm cb-lst-itm-sm\"> <a href=\"/cricket-gallery/4628/pakistan-vs-south-africa-match-30-icc-world-cup-2019\" title=\"Pakistan vs South Africa, Match 30, ICC World Cup 2019 \"> <img width=\"165\" height=\"95\" class=\"lazy-loading pad-0\" alt=\"Pakistan vs South Africa, Match 30, ICC World Cup 2019 \" src=\"\" source=\"/a/img/v1/165x95/i1/c175027/pakistan-vs-south-africa-matc.jpg\"/> <div class=\"cb-nws-hdln\">Pakistan vs South Africa, Match 30, ICC World Cup 2019 </div> <span class=\"cb-nws-time\">Sun, Jun 23 2019</span> </a> </div> <div class=\" cb-hm-mr-lnk\"> <a class=\"cb-font-12 cb-text-link\" href=\"/cricket-photo-gallery\" title=\"More Photos\"><i>More Photos..</i></a> </div> </div> </div> <div class=\"cb-bg-white\"> <h2 class=\"cb-hm-lft-hdr cb-lv-scr-mtch-hdr\">SCHEDULE</h2> <div class=\\'cb-hm-lft\\'> <div class=\"cb-col-100 cb-lst-itm cb-lst-itm-sm\"> <div>Pakistan vs Afghanistan, Match 36</div> <div class=\"cb-nws-time\"><span class=\"schedule-date\" timestamp=\"1561800600000\" venue=\"+01:00\" format=\"EEE MMM dd\"></span>&nbsp;&#8226;&nbsp;<span class=\"schedule-date\" timestamp=\"1561800600000\" venue=\"+01:00\" format=\"h:mm a\"></span>&nbsp;GMT</div> </div> <div class=\"cb-col-100 cb-lst-itm cb-lst-itm-sm\"> <div>New Zealand vs Australia, Match 37</div> <div class=\"cb-nws-time\"><span class=\"schedule-date\" timestamp=\"1561811400000\" venue=\"+01:00\" format=\"EEE MMM dd\"></span>&nbsp;&#8226;&nbsp;<span class=\"schedule-date\" timestamp=\"1561811400000\" venue=\"+01:00\" format=\"h:mm a\"></span>&nbsp;GMT</div> </div> <div class=\"cb-col-100 cb-lst-itm cb-lst-itm-sm\"> <div>England vs India, Match 38</div> <div class=\"cb-nws-time\"><span class=\"schedule-date\" timestamp=\"1561887000000\" venue=\"+01:00\" format=\"EEE MMM dd\"></span>&nbsp;&#8226;&nbsp;<span class=\"schedule-date\" timestamp=\"1561887000000\" venue=\"+01:00\" format=\"h:mm a\"></span>&nbsp;GMT</div> </div> <div class=\"cb-col-100 cb-lst-itm cb-lst-itm-sm\"> <div>Sri Lanka vs West Indies, Match 39</div> <div class=\"cb-nws-time\"><span class=\"schedule-date\" timestamp=\"1561973400000\" venue=\"+01:00\" format=\"EEE MMM dd\"></span>&nbsp;&#8226;&nbsp;<span class=\"schedule-date\" timestamp=\"1561973400000\" venue=\"+01:00\" format=\"h:mm a\"></span>&nbsp;GMT</div> </div> <div class=\"cb-col-100 cb-lst-itm cb-lst-itm-sm\"> <div>Ireland vs Zimbabwe, 1st ODI</div> <div class=\"cb-nws-time\"><span class=\"schedule-date\" timestamp=\"1561974300000\" venue=\"+01:00\" format=\"EEE MMM dd\"></span>&nbsp;&#8226;&nbsp;<span class=\"schedule-date\" timestamp=\"1561974300000\" venue=\"+01:00\" format=\"h:mm a\"></span>&nbsp;GMT</div> </div> <div class=\"cb-col-100 cb-lst-itm cb-lst-itm-sm\"> <div>Bangladesh vs India, Match 40</div> <div class=\"cb-nws-time\"><span class=\"schedule-date\" timestamp=\"1562059800000\" venue=\"+01:00\" format=\"EEE MMM dd\"></span>&nbsp;&#8226;&nbsp;<span class=\"schedule-date\" timestamp=\"1562059800000\" venue=\"+01:00\" format=\"h:mm a\"></span>&nbsp;GMT</div> </div> <div class=\"cb-col-100 cb-lst-itm cb-lst-itm-sm\"> <div>England vs New Zealand, Match 41</div> <div class=\"cb-nws-time\"><span class=\"schedule-date\" timestamp=\"1562146200000\" venue=\"+01:00\" format=\"EEE MMM dd\"></span>&nbsp;&#8226;&nbsp;<span class=\"schedule-date\" timestamp=\"1562146200000\" venue=\"+01:00\" format=\"h:mm a\"></span>&nbsp;GMT</div> </div> <div class=\"cb-hm-mr-lnk\"> <a class=\"cb-font-12 cb-text-link\" href=\"/cricket-schedule/upcoming-series/international\" title=\"Cricket Schedule\"><i>More Matches..</i></a> </div> </div> </div> </div><div class=\"cb-col cb-col-47\"><div id=\"video_playlist\"> <script> CBQueue.push(function(){ if((_GEO.country == \"US\" || _GEO.country == \"CA\") && false){ _ele(\\'#video_playlist\\').html(\\'<div class=\"cb-bg-white\" style=\"margin:0 5px 10px;\"><div class=\"kaltura-playlist\" uiconf_id=\"33885652\" entry_id=\"0_lvphia47\" uiautoplay=\"false\" style=\"width:420px;height:385px;padding:10px 15px;\"></div></div>\\'); }else if([\"AE\",\"SA\",\"KW\",\"BH\",\"QA\",\"OM\",\"GB\"].indexOf(_GEO.country) != -1 && false){ var eplr = document.createElement(\\'script\\'); eplr.type = \\'text/javascript\\'; eplr.async = true; eplr.src = \\'https://player.performgroup.com/eplayer.js#ccb175de91b4f3c5c4bbed6a35.qjdsydmry69m1je82zk8il975\\'; var vpl = document.getElementById(\\'video_playlist\\'); vpl.className = \"cb-bg-white\"; vpl.style.margin = \"0px 5px 10px\"; vpl.appendChild(eplr); } }); </script></div><script>CBQueue.push(function(){\\tif(_GEO.country == \"US\" || _GEO.country == \"CA\"){\\t_ele(\\'#kaltura-video-player\\').removeClass(\\'disp-none\\');\\t}\\tif(_GEO.country == \"IN\" ){\\t_ele(\\'specials-home-module\\').removeClass(\\'disp-none\\');\\t}\\n});</script><div class=\"cb-col cb-hm-mid cb-bg-white cb-hmpage\" style=\"clear:both\"> <div class=\\'big-crd-main cb-bg-white\\'><div class=\"crd-cntxt\"><span>PAK VS AFG, MATCH 36</span></div><a href=\"/live-cricket-scores/20272/pak-vs-afg-match-36\" title=\"Imad removes Rahmat; Afghanistan slide\"><img\\theight=\"235\"\\twidth=\"420\" alt=\"imad-removes-rahmat-afghanistan-slide\" title=\"Imad removes Rahmat; Afghanistan slide\" itemprop =\"image\" src=\"/a/img/v1/420x235/i1/c175803/imad-removes-rahmat-afghanist.jpg\" /></a><h2 class=\"big-crd-hdln\"><a href=\"/live-cricket-scores/20272/pak-vs-afg-match-36\" title=\"Imad removes Rahmat; Afghanistan slide\"> Imad removes Rahmat; Afghanistan slide</a></h2><div class=\"cb-nws-intr\">With two successive wins, Pakistan are back in contention for a spot in the semis while Afghanistan are yet to register a single victory</div><div class=\"cb-hm-mtch-crd-width cb-lv-scrs-well cb-lv-scrs-well-live\"> <a href=\"/live-cricket-scores/20272/pak-vs-afg-match-36-icc-cricket-world-cup-2019\" title=\"PAK Vs AFG, Match 36 Live cricket scores\"> <div class=\"cb-col cb-col-100 cb-hm-mtch-crd\"> <div class=\"cb-scr-wll-chvrn cb-col-90\"> <div class=\"cb-lv-scrs-col text-black\"> <div class=\"cb-col cb-mr-30\"> <div class=\\'text-bold\\'>AFG</div> <div class=\\'text-bold\\'>PAK</div> </div> <div class=\"cb-col\"> <div> <span>82-3</span> <span> (15.4)</span> </div> <div> </div> </div> </div> <div class=\"cb-lv-scrs-col cb-text-live\" style=\"white-space:unset;\">Afghanistan opt to bat</div> </div> <div class=\"cb-scr-wll-chvrn cb-col-10\"> <div class=\"cb-ico cb-lv-scr-chvrn-bg\"></div> </div> </div> </a></div><div class=\"big-crd-reltd-itm\"><a class=\"big-crd-rltd-txt\" href=\"/cricket-news/108735/live-blog\" title=\"Live blog\">Live blog</a></div></div><div class=\\'big-crd-main cb-bg-white\\'><div class=\"crd-cntxt\"><span>WORLD CUP 2019</span></div><a href=\"/cricket-news/108730/lords-switches-on-to-witness-trans-tasman-rivalry-in-a-different-light\" title=\"Lord\\'s switches on to witness Trans-Tasman rivalry in a different light\"><img\\theight=\"235\"\\twidth=\"420\" alt=\"lords-switches-on-to-witness-trans-tasman-rivalry-in-a-different-light\" title=\"Lord&#39;s switches on to witness Trans-Tasman rivalry in a different light\" itemprop =\"image\" src=\"/a/img/v1/420x235/i1/c175785/lords-switches-on-to-witness.jpg\" /></a><h2 class=\"big-crd-hdln\"><a href=\"/cricket-news/108730/lords-switches-on-to-witness-trans-tasman-rivalry-in-a-different-light\" title=\"Lord\\'s switches on to witness Trans-Tasman rivalry in a different light\"> Lord\\'s switches on to witness Trans-Tasman rivalry in a different light</a></h2><div class=\"cb-nws-intr\">With a playoff spot in sight, New Zealand will take on Australia in only the second day-night ODI at Lord\\'s</div><div class=\"big-crd-reltd-itm\"><a class=\"big-crd-rltd-txt\" href=\"/cricket-news/108725/world-cup-head-to-head-new-zealand-vs-australia\" title=\"World Cup Head to Head: New Zealand vs Australia\">World Cup Head to Head: New Zealand vs Australia</a></div></div><div class=\\'big-crd-main cb-bg-white\\'><div class=\"crd-cntxt\"><span>WORLD CUP 2019</span></div><a href=\"/cricket-news/108732/sri-lanka-switch-from-fifth-gear-to-reverse-in-double-quick-time\" title=\"Sri Lanka switch from fifth gear to reverse in double quick time\"><img\\theight=\"235\"\\twidth=\"420\" alt=\"sri-lanka-switch-from-fifth-gear-to-reverse-in-double-quick-time\" title=\"Sri Lanka switch from fifth gear to reverse in double quick time\" itemprop =\"image\" src=\"/a/img/v1/420x235/i1/c175791/sri-lanka-switch-from-fifth-ge.jpg\" /></a><h2 class=\"big-crd-hdln\"><a href=\"/cricket-news/108732/sri-lanka-switch-from-fifth-gear-to-reverse-in-double-quick-time\" title=\"Sri Lanka switch from fifth gear to reverse in double quick time\"> Sri Lanka switch from fifth gear to reverse in double quick time</a></h2><div class=\"cb-nws-intr\">After scoring 67 in the first ten overs, Sri Lanka were bowled out for a paltry 203</div><div class=\"big-crd-reltd-itm\"><a class=\"big-crd-rltd-txt\" href=\"/cricket-news/108727/dwaine-pretorius-chris-morris-bully-sri-lanka-into-submission\" title=\"Dwaine Pretorius, Chris Morris bully Sri Lanka into submission\">Report /\\tDwaine Pretorius, Chris Morris bully Sri Lanka into submission</a></div><div class=\"big-crd-reltd-itm\"><a class=\"big-crd-rltd-txt\" href=\"/cricket-news/108733/that-time-when-malinga-bowled-to-amla\" title=\"That time when Malinga bowled to Amla\">That time when Malinga bowled to Amla</a></div><div class=\"big-crd-reltd-itm\"><a class=\"big-crd-rltd-txt\" href=\"/cricket-news/108731/du-plessis-and-the-saga-of-a-bittersweet-win\" title=\"Du Plessis and the saga of a bittersweet win\">Du Plessis and the saga of a bittersweet win</a></div><div class=\"big-crd-reltd-itm\"><a class=\"big-crd-rltd-txt\" href=\"/cricket-news/108728/qualification-scenarios-sri-lankas-fate-beyond-their-control\" title=\"Qualification scenarios: Sri Lanka\\'s fate beyond their control\">Qualification scenarios: Sri Lanka\\'s fate beyond their control</a></div></div><div class=\"sml-crd-main\"><div class=\"crd-cntxt\">ON THE SPOT</div><div class=\"cb-col-33 cb-col\"><a href=\"/cricket-news/108717/mohammed-shami-good-length-great-results\" title=\"Mohammed Shami: Good length, great results\"><img\\theight=\"75\"\\twidth=\"135\"\\tclass=\"lazy-loading\" alt=\"mohammed-shami-good-length-great-results\" source=\"/a/img/v1/135x75/i1/c175673/mohammed-shami-good-length-g.jpg\" src=\"\" style=\"padding:0px;\"/></a></div><div class=\"cb-col-67 cb-col cb-hdln-hght\"><h3 class=\"sml-crd-hdln\"><a href=\"/cricket-news/108717/mohammed-shami-good-length-great-results\" title=\"Mohammed Shami: Good length, great results\">Mohammed Shami: Good length, great results</a></h3><div class=\"sml-crd-subtxt\">8h ago</div></div><div class=\"cb-nws-intr\">Running in from the Brian Statham end, Shami produced a seam-bowling masterclass against West Indies at Old Trafford</div> <div class=\"big-crd-reltd-itm\"> <a class=\"big-crd-rltd-txt\" href=\"/cricket-news/108718/rahul-disappointed-at-throwing-away-starts\" title=\"Rahul disappointed at throwing away starts\">Rahul disappointed at throwing away starts</a></div><div class=\"big-crd-reltd-itm\"> <a class=\"big-crd-rltd-txt\" href=\"/cricket-news/108729/muted-buttler-keen-to-make-some-noise\" title=\"Muted Buttler keen to make some noise\">Muted Buttler keen to make some noise</a></div></div><div class=\"sml-crd-main\"><div class=\"crd-cntxt\">WORLD CUP 2019</div><div class=\"cb-col-33 cb-col\"><a href=\"/cricket-news/108720/no-plan-to-retire-immediately-after-world-cup-mortaza\" title=\"No plan to retire immediately after World Cup: Mortaza\"><img\\theight=\"75\"\\twidth=\"135\"\\tclass=\"lazy-loading\" alt=\"no-plan-to-retire-immediately-after-world-cup-mortaza\" source=\"/a/img/v1/135x75/i1/c175701/no-plan-to-retire-immediately.jpg\" src=\"\" style=\"padding:0px;\"/></a></div><div class=\"cb-col-67 cb-col cb-hdln-hght\"><h3 class=\"sml-crd-hdln\"><a href=\"/cricket-news/108720/no-plan-to-retire-immediately-after-world-cup-mortaza\" title=\"No plan to retire immediately after World Cup: Mortaza\">No plan to retire immediately after World Cup: Mortaza</a></h3><div class=\"sml-crd-subtxt\">8h ago</div></div><div class=\"cb-nws-intr\">The Bangladesh captain had earlier announced 2019 will be his last World Cup, adding fuel to the retirement speculations</div> <div class=\"big-crd-reltd-itm\"> <a class=\"big-crd-rltd-txt\" href=\"/cricket-news/108686/gayle-backtracks-on-odi-retirement-available-for-india-series\" title=\"Gayle backtracks on ODI retirement, available for India series\">Gayle backtracks on ODI retirement, available for India series</a></div></div><div class=\"sml-crd-main\"><div class=\"crd-cntxt\">WOMEN\\'S CRICKET SUPER LEAGUE</div><div class=\"cb-col-33 cb-col\"><a href=\"/cricket-news/108721/deepti-sharma-to-play-for-western-storm\" title=\"Deepti Sharma to play for Western Storm\"><img\\theight=\"75\"\\twidth=\"135\"\\tclass=\"lazy-loading\" alt=\"deepti-sharma-to-play-for-western-storm\" source=\"/a/img/v1/135x75/i1/c175714/deepti-sharma-to-play-for-west.jpg\" src=\"\" style=\"padding:0px;\"/></a></div><div class=\"cb-col-67 cb-col cb-hdln-hght\"><h3 class=\"sml-crd-hdln\"><a href=\"/cricket-news/108721/deepti-sharma-to-play-for-western-storm\" title=\"Deepti Sharma to play for Western Storm\">Deepti Sharma to play for Western Storm</a></h3><div class=\"sml-crd-subtxt\">22h ago</div></div><div class=\"cb-nws-intr\">The 21-year-old is currently ranked second among ODI all-rounders</div> </div><div class=\"sml-crd-main\"><div class=\"crd-cntxt\">ENGLISH LEGEND</div><div class=\"cb-col-33 cb-col\"><a href=\"/cricket-news/108709/trescothick-announces-retirement-from-professional-cricket\" title=\"Trescothick announces retirement from professional cricket\"><img\\theight=\"75\"\\twidth=\"135\"\\tclass=\"lazy-loading\" alt=\"trescothick-announces-retirement-from-professional-cricket\" source=\"/a/img/v1/135x75/i1/c175606/trescothick-announces-retireme.jpg\" src=\"\" style=\"padding:0px;\"/></a></div><div class=\"cb-col-67 cb-col cb-hdln-hght\"><h3 class=\"sml-crd-hdln\"><a href=\"/cricket-news/108709/trescothick-announces-retirement-from-professional-cricket\" title=\"Trescothick announces retirement from professional cricket\">Trescothick announces retirement from professional cricket</a></h3><div class=\"sml-crd-subtxt\">1d ago</div></div><div class=\"cb-nws-intr\">The veteran southpaw, who made his first-class debut in 1993, has failed to find form in the ongoing County Championship season</div> </div><div class=\\'big-crd-main cb-bg-white\\'><div class=\"crd-cntxt\"><span>WHAT\\'S THE BUZZ</span></div><a href=\"/cricket-news/108171/world-cup-pulse\" title=\"World Cup Pulse\"><img\\theight=\"235\"\\twidth=\"420\" alt=\"world-cup-pulse\" title=\"World Cup Pulse\" itemprop =\"image\" src=\"/a/img/v1/420x235/i1/c170196/world-cup-pulse.jpg\" /></a><h2 class=\"big-crd-hdln\"><a href=\"/cricket-news/108171/world-cup-pulse\" title=\"World Cup Pulse\"> World Cup Pulse</a></h2><div class=\"cb-nws-intr\">All that\\'s happening on and off the field at the 2019 World Cup in England & Wales</div></div><div class=\"sml-crd-main\"><div class=\"crd-cntxt\">BANGLADESH CRICKET</div><div class=\"cb-col-33 cb-col\"><a href=\"/cricket-news/108706/bangladesh-await-security-clearance-for-sri-lanka-tour\" title=\"Bangladesh await security clearance for Sri Lanka tour\"><img\\theight=\"75\"\\twidth=\"135\"\\tclass=\"lazy-loading\" alt=\"bangladesh-await-security-clearance-for-sri-lanka-tour\" source=\"/a/img/v1/135x75/i1/c175546/bangladesh-await-security-clea.jpg\" src=\"\" style=\"padding:0px;\"/></a></div><div class=\"cb-col-67 cb-col cb-hdln-hght\"><h3 class=\"sml-crd-hdln\"><a href=\"/cricket-news/108706/bangladesh-await-security-clearance-for-sri-lanka-tour\" title=\"Bangladesh await security clearance for Sri Lanka tour\">Bangladesh await security clearance for Sri Lanka tour</a></h3><div class=\"sml-crd-subtxt\">1d ago</div></div><div class=\"cb-nws-intr\">Bangladesh are set to host Afghanistan and Zimbabwe in a T20 tri-series in September</div> </div><div class=\"sml-crd-main\"><div class=\"crd-cntxt\">OUTSIDE THE CIRCLE</div><div class=\"cb-col-33 cb-col\"><a href=\"/cricket-news/108716/much-ado-about-numbers\" title=\"Much ado about numbers\"><img\\theight=\"75\"\\twidth=\"135\"\\tclass=\"lazy-loading\" alt=\"much-ado-about-numbers\" source=\"/a/img/v1/135x75/i1/c175661/much-ado-about-numbers.jpg\" src=\"\" style=\"padding:0px;\"/></a></div><div class=\"cb-col-67 cb-col cb-hdln-hght\"><h3 class=\"sml-crd-hdln\"><a href=\"/cricket-news/108716/much-ado-about-numbers\" title=\"Much ado about numbers\">Much ado about numbers</a></h3><div class=\"sml-crd-subtxt\">1d ago</div></div><div class=\"cb-nws-intr\">Remarkable results away from the World Cup prompt controversy</div> </div></div></div><div class=\"cb-col cb-col-33\"> <div class=\"cb-col cb-col-100 cb-hm-rt-itm cb-bg-white\"> <div id=\"mpu\" class=\"ad-unit center-block \" style=\"min-height: 250px;\"></div> </div> <div id=\"strip_320x50\" class=\"ad-unit\"></div> <div class=\"cb-col cb-col-100 cb-hm-rt-itm cb-bg-white\" id=\"latest-vid-mod\" gtm-label=\\'Homepage\\'> <h4 class=\"cb-mdl-hdr\">FEATURED VIDEOS</h4> <div class=\"cb-col cb-col-100 cb-mid-wrp\"> <a target=\"_self\" href=\"/cricket-videos/39471/new-zealand-vs-australia-match-37-preview\" class=\"suggested-video-gtm\" gtm-label=\"New Zealand vs Australia, Match 37: Preview|39471\" title=\"New Zealand vs Australia, Match 37: Preview\" > <div class=\"cb-pos-rel\"> <img class=\"cb-suggested-vid-img suggested-video-gtm\" gtm-label=\"New Zealand vs Australia, Match 37: Preview|39471\" alt=\"New Zealand vs Australia, Match 37: Preview\" gtm-label=\"New Zealand vs Australia, Match 37: Preview|39471\" title=\"New Zealand vs Australia, Match 37: Preview\" src=\"/a/img/v1/290x164/i1/c175792/new-zealand-vs-australia-matc.jpg\" height=\"164\" width=\"290\" /> <div class=\\'cb-vid-duration\\'>9:13</div> <div class=\"cb-cen\"> <div class=\"cb-vid-sm-ply-api\">&#9658;</div> </div> </div> <h4 class=\"text-hvr-underline suggested-video-gtm\" gtm-label=\"New Zealand vs Australia, Match 37: Preview|39471\">New Zealand vs Australia, Match 37: Preview</h4> </a> <div class=\"cb-nws-time\">\\t15h ago </div> </div> <div class=\"cb-col cb-col-100 cb-mid-wrp\"> <a target=\"_self\" href=\"/cricket-videos/39472/pacers-will-hold-the-key-in-new-zealand-australia-clash-damien-fleming\" class=\"suggested-video-gtm\" gtm-label=\"Pacers will hold the key in New Zealand-Australia clash - Damien Fleming|39472\" title=\"Pacers will hold the key in New Zealand-Australia clash - Damien Fleming\" > <div class=\"cb-pos-rel\"> <img class=\"cb-suggested-vid-img suggested-video-gtm\" gtm-label=\"Pacers will hold the key in New Zealand-Australia clash - Damien Fleming|39472\" alt=\"Pacers will hold the key in New Zealand-Australia clash - Damien Fleming\" gtm-label=\"Pacers will hold the key in New Zealand-Australia clash - Damien Fleming|39472\" title=\"Pacers will hold the key in New Zealand-Australia clash - Damien Fleming\" src=\"/a/img/v1/290x164/i1/c175794/pacers-will-hold-the-key-in-ne.jpg\" height=\"164\" width=\"290\" /> <div class=\\'cb-vid-duration\\'>5:05</div> <div class=\"cb-cen\"> <div class=\"cb-vid-sm-ply-api\">&#9658;</div> </div> </div> <h4 class=\"text-hvr-underline suggested-video-gtm\" gtm-label=\"Pacers will hold the key in New Zealand-Australia clash - Damien Fleming|39472\">Pacers will hold the key in New Zealand-Australia clash - Damien Fleming</h4> </a> <div class=\"cb-nws-time\">\\t13h ago </div> </div> <div class=\"cb-col cb-col-100 cb-mid-wrp\"> <a target=\"_self\" href=\"/cricket-videos/39476/centerstage-cwc-2019-jingoist-reporter-forces-pakistan-angle-into-india-england-contest\" class=\"suggested-video-gtm\" gtm-label=\"Centerstage @ CWC 2019: Jingoist reporter forces Pakistan angle into India-England contest|39476\" title=\"Centerstage @ CWC 2019: Jingoist reporter forces Pakistan angle into India-England contest\" > <div class=\"cb-pos-rel\"> <img class=\"cb-suggested-vid-img suggested-video-gtm\" gtm-label=\"Centerstage @ CWC 2019: Jingoist reporter forces Pakistan angle into India-England contest|39476\" alt=\"Centerstage @ CWC 2019: Jingoist reporter forces Pakistan angle into India-England contest\" gtm-label=\"Centerstage @ CWC 2019: Jingoist reporter forces Pakistan angle into India-England contest|39476\" title=\"Centerstage @ CWC 2019: Jingoist reporter forces Pakistan angle into India-England contest\" src=\"/a/img/v1/290x164/i1/c175799/centerstage-cwc-2019-jingoi.jpg\" height=\"164\" width=\"290\" /> <div class=\\'cb-vid-duration\\'>2:40</div> <div class=\"cb-cen\"> <div class=\"cb-vid-sm-ply-api\">&#9658;</div> </div> </div> <h4 class=\"text-hvr-underline suggested-video-gtm\" gtm-label=\"Centerstage @ CWC 2019: Jingoist reporter forces Pakistan angle into India-England contest|39476\">Centerstage @ CWC 2019: Jingoist reporter forces Pakistan angle into India-England contest</h4> </a> <div class=\"cb-nws-time\">\\t4h ago </div> </div> <div class=\"cb-col cb-col-100 cb-more-btn-cntnr\"> <a target=\"_self\" title =\"Click to view more videos\" href=\"/cricket-videos\" class=\"cb-more-btn\" role=\"button\">More Videos</a> </div> </div> <div class=\"cb-col cb-col-100 cb-hm-rt-itm cb-bg-white\"> <div id=\"mpu2\" class=\"ad-unit center-block\"></div> </div> <div class=\"cb-col cb-col-100 cb-hm-rt-itm cb-bg-white\"> <h4 class=\"cb-mdl-hdr\">Specials</h4> <div class=\"cb-col cb-col-100 cb-mid-wrp\"><a href=\"/cricket-news/108699/icc-cricket-world-cup-2019-new-zealand-craig-mcmillan-interview\" title=\"Craig McMillan - The batting innovator long before the T20 era\"><img class=\"cb-vid-img\" alt=\"Craig McMillan - The batting innovator long before the T20 era\" src=\"/i/news/fth/303x170/images/homepage/qck_1561594068.jpeg\" height=\"170\" width=\"303\"/><h4 class=\"text-hvr-underline\">Craig McMillan - The batting innovator long before the T20 era</h4></a><div class=\"cb-nws-intr\">The former New Zealand cricketer opens up about his playing days, the joy of playing against spin, facing Warne and McGrath and so much more</div></div><div class=\"cb-col cb-col-100 cb-mid-wrp\"><a href=\"/cricket-news/108667/the-indian-constant-in-mushtaq-mohammads-memory-trail\" title=\"The Indian constant in Mushtaq Mohammad\\'s memory trail\"><img class=\"cb-vid-img\" alt=\"The Indian constant in Mushtaq Mohammad\\'s memory trail\" src=\"/i/news/fth/303x170/images/homepage/qck_1561526653.jpeg\" height=\"170\" width=\"303\"/><h4 class=\"text-hvr-underline\">The Indian constant in Mushtaq Mohammad\\'s memory trail</h4></a><div class=\"cb-nws-intr\">Mushtaq Mohammad opens up about the Indian influences through his journey, his love for classical music, a chance meeting with Lata Mangeshkar and more in an exclusive chat</div></div><div class=\"cb-col cb-col-100 cb-mid-wrp\"><a href=\"/cricket-news/108602/afghanistan-pacer-hamid-hassans-promise-kept-as-he-embarks-on-last-lap\" title=\"Hamid Hassan\\'s promise kept as he embarks on last lap\"><img class=\"cb-vid-img\" alt=\"Hamid Hassan\\'s promise kept as he embarks on last lap\" src=\"/i/news/fth/303x170/images/homepage/qck_1561117801.jpeg\" height=\"170\" width=\"303\"/><h4 class=\"text-hvr-underline\">Hamid Hassan\\'s promise kept as he embarks on last lap</h4></a><div class=\"cb-nws-intr\">The Afghanistan pacer has battled through hurdles aplenty to live his World Cup dream, including a career-threatening injury a few years ago</div></div><div class=\"cb-col cb-col-100 cb-mid-wrp\"><a href=\"/cricket-news/108580/wahab-riaz-jofra-archer-faf-du-plessis-angelo-mathews-steve-smith-when-world-cup-stars-played-club-cricke\" title=\"When World Cup stars played club cricket\"><img class=\"cb-vid-img\" alt=\"When World Cup stars played club cricket\" src=\"/i/news/fth/303x170/images/homepage/qck_1561022281.jpeg\" height=\"170\" width=\"303\"/><h4 class=\"text-hvr-underline\">When World Cup stars played club cricket</h4></a><div class=\"cb-nws-intr\">The days when every great cricketer played in English league cricket may be gone, but there are still some at this World Cup who had such a stint. We speak to those who played with them</div></div><div class=\"cb-col cb-col-100 cb-mid-wrp\"><a href=\"/cricket-news/108598/2019-world-cup-joe-root-grandfather-don-root-don-bradman\" title=\"In conversation with grandpa Root\"><img class=\"cb-vid-img\" alt=\"In conversation with grandpa Root\" src=\"/i/news/fth/303x170/images/homepage/qck_1561083998.jpeg\" height=\"170\" width=\"303\"/><h4 class=\"text-hvr-underline\">In conversation with grandpa Root</h4></a><div class=\"cb-nws-intr\">Don, the 83-year-old grandfather of Joe Root, talks about seeing Bradman live as a 14-year-old, and now spending his retired life watching cricket</div></div> </div> <div class=\"cb-col cb-col-100 cb-hm-rt-itm cb-bg-white\"> <div id=\"mpu3\" class=\"ad-unit center-block\"></div> </div> </div> <span id=\"skin_right\" class=\"ad-unit\" style=\"overflow:hidden;position:fixed;top:0;left:calc(50% + 490px);margin-left:3px;z-index:-99;\"></span></div></div><div ng-cloak ng-if=\\'$root.$GEO.continent == \"EU\"\\'><div class=\"feedback-bar text-center cb-col-100 disp-none feedback-menu\" id=\"feedback-bar\" ng-controller=\"FeedbackCtrl\"\\tng-init=\"show_feedback_menu();\"><span class=\"feedback-txt\">We use cookies to improve your experience on our site and to show you non-personalized ads. Find out more in our <a style=\"color:#4A90E2;\" href=\"/info/privacy\">privacy policy</a> and <a style=\"color:#4A90E2;\" href=\"/info/privacy#cookie_policy\">cookie policy</a></span><button class=\"cb-feedback-btn blue-btn cb-cursor\" id=\"close_feedback_btn\" ng-click=\"close_feedback();\">OK</button></div></div><footer id=\"FooterWraper\" itemscope itemtype=\"http://schema.org/WPFooter\" ><div class=\"cb-footer cb-col-100 cb-col\"><div class=\\'cb-ftr-cntnr\\'><div class=\"cb-col-25 cb-col\"><a class=\"center-block\" href=\"/\"><div class=\"cb-ftr-logo cb-ico\"></div></a></div><div class=\"cb-col-25 cb-col\"><div class=\"text-left cb-font-16 text-bold\">MOBILE SITE & APPS</div><ul class=\"cb-ftr-ul\"><li class=\"cb-ftr-lst\"><a href=\"https://m.cricbuzz.com\" class=\"text-white\"><span class=\"cb-mobile-site cb-ico\"></span><span class=\"cb-footer-list-rt\">m.cricbuzz.com</span></a></li><li class=\"cb-ftr-lst\"><a class=\"text-white\" href=\"https://play.google.com/store/apps/details?id=com.cricbuzz.android\" target=\"_blank\"><span class=\"cb-app-android cb-ico\"></span><span class=\"cb-footer-list-rt\">Android</span></a></li><li class=\"cb-ftr-lst\"><a class=\"text-white\" href=\"https://itunes.apple.com/app/id360466413\" target=\"_blank\"><span class=\"cb-app-ios cb-ico\"></span><span class=\"cb-footer-list-rt\">iOS</span></a></li></ul></div><div class=\"cb-col-25 cb-col\"><div class=\"text-left cb-font-16 text-bold\">FOLLOW US ON</div><ul class=\"cb-ftr-ul\"><li class=\"cb-ftr-lst\"><a class=\"text-white\" href=\"https://www.facebook.com/cricbuzz\" target=\"_blank\"><span class=\"cb-social-fb cb-ico\"></span><span class=\"cb-footer-list-rt\">facebook</span></a></li><li class=\"cb-ftr-lst\"><a class=\"text-white\" href=\"https://twitter.com/cricbuzz\" target=\"_blank\"><span class=\"cb-social-twitter cb-ico\"></span><span class=\"cb-footer-list-rt\">twitter</span></a></li><li class=\"cb-ftr-lst\"><a class=\"text-white\" href=\"https://www.youtube.com/channel/UCSRQXk5yErn4e14vN76upOw\" target=\"_blank\"><span class=\"cb-social-ytbe cb-ico\"></span><span class=\"cb-footer-list-rt\">youtube</span></a></li><li class=\"cb-ftr-lst\"><a class=\"text-white\" href=\"https://in.pinterest.com/cricbuzz/\" target=\"_blank\"><span class=\"cb-social-pinterest cb-ico\"></span><span class=\"cb-footer-list-rt\">Pinterest</span></a></li></ul></div><div class=\"cb-col-25 cb-col\"><div class=\"text-left cb-font-16 text-bold\">COMPANY</div><ul class=\"cb-ftr-ul\"><li class=\"cb-ftr-lst\"><a class=\"text-white\" href=\"/careers\">Careers</a></li><li class=\"cb-ftr-lst\"><a class=\"text-white\" href=\"/info/advertise\">Advertise</a></li><li class=\"cb-ftr-lst\"><a class=\"text-white\" rel=\"nofollow\" href=\"/info/privacy\">Privacy Policy</a></li><li class=\"cb-ftr-lst\"><a class=\"text-white\" rel=\"nofollow\" href=\"/info/termsofuse\">Terms of Use</a></li><li class=\"cb-ftr-lst\"><a class=\"text-white\" href=\"/product-blog/cricbuzz-mobile-apps-tv-ad-cricket-ka-keeda\">Cricbuzz TV Ads</a></li></ul></div><div class=\\'cb-col-100 cb-col cb-ftr-cpyrght\\'>&copy; 2019 Cricbuzz.com, Times Internet Limited. All rights reserved | <a class=\\'cb-ftr-cpyrght text-hvr-underline\\' href=\"http://timesofindia.indiatimes.com/\" target=\"_blank\">The Times of India</a> | <a href=\"http://navbharattimes.indiatimes.com/\" target=\"_blank\" class=\\'cb-ftr-cpyrght text-hvr-underline\\'>Navbharat Times</a></div></div></div></footer><script type=\"text/javascript\">var script_tag = document.getElementsByTagName(\\'script\\')[0];\\t(function() {\\tvar cmin = document.createElement(\\'script\\'); cmin.type = \\'text/javascript\\'; cmin.async = true;\\tcmin.src = \\'/dist/js/cricbuzz.min.6501.js\\';\\tscript_tag.parentNode.insertBefore(cmin, script_tag);\\t})();</script><noscript><iframe src=\"//www.googletagmanager.com/ns.html?id=GTM-PGNCT7\"\\theight=\"0\" width=\"0\" style=\"display:none;visibility:hidden\"></iframe></noscript><script>(function(w,d,s,l,i){w[l]=w[l]||[];w[l].push({\\'gtm.start\\':\\tnew Date().getTime(),event:\\'gtm.js\\'});var f=d.getElementsByTagName(s)[0],\\tj=d.createElement(s),dl=l!=\\'dataLayer\\'?\\'&l=\\'+l:\\'\\';j.async=true;j.src=\\t\\'//www.googletagmanager.com/gtm.js?id=\\'+i+dl;f.parentNode.insertBefore(j,f);\\t})(window,document,\\'script\\',\\'dataLayer\\',\\'GTM-PGNCT7\\');</script><script>window.onerror = function(message, file, line) {\\tvar sFormattedMessage = \\'[\\' + file + \\' (\\' + line + \\')] \\' + message;\\tdataLayer.push({\\'EventAction\\': \"Application\",\\'EventLabel\\': sFormattedMessage,\\'event\\': \\'Exceptions\\'});\\t}</script> </body></html>'"
      ]
     },
     "execution_count": 44,
     "metadata": {},
     "output_type": "execute_result"
    }
   ],
   "source": [
    "url.text"
   ]
  },
  {
   "cell_type": "code",
   "execution_count": 45,
   "metadata": {},
   "outputs": [],
   "source": [
    "Soup=url.text"
   ]
  },
  {
   "cell_type": "code",
   "execution_count": 46,
   "metadata": {},
   "outputs": [],
   "source": [
    "s=BeautifulSoup(Soup,'html.parser')"
   ]
  },
  {
   "cell_type": "code",
   "execution_count": 47,
   "metadata": {},
   "outputs": [
    {
     "name": "stdout",
     "output_type": "stream",
     "text": [
      "\n",
      "<!DOCTYPE html>\n",
      "<html itemscope=\"\" itemtype=\"http://schema.org/WebPage\" lang=\"en\"><head><meta charset=\"utf-8\"/><script>var is_mobile = /symbian|tizen|midp|uc(web|browser)|MSIE (5.0|6.0|7.0|8.0)|tablet/i.test(navigator.userAgent);\tif(is_mobile && window.location.hostname != \"www1.cricbuzz.com\") window.location.hostname = \"m.cricbuzz.com\";</script><style>body{background:#E3E6E3; font-family: helvetica,\"Segoe UI\",Arial,sans-serif;color:#222;font-size:14px; line-height: 1.5; margin:0;}\tbody, .cb-comm-pg, .cb-hm-mid {min-height:1000px}\t.container{width:980px;margin:0 auto;}\t.page{max-width: 980px;margin: 0 auto;position: relative;}\t.cb-col-8 {width:8%;}\t.cb-col-10 {width:10%;}\t.cb-col-14 {width:14%;}\t.cb-col-16 {width:16%;}\t.cb-col-20 {width:20%;}\t.cb-col-25 {width:25%;}\t.cb-col-27 {width:27%;}\t.cb-col-33 {width:33%;}\t.cb-col-40 {width:40%;}\t.cb-col-46 {width:46%;}\t.cb-col-47 {width:47%;}\t.cb-col-50 {width:50%;}\t.cb-col-60 {width:60%;}\t.cb-col-66 {width:66%;}\t.cb-col-67 {width:67%;}\t.cb-col-73 {width:73%;}\t.cb-col-75 {width:75%;}\t.cb-col-84 {width:84%;}\t.cb-col-80 {width:80%;}\t.cb-col-90{width:90%;}\t.cb-col-100 {width:100%;}\t.cb-col {display: inline-block;box-sizing: border-box;float: left; min-height: 1px;}\th1 {font-size: 36px;line-height: 42px; margin:0;}\th2 {font-size: 24px; margin:0; line-height: 30px;}\th3 {font-size: 18px;line-height: 24px; margin:0; }\th4 {font-size: 16px; margin:0; }\th5 {font-size: 14px; margin: 0;}\t.cb-font-18 {font-size:18px;}\timg{border-radius: 4px;}\ta {text-decoration: none; color:#222;}\ta, a:hover, a:active, a:focus {outline: medium none;}\t.text-center {text-align: center;}\t.cb-nws-lft-col{padding:15px 20px;}\t.cb-nws-dtl-lft-col {padding: 10px 30px 0 30px;border-right: 1px solid #ecebeb ;}\t.cb-nws-lst-rt{padding-left: 10px;}\t.cb-srs-lst-itm {padding: 10px 0;}\t.cb-lst-itm-sm{padding:10px 0 5px;}\t.cb-scrd-lft-col{padding:15px 10px;} .cb-col-rt{padding: 10px;}\t.text-white{color: #fff;}\t.cb-scrd-hdr-rw, .cb-nav-pill-1.active {background: #028062 ;color: #fff;}\t.cb-nav{position:relative; height:48px;background: #009270;}\t.cb-hm-mnu-itm{padding: 16px 6px 11px; color:#fff; display:inline-block;}\t.cb-hm-text{padding:10px 18px 10px 20px;}\t.cb-hm-rght{padding: 15px;}\t.cb-subnav .cb-sub-navigation {display: none; position: absolute;}\t.cb-mat-mnu{background:#4a4a4a; width:980px; font-size: 0;}\t.cb-mat-mnu-itm{font-size:12px; color:#fff; padding:10px; cursor: pointer; display:inline-block; max-width: 140px;}\t.cb-mat-mnu-ttl{background: #333; padding: 10px 20px;}\t.cb-mat-mnu-wrp{margin-bottom: 10px;}\t.cb-ovr-flo{overflow: hidden; white-space: nowrap; text-overflow: ellipsis;}\t.cb-mat-mnu-all{text-align: center; float: right; width:60px;}\t.cb-nav-main{border-bottom:1px solid #e3e6e3;padding:0 0 5px 20px;}\t.cb-nav-bar{padding-top:10px;clear:both;}\t.cb-lst-itm, .cb-bg-white{background: #fff;}\t.cb-nav-tab.active, .cb-nav-tab-hm.active{ font-weight: bold; color: #028062;}\t.cb-nav-tab.active {border-bottom: 3px solid #028062; line-height: 24px; }\t.cb-nav-tab-hm.active{ border-bottom:2px solid #028062; line-height: 22px;}\t.cb-nav-tab{margin-right:20px;padding-bottom:6px;}\t.cb-nav-tab-hm{margin-right:15px;padding-bottom:6px;}\t.cb-nav-hdr{padding-top:15px}\t.cb-nav-subhdr{padding:5px 0 10px 0;}\t.cb-lv-scr-mtch-hdr{line-height: 21px;font-size: 16px;}\t.disp-none{display:none;}\t.disp-blck{display:block;}\t.cb-font-24{font-size: 24px;}\t.line-ht30{line-height: 30px;}\t.line-ht24{line-height: 24px;}\t.cb-hm-scg-blk{background: #fff; margin-bottom: 5px; height:90px;}\t.mrgn-btm-5{margin-bottom : 5px;}\t#scagTabContent .show{display: block; visibility: visible;}\t#scagTabContent .hide{display: none; visibility: hidden;}\t[ng\\:cloak], [ng-cloak], [data-ng-cloak], [x-ng-cloak], .ng-cloak, .x-ng-cloak { display: none !important;}\t.cb-hm-lft{margin-bottom:5px;padding:0 15px;}\t.cb-hm-lft-hdr{margin:0; padding:15px 15px 0; color: #009270;} .cb-hm-mid {border-left: 5px solid #e3e6e3 ;border-right: 5px solid #e3e6e3 ;padding: 0 15px;} .cb-mtch-blk {border-right: 1px solid #ecebeb ;line-height: 1.4;margin: 15px 0;padding: 0 20px;}\t.crd-cntxt{font-size: 12px; color:#666; padding-bottom: 10px;}\t.big-crd-main{border-top: 1px solid #ecebeb;padding:15px 0 5px; margin-bottom: 1px;clear: both;} .big-crd-reltd-itm {margin: 0 0 10px; width:100%; display: inline-block;}\t.cb-nws-time{font-size:12px; padding-bottom: 5px;}\t.cb-nws-hdln-ancr{padding-bottom: 5px;}\t.cb-hmscg-bwl-txt, .cb-hmscg-bat-txt{font-weight:bold; padding-bottom:4px; height:18px;}\t.cb-hmscg-bwl-txt{color:#666;}\t.sml-crd-main{padding: 15px 0 5px; width: 100%;}\t.big-crd-hdln{margin: 10px 0;}\t.big-crd-rltd-txt {font-weight: bold; margin:10px 0; color:#1866DB;} .cb-nws-intr {color: #666;padding-bottom: 5px;} .cb-lv-scrs-well {background: #f5f5f5 ;display: inline-block;margin: 10px 0;padding: 10px 5px;}\t.cb-hm-mtch-crd-width{min-width:300px;}\t.cb-mr-30{margin-right: 30px;} .cb-schdl-hdr {margin: 0;padding: 15px 0 10px 10px;} .cb-lst-itm-lg {padding: 20px 0;} .cb-left-pad {padding: 20px 10px 0;}\t.cb-nav-pill-1 {background: #CFE0DB;border-radius: 20px;color: #222;cursor: pointer;margin-right: 15px;padding: 5px 20px;} .cb-mtch-lst {padding: 15px 0;}\t.cb-nws-min-cntr{padding: 10px; background: #f5f5f5; color:#333; margin:10px 0 15px;}\t.sml-crd-subtxt{margin:0 10px 10px;}\t/*-------------------------Live Pages -----------------------*/\t.cb-scrcrd-status{padding:0 0 10px 10px;}\t.cb-scrd-hdr-rw{padding:8px 10px;}\t.cb-bg-gray{background: #ecebeb;}\t.cb-lv-grn-strip{background: #ecebeb;}\t.cb-min-hdr-rw, .cb-scrd-sub-hdr{padding: 4px 10px; font-size: 12px; color: #666;}\t.cb-scrd-itms{padding: 4px 10px; font-size: 13px;}\t.cb-text-link {color: #1866DB;}\t.text-bold{font-weight: bold;}\t.text-normal{font-weight: normal;}\t.cb-mat-fct-itm{padding: 5px 0;}\t.cb-min-bat-rw{padding-bottom: 5px;}\t.cb-nws-sub-txt, .cb-nws-sub-txt, .cb-font-12{font-size:12px;}\t.cb-font-16{font-size:16px;}\t.cb-font-20{font-size:20px;}\t.cb-min-inf{padding-top:10px; margin-left: -10px; display: inline-block;}\t.cb-min-itm-rw{padding:5px 10px 0;}\t.text-right{text-align:right;}\t.cb-key-st-lst{padding: 10px 0 0 5px; }\t.cb-min-prw-time{padding:20px 0 0;}\t.cb-toss-sts{padding: 10px 0 30px;}\t.cb-min-rcnt{padding: 7px 10px; margin: 0 -10px 0;}\t.cb-key-lst-wrp{border: 1px solid #ecebeb; padding-bottom: 15px; margin-right: -10px;}\t.cb-min-tm{font-size: 18px; font-weight: bold;}\t.cb-min-stts{padding: 20px 0;}\t.cb-mom-itm{padding: 0 0 10px;}\t.cb-lv-grn-strip {padding: 10px 10px 5px;}\t.cb-ovr-num{padding-top:2px;}\t.cb-min-pad{padding-left: 5px;}\t/*Upcoming Series*/\t.cb-mnth{margin-top: 10px; padding: 0 10px;}\t.cb-sch-lst-itm {padding:10px 0; margin-left: 20px;border-bottom: 1px solid #ecebeb;}\t/*Matches By Day*/\t.cb-mtchs-dy{padding:20px 20px 20px 10px ;}\t.cb-mtchs-dy-tm,.cb-mtchs-dy-vnu{padding:20px 20px 20px 0px;}\t/*Schedule Teams*/\t.cb-lv-upcom-strip{padding: 5px 10px;background: #ecebeb;}\t/*Archives*/\t.cb-srs-cat{padding:10px; color:#028062; }\t.pad-left{padding-left:30px;}\t.cb-arcv-yr{font-size:20px; padding: 0 0 5px 10px;font-weight: bold}\t.cb-yr-tmline{padding: 2px 15px 15px 0;}\t.cb-sch-tms-widgt{padding: 5px 10px; margin:5px 2px 2px 2px; background: #f5f5f5; border-radius: 0; border:0; display: inline-block;}\t/*Photos*/\t.cb-thmb-dark {background: #333333; box-shadow:none; border-radius:4px; border:none; padding:0;color:#CCC;}\t.cb-pht-main {padding:20px 15px;margin: 0 -10px;}\t.cb-pht-block{padding:9px;float:left;height:280px;box-sizing: border-box;} .cb-gallery-pht-block{padding: 9px 9px 9px 16px;}\t.img-responsive{height:auto; max-width:100%;}\t.center-block{margin-right: auto;margin-left: auto;}\t.cb-schdl{padding:0 10px;line-height: 1.5;}\t.cb-caret-up, .cb-caret-down{display: inline-block; width: 0; height: 0; margin-left: 4px; margin-bottom: 1px; border-right: 4px solid transparent; border-left: 4px solid transparent;}\t.cb-caret-up{border-bottom: 4px solid;}\t.cb-caret-down{border-top: 4px solid;}\t.cb-hm-rt-itm{margin: 0 0 5px; padding: 10px 10px 5px;}\t.cb-hmscg-tm-nm{display:inline-block; width: 60px;}\t.pull-right,.cb-all-mtch-tab{float:right;}\t.cb-skin-ads-close{display: none;}\t.cb-nws-sub-txt{padding-top:10px;}\t.nws-dtl-hdln{margin-top:10px;}\t.cb-min-lv{min-height:270px}\t.cb-min-comp{min-height:150px;}\t.cb-ttl-vts{margin-top:20px;}\t.cb-poll-radio{width: 5%;margin:4px 10px 0 0;}\t.cb-mini-tim{padding-bottom:20px;}\t.cb-com-ln{margin: 0 0 10px; line-height: 24px;}\t.cb-comm-static{min-height:31px; margin: 0 -10px 10px;}\t.cb-com-ovr-sum-ad{min-height: 31px;}\t.cb-comm-static-anchr{margin:5px 10px; display: block;}\t.ad-unit-rendered{margin-bottom: 5px;}\t.cb-mm-wrp { max-height: 0px; -webkit-transition: max-height 0.35s ease; transition: max-height 0.35s ease; overflow: hidden; }\t.cb-mm-wrp.down { max-height: 1000px; transition: max-height 0.75s ease; -webkit-transition: max-height 0.75s ease; overflow: hidden;} .cb-srs-hstry-dtl {padding:10px 15px;margin-top:20px; border-radius: 4px;}\t.cb-qck-lnk{margin-bottom: 5px; padding:10px 15px;}\t.cb-qck-hdr{padding-right: 15px; border-right: 1px solid #ecebeb ;}\t.cb-qck-ancr{margin-left: 15px;}\t.cb-lst-vid-rw{padding-bottom: 0; height: 64px; border: 1px solid #ecebeb; margin-right: -10px;}\t.cb-auth-img{border-radius: 100%;}\t.cb-expt-athr{vertical-align: top; padding: 5px 0 0 0; display: inline-block; font-size: 16px}\t.inline-block{display: inline-block;}\t.cb-exprt-athr-hdr{text-align: right;font-size: 42px;font-family: bodani; color: #fff;padding-right: 15px;line-height:44px;text-transform:uppercase;}\t.cb-exprt-athr-hdr-tag{text-align: right;font-size: 24px;font-family: bodani; color: #fff;padding-right: 15px;font-style:italic;}\t.cb-athr-wgt-wrp{border:1px solid #ecebeb; padding:15px; margin-bottom:20px;background:#f5f5f5;}\t.cb-exprt-athr-hdr-img{background: url(\"/images/harsha-banner.jpg\") no-repeat scroll; height:80px;}\t.cb-overflow-hidden{overflow: hidden;}\t/*Videos*/\t.cb-vid-sm-ply-api {color: #fff;line-height: 34px;font-size: 18px;margin-left: 3px;}\t.cb-vid-sml-card-api {margin-top: 10px;height: auto;padding: 0 12px 0 11px;}\t.cb-cat-head-wrap {padding: 0 12px 0 11px;}\t.cb-cat-head-text {margin-top: 5px;line-height: 20px;}\t.cb-more-btn {padding: 8px 20px;border-radius: 2px;color: #fff;background: #009270;border: 0;cursor: pointer;}\t.cb-cat-head-link {float: right;padding: 5px 25px;margin-top: 10px;border-radius: 4px;}\t.cb-pos-rel{position: relative;}\t.cb-videos-cat {border-bottom: 1px solid #ecebeb;padding: 10px 3px 15px 4px;}\t.cb-cat-head-text-wrap {float: left;}\t.cb-cat-head-count {margin: 0;color: #666;}\th2.cb-cat-head-text{font-size : 18px}\t.cb-vid-sml-card-api-head {font-size: 14px;font-weight: bold;line-height: 18px;max-height: 55px;margin: 2px 0 5px;overflow: hidden;}\t.cb-cen {position: absolute;top: 50%;left: 50%;opacity: .8;transform: translateX(-50%) translateY(-50%);-webkit-transform: translateX(-50%) translateY(-50%);-moz-transform: translateX(-50%) translateY(-50%);-ms-transform: translateX(-50%) translateY(-50%);-o-transform: translateX(-50%) translateY(-50%);background: #222;text-align: center;height: 35px;width: 35px;border-radius: 50px;}\t.cb-cen:hover{opacity: 1;}\t.padding-handling-errors{padding: 20px 0px 10px 15px;border-bottom: 1px solid #ecebeb;}\t.cb-col .cb-align-cen{float: none; text-align: center; padding: 7px 25px; margin-top: 20px;}\t.cb-align-cen{padding-top: 10px;}\t.cb-hot-cat{max-width: 90px; text-align: center; padding-right: 0;}\t.cb-hot-cat-img{width: 72px;}\t.cb-vid-slider-arrs{position: absolute; top: 52px; left: 0; right: 0; z-index: 5;}\t.cb-vid-slider-arr{position: absolute; z-index: 5; height: 43px; width: 43px; border-radius: 50%; cursor: pointer;}\t.cb-vid-slider-arr-prev{display: none; left: 0;}\t.cb-vid-slider-arr-next{right: 0;}\t.videos-list-carousal{overflow: hidden; position: relative; height: 220px;}\t.videos-carousal-wrapper{float: none; list-style: none; padding: 0; margin: 0; transition: all 0.3s ease; display: flex; flex-direction: row; position: absolute; left: 0;}\t.videos-carousal-item{min-width: 25%; justify-content: center; align-items: center;}\t.cb-vid-more{float: right; color: #2C3E9A; font-size: 18px;}\t.cb-vid-more:hover{text-decoration: underline;}\t.cat-vid-carousal{height: 135px !important;}\t.cat-vid-carousal .videos-carousal-item{min-width: auto;}\t.cat-vid-carousal .cb-vid-slider-arrs{top: 24px;}\t.cb-srs-sqd-box{min-height: 700px; background: #fff;}\t.cb-float-none{float: none;}\t.cb-margin-top-10{margin-top: 10px;}\t.cb-schdl-nvtb {margin: 0 0 10px 0;padding: 10px;}\t.cb-carousal-item-small {padding: 0 0 0 16px;}\t.cb-carousal-item-small:first-child {padding-left: 11px;}\t.cb-carousal-item-large {padding: 0 11px;}\t.cb-carousal-item-small .cb-vid-txt-wrp{font-size: 12px;}\t.cb-hot-cat .cb-vid-txt-wrp{display: -webkit-box; -webkit-box-orient: vertical; -webkit-line-clamp: 2; overflow: hidden; max-height: 40px;}\t/*Rankings*/\t.cb-ranking-nav.active{line-height: 21px}\t.cb-rank-plyr{padding-left:15px}\t.text-left{text-align:left;}\t.cb-rank-tabs{padding-left: 10px;}\t.cb-plyr-tbody{padding:5px 0;}\t.cb-padding-left0{padding-left: 0;}\t.cb-rank-hdr{margin-top: 15px; padding: 5px 0;}\t.cb-bg-grey{background: #f5f5f5;}\t/*Players*/\t.cb-player-name-wrap{padding-top: 90px;}\t.cb-plyr-tbl{margin-top: 30px}\t.cb-font-40{font-size:40px;}\t/*Teams*/\t.cb-cursor-pointer{cursor: pointer;}\t.cb-team-stats-btn{margin-top: 21px;}\t.cb-upper-text{text-transform: capitalize;}</style><script>function getCookie(c_name){\tvar i,x,y,ARRcookies=document.cookie.split(\";\");\tfor (i=0;i<ARRcookies.length;i++){\tx=ARRcookies[i].substr(0,ARRcookies[i].indexOf(\"=\"));\ty=ARRcookies[i].substr(ARRcookies[i].indexOf(\"=\")+1);\tx=x.replace(/^\\s+|\\s+$/g,\"\");\tif (x==c_name){\treturn unescape(y);\t}\t}\t}\tvar cbads_value = getCookie(\"cbzads\");\tif(cbads_value != null && cbads_value.indexOf('IN|AS') >= 0){\tdocument.write(\"<style>.cb-geo-in-50{height:50px}</style>\")\t}\t/*polifill for remove function*/\tif (!('remove' in Element.prototype)) {\tElement.prototype['remove'] = function () {\tif (this.parentNode) {\tthis.parentNode.removeChild(this);\t}\t};\t}</script><meta content=\"IE=edge\" http-equiv=\"X-UA-Compatible\"><meta content=\"\" name=\"author\"/><link href=\"/images/cric_ball.ico\" rel=\"shortcut icon\" type=\"image/x-icon\"/><meta content=\"125255339112-d594jen12o0j854sufu8jfn2gbbnaskj.apps.googleusercontent.com\" name=\"google-signin-client_id\"/><link href=\"/images/apple-touch-icon.png\" rel=\"apple-touch-icon\"/> <title itemprop=\"name\">World Cup 2019, Cricket Score, Schedule, Latest News, Stats &amp; Videos | Cricbuzz.com</title><meta content=\"Get Live Cricket Score, Scorecard, Schedules of International, Domestic and World Cup matches along with Latest News, Videos and ICC Cricket Rankings of Players on Cricbuzz.\" itemprop=\"description\" name=\"description\"/><link href=\"android-app://com.cricbuzz.android/http/www.cricbuzz.com/\" rel=\"alternate\"/><link href=\"//m.cricbuzz.com/\" media=\"only screen and (max-width: 640px)\" rel=\"alternate\"/><meta content=\"index, follow\" name=\"robots\"/><meta content=\"index, follow\" name=\"googlebot\"/><meta content=\"google89fd37b1258ef4b9.html\" name=\"google-site-verification\"/><meta content=\"fd560568b43f31382de30f628c8430bd\" name=\"p:domain_verify\"/><meta content=\"A509FA8BAE50018F9DF2553AEDEDF77B\" name=\"msvalidate.01\"/> <meta content=\"World Cup 2019, Cricket Score, Schedule, Latest News, Stats &amp; Videos\" property=\"og:title\"/><meta content=\"Get Live Cricket Score, Scorecard, Schedules of International, Domestic and World Cup matches along with Latest News, Videos and ICC Cricket Rankings of Players on Cricbuzz.\" property=\"og:description\"/><meta content=\"http://www.cricbuzz.com\" property=\"og:image\"/><meta content=\"https://www.cricbuzz.com\" property=\"og:image:secure_url\"/><meta content=\"30119633160\" property=\"fb:app_id\"/><meta content=\"Cricbuzz\" property=\"og:site_name\"/> <meta content=\"World Cup 2019, Cricket Score, Schedule, Latest News, Stats &amp; Videos\" property=\"twitter:title\"/><meta content=\"Get Live Cricket Score, Scorecard, Schedules of International, Domestic and World Cup matches along with Latest News, Videos and ICC Cricket Rankings of Players on Cricbuzz.\" property=\"twitter:description\"/><meta content=\"https://www.cricbuzz.com\" property=\"twitter:image\"/><meta content=\"@cricbuzz\" name=\"twitter:site\"/><meta content=\"cricbuzz.com\" name=\"twitter:domain\"/><meta content=\"Cricbuzz\" name=\"twitter:app:name:iphone\"/><meta content=\"360466413\" name=\"twitter:app:id:iphone\"/><meta content=\"Cricbuzz\" name=\"twitter:app:name:googleplay\"/><meta content=\"com.cricbuzz.android\" name=\"twitter:app:id:googleplay\"/><meta content=\"on\" name=\"twitter:widgets:csp\"/><meta content=\"178697151159\" property=\"fb:pages\"><meta content=\"\" name=\"keywords\"/><meta content=\"\" name=\"news_keywords\"/><link href=\"https://www.cricbuzz.com\" rel=\"canonical\"/><meta content=\"none\" name=\"msapplication-config\"><script>var PAGE_NAME = \"cb-homepage\";\tvar PAGE_TARGETS = {};\tvar CBQueue = CBQueue || [];\tvar CBQueueOnLoad = CBQueueOnLoad || [];\t/*CBQueue.push(function(){roadblock(2,{country:[\"US\",\"CA\", \"ZA\", \"AU\"], continent:[\"EU\"]});});*/\tCBQueue.push(function(){roadblock(2,{country:[\"US\"]});});\t_udn = \"cricbuzz.com\";</script><script>(function(w){\t\"use strict\";\tvar loadCSS = function( href, before, media ){\tvar doc = w.document;\tvar ss = doc.createElement( \"link\" );\tvar ref;\tif( before ){\tref = before;\t}\telse {\tvar refs = ( doc.body || doc.getElementsByTagName( \"head\" )[ 0 ] ).childNodes;\tref = refs[ refs.length - 1];\t}\tvar sheets = doc.styleSheets;\tss.rel = \"stylesheet\";\tss.href = href;\tss.media = \"only x\";\tref.parentNode.insertBefore( ss, ( before ? ref : ref.nextSibling ) );\tvar onloadcssdefined = function( cb ){\tvar resolvedHref = ss.href;\tvar i = sheets.length;\twhile( i-- ){\tif( sheets[ i ].href === resolvedHref ){\treturn cb();\t}\t}\tsetTimeout(function() {\tonloadcssdefined( cb );\t});\t};\tss.onloadcssdefined = onloadcssdefined;\tonloadcssdefined(function() {\tss.media = media || \"all\";\t});\treturn ss;\t};\tif( typeof module !== \"undefined\" ){\tmodule.exports = loadCSS;\t}\telse {\tw.loadCSS = loadCSS;\t}\t}( typeof global !== \"undefined\" ? global : this ));\tloadCSS( \"/dist/css/cricbuzz.min.6501.css\" );</script><noscript><link href=\"/dist/css/cricbuzz.min.6501.css\" rel=\"stylesheet\" type=\"text/css\"/></noscript></meta></meta></meta></head><body><a href=\"https://plus.google.com/104502282508811467249\" rel=\"publisher\"></a><a class=\"cb-skin-ads-link cb-skin-ads-link-fixed ad-skin\" href=\"Javascript:void(0)\" id=\"ad-skin\" target=\"_blank\"></a><a class=\"cb-skin-ads-close cb-font-18 ad-skin-close\" href=\"Javascript:void(0)\" style=\"position:fixed; z-index:1001; color:#FFF; background:#000; padding:2px 5px; right:2px;\">✖</a><header id=\"top\" itemscope=\"\" itemtype=\"http://schema.org/WPHeader\" style=\"z-index: 1000;position: relative;padding-top:10px;width:980px;margin:0 auto;\"><div class=\"container\"><div class=\"ad-unit text-center center-block\" id=\"leaderboard\" style=\"min-height:90px;margin-bottom:10px;\"></div><div class=\"ad-unit\" id=\"countdown\" style=\"margin:-10px 15px 0px;float:right;position:absolute;\"></div><div class=\"toi-branding toi-referral\"></div><nav class=\"cb-nav cb-col cb-col-100\" id=\"cb-main-menu\"><a class=\"cb-hm-text\" href=\"/\" target=\"_self\"><img alt=\"Cricbuzz Logo\" height=\"30\" itemprop=\"image\" src=\"/images/cbz-logo.png\" style=\"bottom: -4px; position: relative;\" title=\"Cricbuzz Logo\" width=\"101\"/></a><a class=\"cb-hm-mnu-itm\" href=\"/cricket-match/live-scores\" target=\"_self\" title=\"Live Cricket Score\">Live Scores</a><a class=\"cb-hm-mnu-itm\" href=\"/cricket-schedule/upcoming-series/international\" target=\"_self\" title=\"Cricket Schedule\">Schedule</a><a class=\"cb-hm-mnu-itm\" href=\"/cricket-scorecard-archives\" target=\"_self\" title=\"Cricket Scorecard Archives\">Archives</a><div class=\"cb-subnav cb-hm-mnu-itm feature-button cursor-pointer\" id=\"newsDropDown\"><a class=\"text-white\" href=\"/cricket-news\" target=\"_self\">News</a><span class=\"cb-caret-down\"></span><nav class=\"cb-sub-navigation\"><a class=\"cb-subnav-item\" href=\"/cricket-news\" target=\"_self\" title=\"Latest Cricket News\">All Stories</a><a class=\"cb-subnav-item\" href=\"/cricket-news/latest-news\" target=\"_self\" title=\"Latest Cricket News\">Latest News</a><a class=\"cb-subnav-item\" href=\"/cricket-news/info/\" target=\"_self\" title=\"Latest Cricket Topics\">Topics</a><a class=\"cb-subnav-item\" href=\"/cricket-news/editorial/spotlight\" target=\"_self\" title=\"Cricket Editorials and Specials\">Spotlight</a><a class=\"cb-subnav-item\" href=\"/cricket-news/editorial/editorial-list\" target=\"_self\" title=\"Latest Cricket Opinions &amp; Editorials\">Opinions</a><a class=\"cb-subnav-item\" href=\"/cricket-news/editorial/specials\" target=\"_self\" title=\"Latest Cricket Specials\">Specials</a><a class=\"cb-subnav-item\" href=\"/cricket-news/editorial/stats-analysis\" target=\"_self\" title=\"Latest Cricket Stats &amp; Analysis\">Stats &amp; Analysis</a><a class=\"cb-subnav-item\" href=\"/cricket-news/editorial/interviews\" target=\"_self\" title=\"Latest Cricket Player Interviews\">Interviews</a><a class=\"cb-subnav-item\" href=\"/cricket-news/editorial/live-blogs\" target=\"_self\" title=\"Latest Cricket Match live blogs\">Live Blogs</a><a class=\"cb-subnav-item\" href=\"/cricket-news/experts/harsha-bhogle/170\" target=\"_self\" title=\"Articles and Videos by Harsha Bhogle\">Harsha Bhogle</a></nav></div><div class=\"cb-subnav cb-hm-mnu-itm feature-button cursor-pointer\" id=\"seriesDropDown\"><a class=\"text-white\" href=\"/cricket-schedule/series\" target=\"_self\">Series</a><span class=\"cb-caret-down\"></span><nav class=\"cb-sub-navigation\"><a class=\"cb-subnav-item\" href=\"/cricket-series/2697/icc-cricket-world-cup-2019\" target=\"_self\" title=\"ICC Cricket World Cup 2019\">ICC Cricket World Cup 2019</a><a class=\"cb-subnav-item\" href=\"/cricket-series/2818/zimbabwe-tour-of-netherlands-2019\" target=\"_self\" title=\"Zimbabwe tour of Netherlands, 2019\">Zimbabwe tour of Netherlands, 2019</a><a class=\"cb-subnav-item\" href=\"/cricket-series/2844/malaysia-tri-series-2019\" target=\"_self\" title=\"Malaysia Tri-Series 2019\">Malaysia Tri-Series 2019</a><a class=\"cb-subnav-item\" href=\"/cricket-series/2793/zimbabwe-tour-of-ireland-2019\" target=\"_self\" title=\"Zimbabwe tour of Ireland, 2019\">Zimbabwe tour of Ireland, 2019</a><a class=\"cb-subnav-item\" href=\"/cricket-series/2777/west-indies-women-tour-of-england-2019\" target=\"_self\" title=\"West Indies Women tour of England, 2019\">West Indies Women tour of England, 2019</a><a class=\"cb-subnav-item\" href=\"/cricket-series/2780/county-championship-division-one-2019\" target=\"_self\" title=\"County Championship Division One 2019\">County Championship Division One 2019</a></nav></div><div class=\"cb-subnav cb-hm-mnu-itm feature-button cursor-pointer\" id=\"teamDropDown\"><a class=\"text-white\" href=\"/cricket-team\" target=\"_self\">Teams</a><span class=\"cb-caret-down\"></span><nav class=\"cb-sub-navigation cb-sub-lg\"> <div class=\"cb-sub-lg-outer\"> <div class=\"cb-sub-lg-sec\"> <h4 class=\"cb-sub-lg-sec-head\">Test Teams</h4> <a class=\"cb-subnav-item cb-sub-lg-sec-item\" href=\"/cricket-team/india/2\" target=\"_self\" title=\"India Cricket Team\">India</a> <a class=\"cb-subnav-item cb-sub-lg-sec-item\" href=\"/cricket-team/pakistan/3\" target=\"_self\" title=\"Pakistan Cricket Team\">Pakistan</a> <a class=\"cb-subnav-item cb-sub-lg-sec-item\" href=\"/cricket-team/australia/4\" target=\"_self\" title=\"Australia Cricket Team\">Australia</a> <a class=\"cb-subnav-item cb-sub-lg-sec-item\" href=\"/cricket-team/sri-lanka/5\" target=\"_self\" title=\"Sri Lanka Cricket Team\">Sri Lanka</a> <a class=\"cb-subnav-item cb-sub-lg-sec-item\" href=\"/cricket-team/bangladesh/6\" target=\"_self\" title=\"Bangladesh Cricket Team\">Bangladesh</a> <a class=\"cb-subnav-item cb-sub-lg-sec-item\" href=\"/cricket-team/england/9\" target=\"_self\" title=\"England Cricket Team\">England</a> <a class=\"cb-subnav-item cb-sub-lg-sec-item\" href=\"/cricket-team/west-indies/10\" target=\"_self\" title=\"West Indies Cricket Team\">West Indies</a> <a class=\"cb-subnav-item cb-sub-lg-sec-item\" href=\"/cricket-team/south-africa/11\" target=\"_self\" title=\"South Africa Cricket Team\">South Africa</a> <a class=\"cb-subnav-item cb-sub-lg-sec-item\" href=\"/cricket-team/zimbabwe/12\" target=\"_self\" title=\"Zimbabwe Cricket Team\">Zimbabwe</a> <a class=\"cb-subnav-item cb-sub-lg-sec-item\" href=\"/cricket-team/new-zealand/13\" target=\"_self\" title=\"New Zealand Cricket Team\">New Zealand</a> <a class=\"cb-subnav-item cb-sub-lg-sec-item\" href=\"/cricket-team/ireland/27\" target=\"_self\" title=\"Ireland Cricket Team\">Ireland</a> <a class=\"cb-subnav-item cb-sub-lg-sec-item\" href=\"/cricket-team/afghanistan/96\" target=\"_self\" title=\"Afghanistan Cricket Team\">Afghanistan</a> </div> <div class=\"cb-sub-lg-sec\"> <h4 class=\"cb-sub-lg-sec-head\">Associate</h4> <a class=\"cb-subnav-item cb-sub-lg-sec-item\" href=\"/cricket-team/united-arab-emirates/7\" target=\"_self\" title=\"United Arab Emirates Cricket Team\">United Arab Emirates</a> <a class=\"cb-subnav-item cb-sub-lg-sec-item\" href=\"/cricket-team/hong-kong/8\" target=\"_self\" title=\"Hong Kong Cricket Team\">Hong Kong</a> <a class=\"cb-subnav-item cb-sub-lg-sec-item\" href=\"/cricket-team/kenya/14\" target=\"_self\" title=\"Kenya Cricket Team\">Kenya</a> <a class=\"cb-subnav-item cb-sub-lg-sec-item\" href=\"/cricket-team/united-states/15\" target=\"_self\" title=\"United States Cricket Team\">United States</a> <a class=\"cb-subnav-item cb-sub-lg-sec-item\" href=\"/cricket-team/scotland/23\" target=\"_self\" title=\"Scotland Cricket Team\">Scotland</a> <a class=\"cb-subnav-item cb-sub-lg-sec-item\" href=\"/cricket-team/netherlands/24\" target=\"_self\" title=\"Netherlands Cricket Team\">Netherlands</a> <a class=\"cb-subnav-item cb-sub-lg-sec-item\" href=\"/cricket-team/bermuda/25\" target=\"_self\" title=\"Bermuda Cricket Team\">Bermuda</a> <a class=\"cb-subnav-item cb-sub-lg-sec-item\" href=\"/cricket-team/canada/26\" target=\"_self\" title=\"Canada Cricket Team\">Canada</a> <a class=\"cb-subnav-item cb-sub-lg-sec-item\" href=\"/cricket-team/uganda/44\" target=\"_self\" title=\"Uganda Cricket Team\">Uganda</a> <a class=\"cb-subnav-item cb-sub-lg-sec-item\" href=\"/cricket-team/malaysia/71\" target=\"_self\" title=\"Malaysia Cricket Team\">Malaysia</a> <a class=\"cb-subnav-item cb-sub-lg-sec-item\" href=\"/cricket-team/nepal/72\" target=\"_self\" title=\"Nepal Cricket Team\">Nepal</a> <a class=\"cb-subnav-item cb-sub-lg-sec-item\" href=\"/cricket-team/germany/77\" target=\"_self\" title=\"Germany Cricket Team\">Germany</a> </div> </div> <a class=\"cb-sub-lg-more\" href=\"/cricket-team\" target=\"_self\">More...</a></nav></div> <div class=\"cb-subnav cb-hm-mnu-itm feature-button cursor-pointer\" id=\"videosDropDown\"><a class=\"text-white\" href=\"/cricket-videos\" target=\"_self\">Videos</a><span class=\"cb-caret-down\"></span> <nav class=\"cb-sub-navigation\"> <a class=\"cb-subnav-item\" href=\"/cricket-videos\" target=\"_self\" title=\"All Cricket Videos\">All Videos</a> <a class=\"cb-subnav-item\" href=\"/cricket-videos/categories\" target=\"_self\" title=\"Cricket Videos Categories\">Categories</a> <a class=\"cb-subnav-item\" href=\"/cricket-videos/playlists\" target=\"_self\" title=\"Cricket Videos Playlists\">Playlists</a> </nav> </div> <div class=\"cb-subnav cb-hm-mnu-itm feature-button cursor-pointer\" id=\"rankingDropDown\"><a class=\"text-white\" href=\"/cricket-stats/icc-rankings/men/batting\">Rankings</a><span class=\"cb-caret-down\"></span><nav class=\"cb-sub-navigation\"><a class=\"cb-subnav-item\" href=\"/cricket-stats/icc-rankings/men/batting\" target=\"_self\" title=\"ICC Rankings Men\">ICC Rankings - Men</a><a class=\"cb-subnav-item\" href=\"/cricket-stats/icc-rankings/women/batting\" target=\"_self\" title=\"ICC Rankings Women\">ICC Rankings - Women</a></nav></div> <div class=\"cb-subnav cb-hm-mnu-itm feature-button cursor-pointer\">More<span class=\"cb-caret-down\"></span><nav class=\"cb-sub-navigation\" style=\"right:0px;\"> <a class=\"cb-subnav-item\" href=\"/cricket-photo-gallery\" target=\"_self\" title=\"Photo Gallery\">Photos</a> <a class=\"cb-subnav-item\" href=\"/mobileapps\" target=\"_self\" title=\"Mobile Apps\">Mobile Apps</a><a class=\"cb-subnav-item\" href=\"/careers\" target=\"_self\" title=\"Careers\">Careers</a><a class=\"cb-subnav-item\" href=\"/info/contact\" target=\"_self\" title=\"Contact Us\">Contact Us</a></nav></div> <div ng-controller=\"SearchCtrl\" ng-init=\" init(-1, 61, 76, 350, '', 'nav')\"> <div class=\"cb-nav-search-wrap\" ng-style=\"{width: inputFocus?'830px':'170px'}\"> <div class=\"cb-col-100 cb-col cb-srch-bar cb-srch-bar-nav\"> <form class=\"cb-search-form\" name=\"form\" ng-cloak=\"\" ng-submit=\"search_results(false, false)\"> <div class=\"cb-search-input-nav\"> <div class=\"cb-search-outer\"> <div class=\"cb-search-input-wrap\"> <input autocomplete=\"off\" class=\"js-cb-search-input cb-search-input-elem cb-search-input-elem-nav form-control cb-car-inp cb-srch-bg\" id=\"search_bar\" maxlength=\"500\" name=\"search\" ng-blur=\"loseInputFocus()\" ng-change=\"suggest_search()\" ng-class=\"{'cb-search-input-elem-error-nav':errorText, 'cb-srch-high-zIndex':dropdownVisible, 'cb-srch-input-focus':inputFocus}\" ng-focus=\"onInputFocus()\" ng-keydown=\"onKeyPress($event)\" ng-model=\"searchText\" ng-model-options=\"{ debounce: 400 }\" placeholder=\"{{errorText?errorText:(source == 'nav' &amp;&amp; inputFocus) || source == 'search-page'?'Search for Player, Series, Team, News or Video. eg: Windies tour of India': 'Search'}}\" type=\"text\" value=\"suggest.title\"/> <span class=\"cb-ico cb-search-input-icon cb-search-input-icon-nav\"></span> <span class=\"cb-srch-cross-new cb-srch-cross-new-nav cb-font-14\" ng-class=\"{'cb-srch-cross-focus': inputFocus, 'cb-srch-high-zIndex':dropdownVisible}\" ng-click=\"reset_form('view');\" ng-show=\"searchText.length &gt; 0\">â</span> </div> <div class=\"cb-srch-backdrop\" ng-click=\"hideDropdown()\" ng-show=\"dropdownVisible\"></div> <div class=\"cb-main-srch-box-wrap\" ng-show=\"dropdownVisible &amp;&amp; searchText.length &gt;= 2 &amp;&amp; search_ftr_suggst.length &gt; 0\"> <ul class=\"cb-main-srch-box\" id=\"searchBox_nav\"> <li class=\"cb-main-srch-box-item {{selected_suggestions == $index?'highlight':''}}\" id=\"search_item_{{$index}}\" ng-class=\"{'cb-main-srch-box-item-border':suggest.hasBorder, 'cb-big': suggest.isSearchItem}\" ng-click=\"search_results()\" ng-mouseover=\"highlight_item_mouse_hover($index)\" ng-repeat=\"suggest in search_ftr_suggst track by $index\" ng-show=\"suggestions &amp;&amp; searchText.length &gt; 0 &amp;&amp; inputFocus\"> <a class=\"text-black cb-srch-suggest-link\" ng-if=\"!suggest.isSearchItem\"> <div class=\"cb-srch-suggest-img\" ng-class=\"{'cb-srch-suggest-img-teams': suggest.type == 'Teams'}\"> <div class=\"\" ng-if=\"suggest.imgUrl\"> <img class=\"cb-srch-suggest-icon-img\" ng-src=\"{{suggest.imgUrl}}\"> </img></div> <div class=\"cb-srch-sugggest-icon {{suggest.iconClass}} cb-ico\" ng-if=\"!suggest.imgUrl\"> </div> </div> <div class=\"cb-srch-suggest-content\"> <p class=\"cb-srch-suggest-content-title\" ng-bind-html=\"suggest | searchfilter:oldText\"></p> <p class=\"cb-srch-suggest-content-subtitle cb-font-12 cb-text-gray\">{{suggest.tag}}</p> </div> </a> <a class=\"text-black cb-srch-suggest-link\" href=\"javascript:void(0)\" ng-if=\"suggest.isSearchItem\"> <div class=\"cb-srch-suggest-img\"> <div class=\"cb-srch-sugggest-icon cb-srch-sugggest-icon-search cb-ico\"> </div> </div> <div class=\"cb-srch-suggest-content cb-center-text\"> <p class=\"cb-srch-suggest-content-title\">Search for “<span ng-bind=\"searchText\"></span>”</p> </div> </a> </li> </ul> </div> </div> </div> <div class=\"cb-search-submit-nav\" ng-class=\"{'cb-search-submit-input-focus': inputFocus, 'cb-search-submit-error': errorText}\"> <a class=\"text-white cb-srch-bttn\" ng-class=\"{'cb-srch-high-zIndex':dropdownVisible}\" ng-click=\"search_results(false, true)\">SEARCH</a> </div> </form></div><style>.cb-srch-ico{margin: 0}</style> </div> </div> </nav></div></header><div class=\"page\"><div id=\"fb-root\"></div><div class=\"container\" id=\"page-wrapper\" style=\"display:inline-block;\"><div class=\"ad-unit shosh-embed\" id=\"shosh\" style=\"height:0; width:980px; text-align:center;\"></div><span class=\"ad-unit\" id=\"skin_left\" style=\"overflow:hidden; position:fixed;top:0;left:calc(50% - 635px);margin-right:3px;z-index:-99;\"></span> <div class=\"cb-col cb-col-100\"><div class=\"cb-col cb-col-100 html-refresh\" id=\"match_menu_container\" timeout=\"45000\" url=\"/api/html/homepage-scag\"><div class=\"cb-nav-main cb-bg-white\" ng-init=\"run_active = 'Featured'\"><nav class=\"cb-nav-bar\" id=\"scagTab\"><a class=\"cb-nav-tab-hm active\" href=\"javascript:void(0)\" id=\"featured-mtchs-tab\" ng-class=\"{true:'active',false:''}[run_active == 'Featured']\" ng-click=\"run_active = 'Featured'\">Featured</a><a class=\"cb-nav-tab-hm\" href=\"javascript:void(0)\" id=\"international-mtchs-tab\" ng-class=\"{true:'active',false:''}[run_active == 'International']\" ng-click=\"run_active = 'International'\">International</a><a class=\"cb-nav-tab-hm\" href=\"javascript:void(0)\" id=\"icc-cricket-wc-2019-mtchs-tab\" ng-class=\"{true:'active',false:''}[run_active == 'ICC Cricket WC 2019']\" ng-click=\"run_active = 'ICC Cricket WC 2019'\">ICC Cricket WC 2019</a><a class=\"cb-nav-tab-hm\" href=\"javascript:void(0)\" id=\"pak-u19-tour-of-sa-mtchs-tab\" ng-class=\"{true:'active',false:''}[run_active == 'PAK U19 tour of SA']\" ng-click=\"run_active = 'PAK U19 tour of SA'\">PAK U19 tour of SA</a><a class=\"cb-nav-tab-hm cb-text-link cb-all-mtch-tab\" href=\"/cricket-match/live-scores\" id=\"AllMatches\" title=\"Live Scores of Cricket Matches\">All Matches</a></nav></div><div class=\"cb-bg-white\" id=\"hm-scag-mtch-blk\" style=\"min-height:90px;\"><div ng-if=\"run_active == 'Featured'\"><div class=\"cb-col-100 cb-col cb-hm-scg-blk\"><div class=\"cb-col cb-col-25 cb-mtch-blk\"><a class=\"cb-font-12\" href=\"/live-cricket-scores/20272/pak-vs-afg-match-36-icc-cricket-world-cup-2019\" target=\"_self\" title=\"Pakistan v Afghanistan - Match 36\"><div class=\"cb-hmscg-bat-txt cb-ovr-flo\"><div class=\"cb-ovr-flo cb-hmscg-tm-nm\">AFG</div><div class=\"cb-ovr-flo\" style=\"display:inline-block; width:140px\">82/3 (15.4 Ovs)</div></div><div class=\"cb-hmscg-bwl-txt\"><div class=\"cb-ovr-flo cb-hmscg-tm-nm\">PAK</div><div class=\"cb-ovr-flo\" style=\"display:inline-block; width:140px\"></div></div><div class=\"cb-ovr-flo cb-text-live\">Afghanistan opt to bat</div></a></div><div class=\"cb-col cb-col-25 cb-mtch-blk\"><a class=\"cb-font-12\" href=\"/live-cricket-scores/20274/eng-vs-ind-match-38-icc-cricket-world-cup-2019\" target=\"_self\" title=\"England v India - Match 38\"><div class=\"cb-hmscg-bat-txt cb-ovr-flo\">England</div> <div class=\"cb-hmscg-bat-txt cb-ovr-flo\">India</div><div class=\"cb-ovr-flo cb-text-preview\" ng-bind=\"1561887000000 |date: 'EEEE, d MMM, hh:mm a'\"></div></a></div><div class=\"cb-col cb-col-25 cb-mtch-blk\"><a class=\"cb-font-12\" href=\"/live-cricket-scores/20273/nz-vs-aus-match-37-icc-cricket-world-cup-2019\" target=\"_self\" title=\"New Zealand v Australia - Match 37\"><div class=\"cb-hmscg-bat-txt cb-ovr-flo\">New Zealand</div> <div class=\"cb-hmscg-bat-txt cb-ovr-flo\">Australia</div><div class=\"cb-ovr-flo cb-text-preview\" ng-bind=\"1561811400000 |date: 'EEEE, d MMM, hh:mm a'\"></div></a></div><div class=\"cb-col cb-col-25 cb-mtch-blk\"><a class=\"cb-font-12\" href=\"/live-cricket-scores/20271/sl-vs-rsa-match-35-icc-cricket-world-cup-2019\" target=\"_self\" title=\"Sri Lanka v South Africa - Match 35\"><div class=\"cb-hmscg-bat-txt cb-ovr-flo\"><div class=\"cb-ovr-flo cb-hmscg-tm-nm\">RSA</div><div class=\"cb-ovr-flo\" style=\"display:inline-block; width:140px\">206/1 (37.2 Ovs)</div></div><div class=\"cb-hmscg-bwl-txt\"><div class=\"cb-ovr-flo cb-hmscg-tm-nm\">SL</div><div class=\"cb-ovr-flo\" style=\"display:inline-block; width:140px\">203 (49.3 Ovs)</div></div><div class=\"cb-ovr-flo cb-text-complete\">South Africa won by 9 wkts</div></a></div></div></div><div ng-if=\"run_active == 'International'\"><div class=\"cb-col-100 cb-col cb-hm-scg-blk ng-cloak\"><div class=\"cb-col cb-col-25 cb-mtch-blk\"><a class=\"cb-font-12\" href=\"/live-cricket-scores/20272/pak-vs-afg-match-36-icc-cricket-world-cup-2019\" target=\"_self\" title=\"Pakistan v Afghanistan - Match 36\"><div class=\"cb-hmscg-bat-txt cb-ovr-flo\"><div class=\"cb-ovr-flo cb-hmscg-tm-nm\">AFG</div><div class=\"cb-ovr-flo\" style=\"display:inline-block; width:140px\">82/3 (15.4 Ovs)</div></div><div class=\"cb-hmscg-bwl-txt\"><div class=\"cb-ovr-flo cb-hmscg-tm-nm\">PAK</div><div class=\"cb-ovr-flo\" style=\"display:inline-block; width:140px\"></div></div><div class=\"cb-ovr-flo cb-text-live\">Afghanistan opt to bat</div></a></div><div class=\"cb-col cb-col-25 cb-mtch-blk\"><a class=\"cb-font-12\" href=\"/live-cricket-scores/20274/eng-vs-ind-match-38-icc-cricket-world-cup-2019\" target=\"_self\" title=\"England v India - Match 38\"><div class=\"cb-hmscg-bat-txt cb-ovr-flo\">England</div> <div class=\"cb-hmscg-bat-txt cb-ovr-flo\">India</div><div class=\"cb-ovr-flo cb-text-preview\" ng-bind=\"1561887000000 |date: 'EEEE, d MMM, hh:mm a'\"></div></a></div><div class=\"cb-col cb-col-25 cb-mtch-blk\"><a class=\"cb-font-12\" href=\"/live-cricket-scores/20273/nz-vs-aus-match-37-icc-cricket-world-cup-2019\" target=\"_self\" title=\"New Zealand v Australia - Match 37\"><div class=\"cb-hmscg-bat-txt cb-ovr-flo\">New Zealand</div> <div class=\"cb-hmscg-bat-txt cb-ovr-flo\">Australia</div><div class=\"cb-ovr-flo cb-text-preview\" ng-bind=\"1561811400000 |date: 'EEEE, d MMM, hh:mm a'\"></div></a></div><div class=\"cb-col cb-col-25 cb-mtch-blk\"><a class=\"cb-font-12\" href=\"/live-cricket-scores/20271/sl-vs-rsa-match-35-icc-cricket-world-cup-2019\" target=\"_self\" title=\"Sri Lanka v South Africa - Match 35\"><div class=\"cb-hmscg-bat-txt cb-ovr-flo\"><div class=\"cb-ovr-flo cb-hmscg-tm-nm\">RSA</div><div class=\"cb-ovr-flo\" style=\"display:inline-block; width:140px\">206/1 (37.2 Ovs)</div></div><div class=\"cb-hmscg-bwl-txt\"><div class=\"cb-ovr-flo cb-hmscg-tm-nm\">SL</div><div class=\"cb-ovr-flo\" style=\"display:inline-block; width:140px\">203 (49.3 Ovs)</div></div><div class=\"cb-ovr-flo cb-text-complete\">South Africa won by 9 wkts</div></a></div></div></div><div ng-if=\"run_active == 'ICC Cricket WC 2019'\"><div class=\"cb-col-100 cb-col cb-hm-scg-blk ng-cloak\"><div class=\"cb-col cb-col-25 cb-mtch-blk\"><a class=\"cb-font-12\" href=\"/live-cricket-scores/20272/pak-vs-afg-match-36-icc-cricket-world-cup-2019\" target=\"_self\" title=\"Pakistan v Afghanistan - Match 36\"><div class=\"cb-hmscg-bat-txt cb-ovr-flo\"><div class=\"cb-ovr-flo cb-hmscg-tm-nm\">AFG</div><div class=\"cb-ovr-flo\" style=\"display:inline-block; width:140px\">82/3 (15.4 Ovs)</div></div><div class=\"cb-hmscg-bwl-txt\"><div class=\"cb-ovr-flo cb-hmscg-tm-nm\">PAK</div><div class=\"cb-ovr-flo\" style=\"display:inline-block; width:140px\"></div></div><div class=\"cb-ovr-flo cb-text-live\">Afghanistan opt to bat</div></a></div><div class=\"cb-col cb-col-25 cb-mtch-blk\"><a class=\"cb-font-12\" href=\"/live-cricket-scores/20274/eng-vs-ind-match-38-icc-cricket-world-cup-2019\" target=\"_self\" title=\"England v India - Match 38\"><div class=\"cb-hmscg-bat-txt cb-ovr-flo\">England</div> <div class=\"cb-hmscg-bat-txt cb-ovr-flo\">India</div><div class=\"cb-ovr-flo cb-text-preview\" ng-bind=\"1561887000000 |date: 'EEEE, d MMM, hh:mm a'\"></div></a></div><div class=\"cb-col cb-col-25 cb-mtch-blk\"><a class=\"cb-font-12\" href=\"/live-cricket-scores/20273/nz-vs-aus-match-37-icc-cricket-world-cup-2019\" target=\"_self\" title=\"New Zealand v Australia - Match 37\"><div class=\"cb-hmscg-bat-txt cb-ovr-flo\">New Zealand</div> <div class=\"cb-hmscg-bat-txt cb-ovr-flo\">Australia</div><div class=\"cb-ovr-flo cb-text-preview\" ng-bind=\"1561811400000 |date: 'EEEE, d MMM, hh:mm a'\"></div></a></div><div class=\"cb-col cb-col-25 cb-mtch-blk\"><a class=\"cb-font-12\" href=\"/live-cricket-scores/20271/sl-vs-rsa-match-35-icc-cricket-world-cup-2019\" target=\"_self\" title=\"Sri Lanka v South Africa - Match 35\"><div class=\"cb-hmscg-bat-txt cb-ovr-flo\"><div class=\"cb-ovr-flo cb-hmscg-tm-nm\">RSA</div><div class=\"cb-ovr-flo\" style=\"display:inline-block; width:140px\">206/1 (37.2 Ovs)</div></div><div class=\"cb-hmscg-bwl-txt\"><div class=\"cb-ovr-flo cb-hmscg-tm-nm\">SL</div><div class=\"cb-ovr-flo\" style=\"display:inline-block; width:140px\">203 (49.3 Ovs)</div></div><div class=\"cb-ovr-flo cb-text-complete\">South Africa won by 9 wkts</div></a></div></div></div><div ng-if=\"run_active == 'PAK U19 tour of SA'\"><div class=\"cb-col-100 cb-col cb-hm-scg-blk ng-cloak\"><div class=\"cb-col cb-col-25 cb-mtch-blk\"><a class=\"cb-font-12\" href=\"/live-cricket-scores/22864/rsau19-vs-paku19-4th-youth-odi-pakistan-under-19-tour-of-south-africa-2019\" target=\"_self\" title=\"South Africa U19 v Pakistan U19 - 4th Youth ODI\"><div class=\"cb-hmscg-bat-txt cb-ovr-flo\">South Africa U19</div> <div class=\"cb-hmscg-bat-txt cb-ovr-flo\">Pakistan U19</div><div class=\"cb-ovr-flo cb-text-preview\" ng-bind=\"1561878000000 |date: 'EEEE, d MMM, hh:mm a'\"></div></a></div></div></div></div></div><div class=\"ad-unit\" id=\"menu_branding\" style=\"float:right;\"></div></div><nav class=\"cb-col cb-col-100 cb-bg-white cb-qck-lnk\" id=\"cb-qck-navbar\"> <h1 class=\"cb-qck-lnk-hdr inline-block\">World Cup 2019</h1> <a class=\"cb-text-link cb-qck-ancr\" href=\"/cricket-series/2697/icc-cricket-world-cup-2019\" title=\"World Cup 2019\">Home</a><a class=\"cb-text-link cb-qck-ancr\" href=\"/cricket-series/2697/icc-cricket-world-cup-2019/matches\" title=\"World Cup 2019 Schedule\">Schedule</a><a class=\"cb-text-link cb-qck-ancr\" href=\"/cricket-series/2697/icc-cricket-world-cup-2019/points-table\" title=\"World Cup 2019 Points Table\">Points Table</a><a class=\"cb-text-link cb-qck-ancr\" href=\"/cricket-series/2697/icc-cricket-world-cup-2019/news\" title=\"World Cup 2019 News\">News</a><a class=\"cb-text-link cb-qck-ancr\" href=\"/cricket-series/2697/icc-cricket-world-cup-2019/videos\" title=\"World Cup 2019 Videos\">Videos</a><a class=\"cb-text-link cb-qck-ancr\" href=\"/cricket-series/2697/icc-cricket-world-cup-2019/squads\" title=\"World Cup 2019 Squads\">Squads</a><a class=\"cb-text-link cb-qck-ancr\" href=\"/special-content/boundary-tracker/2697/icc-cricket-world-cup-2019\" title=\"World Cup 2019 Boundary Tracker\">Boundary Tracker</a><a class=\"cb-text-link cb-qck-ancr\" href=\"/cricket-news/108171/world-cup-2019-that-happened\" title=\"World Cup Pulse\">Pulse</a></nav><style>.cb-qck-lnk-hdr{ font-size:18px; line-height: 27px;\n",
      "}</style> <meta content=\"400\" http-equiv=\"refresh\"/> <div class=\"cb-col cb-col-20\"> <div class=\"cb-bg-white\" id=\"cb-news-blck\"><h2 class=\"cb-hm-lft-hdr cb-lv-scr-mtch-hdr\">LATEST NEWS</h2><div class=\"cb-hm-lft\"><div class=\"cb-col-100 cb-lst-itm cb-lst-itm-sm\"><a class=\"cb-nws-hdln-ancr text-hvr-underline\" href=\"/cricket-news/108734/australia-resist-temptation-to-rest-starc-and-cummins-before-knockouts\" title=\"Australia resist temptation to rest Starc and Cummins before knockouts\">Australia resist temptation to rest Starc and Cummins before knockouts</a><div class=\"cb-nws-time\">8h ago</div></div><div class=\"cb-col-100 cb-lst-itm cb-lst-itm-sm\"><a class=\"cb-nws-hdln-ancr text-hvr-underline\" href=\"/cricket-news/108732/sri-lanka-switch-from-fifth-gear-to-reverse-in-double-quick-time\" title=\"Sri Lanka switch from fifth gear to reverse in double quick time\">Sri Lanka switch from fifth gear to reverse in double quick time</a><div class=\"cb-nws-time\">15h ago</div></div><div class=\"cb-col-100 cb-lst-itm cb-lst-itm-sm\"><a class=\"cb-nws-hdln-ancr text-hvr-underline\" href=\"/cricket-news/108731/du-plessis-and-the-saga-of-bittersweet-win\" title=\" Du Plessis and the saga of a bittersweet win\"> Du Plessis and the saga of a bittersweet win</a><div class=\"cb-nws-time\">15h ago</div></div><div class=\"cb-col-100 cb-lst-itm cb-lst-itm-sm\"><a class=\"cb-nws-hdln-ancr text-hvr-underline\" href=\"/cricket-news/108729/muted-buttler-keen-to-make-some-noise-icc-cricket-world-cup-2019\" title=\"Muted Buttler keen to make some noise\">Muted Buttler keen to make some noise</a><div class=\"cb-nws-time\">16h ago</div></div><div class=\"cb-col-100 cb-lst-itm cb-lst-itm-sm\"><a class=\"cb-nws-hdln-ancr text-hvr-underline\" href=\"/cricket-news/108726/naib-hopes-cricket-mends-relationships-off-the-pitch\" title=\"Naib hopes cricket mends relationships off the pitch\">Naib hopes cricket mends relationships off the pitch</a><div class=\"cb-nws-time\">18h ago</div></div><div class=\"cb-col-100 cb-lst-itm cb-lst-itm-sm\"><a class=\"cb-nws-hdln-ancr text-hvr-underline\" href=\"/cricket-news/108722/icc-cricket-world-cup-2019-carlos-brathwaite-fined-handed-demerit-point-for-dissenting-wide-call\" title=\"Brathwaite fined, handed demerit point for dissenting wide call\">Brathwaite fined, handed demerit point for dissenting wide call</a><div class=\"cb-nws-time\">22h ago</div></div><div class=\"cb-col-100 cb-lst-itm cb-lst-itm-sm\"><a class=\"cb-nws-hdln-ancr text-hvr-underline\" href=\"/cricket-news/108721/deepti-sharma-to-play-for-western-storm\" title=\"Deepti Sharma to play for Western Storm\">Deepti Sharma to play for Western Storm</a><div class=\"cb-nws-time\">22h ago</div></div><div class=\"cb-col-100 cb-lst-itm cb-lst-itm-sm\"><a class=\"cb-nws-hdln-ancr text-hvr-underline\" href=\"/cricket-news/108720/no-plan-to-retire-immediately-after-world-cup-mortaza\" title=\"No plan to retire immediately after World Cup: Mortaza\">No plan to retire immediately after World Cup: Mortaza</a><div class=\"cb-nws-time\">23h ago</div></div><div class=\"cb-col-100 cb-lst-itm cb-lst-itm-sm\"><a class=\"cb-nws-hdln-ancr text-hvr-underline\" href=\"/cricket-news/108718/icc-cricket-world-cup-2019-indian-cricket-team-west-indies-kl-rahul\" title=\"Rahul disappointed at throwing away starts\">Rahul disappointed at throwing away starts</a><div class=\"cb-nws-time\">1d ago</div></div><div class=\"cb-col-100 cb-lst-itm cb-lst-itm-sm\"><a class=\"cb-nws-hdln-ancr text-hvr-underline\" href=\"/cricket-news/108711/icc-cricket-world-cup-2019-south-africa-will-play-fearless-cricket-with-no-pressure-of-qualifying-chadika-hathurusingha-sri-lanka-cricket-team\" title=\"South Africa will play fearless cricket with no pressure of qualifying - Hathurusingha\">South Africa will play fearless cricket with no pressure of qualifying - Hathurusingha</a><div class=\"cb-nws-time\">1d ago</div></div><div class=\"cb-hm-mr-lnk\"><a class=\"cb-font-12 cb-text-link\" href=\"/cricket-news/latest-news\" title=\"More News\"><i>More News..</i></a></div></div></div> <div class=\"cb-bg-white\" id=\"hm-photos-blk\"> <h2 class=\"cb-hm-lft-hdr cb-lv-scr-mtch-hdr\">LATEST PHOTOS</h2> <div class=\"cb-hm-lft\"> <div class=\"cb-col-100 cb-lst-itm cb-lst-itm-sm\"> <a href=\"/cricket-gallery/4633/south-africa-v-sri-lanka-icc-world-cup-2019\" title=\"South Africa v Sri Lanka, ICC World Cup 2019\"> <img alt=\"South Africa v Sri Lanka, ICC World Cup 2019\" class=\"lazy-loading pad-0\" height=\"95\" source=\"/a/img/v1/165x95/i1/c175780/south-africa-v-sri-lanka-icc.jpg\" src=\"\" width=\"165\"/> <div class=\"cb-nws-hdln\">South Africa v Sri Lanka, ICC World Cup 2019</div> <span class=\"cb-nws-time\">Fri, Jun 28 2019</span> </a> </div> <div class=\"cb-col-100 cb-lst-itm cb-lst-itm-sm\"> <a href=\"/cricket-gallery/4632/west-indies-vs-india-icc-world-cup-2019-match-34\" title=\"West Indies vs India, ICC World Cup 2019, Match 34\"> <img alt=\"West Indies vs India, ICC World Cup 2019, Match 34\" class=\"lazy-loading pad-0\" height=\"95\" source=\"/a/img/v1/165x95/i1/c175594/west-indies-vs-india-icc-worl.jpg\" src=\"\" width=\"165\"/> <div class=\"cb-nws-hdln\">West Indies vs India, ICC World Cup 2019, Match 34</div> <span class=\"cb-nws-time\">Thu, Jun 27 2019</span> </a> </div> <div class=\"cb-col-100 cb-lst-itm cb-lst-itm-sm\"> <a href=\"/cricket-gallery/4631/new-zealand-vs-pakistan-icc-world-cup-match-33\" title=\"New Zealand vs Pakistan, ICC World Cup, Match 33\"> <img alt=\"New Zealand vs Pakistan, ICC World Cup, Match 33\" class=\"lazy-loading pad-0\" height=\"95\" source=\"/a/img/v1/165x95/i1/c175492/new-zealand-vs-pakistan-icc-w.jpg\" src=\"\" width=\"165\"/> <div class=\"cb-nws-hdln\">New Zealand vs Pakistan, ICC World Cup, Match 33</div> <span class=\"cb-nws-time\">Wed, Jun 26 2019</span> </a> </div> <div class=\"cb-col-100 cb-lst-itm cb-lst-itm-sm\"> <a href=\"/cricket-gallery/4630/england-v-australia-icc-world-cup-2019\" title=\"England v Australia, ICC World Cup 2019\"> <img alt=\"England v Australia, ICC World Cup 2019\" class=\"lazy-loading pad-0\" height=\"95\" source=\"/a/img/v1/165x95/i1/c175312/england-v-australia-icc-world.jpg\" src=\"\" width=\"165\"/> <div class=\"cb-nws-hdln\">England v Australia, ICC World Cup 2019</div> <span class=\"cb-nws-time\">Tue, Jun 25 2019</span> </a> </div> <div class=\"cb-col-100 cb-lst-itm cb-lst-itm-sm\"> <a href=\"/cricket-gallery/4629/afghanistan-v-bangladesh-icc-world-cup-match-31\" title=\"Afghanistan v Bangladesh, ICC World Cup, Match 31\"> <img alt=\"Afghanistan v Bangladesh, ICC World Cup, Match 31\" class=\"lazy-loading pad-0\" height=\"95\" source=\"/a/img/v1/165x95/i1/c175163/afghanistan-v-bangladesh-icc.jpg\" src=\"\" width=\"165\"/> <div class=\"cb-nws-hdln\">Afghanistan v Bangladesh, ICC World Cup, Match 31</div> <span class=\"cb-nws-time\">Mon, Jun 24 2019</span> </a> </div> <div class=\"cb-col-100 cb-lst-itm cb-lst-itm-sm\"> <a href=\"/cricket-gallery/4628/pakistan-vs-south-africa-match-30-icc-world-cup-2019\" title=\"Pakistan vs South Africa, Match 30, ICC World Cup 2019 \"> <img alt=\"Pakistan vs South Africa, Match 30, ICC World Cup 2019 \" class=\"lazy-loading pad-0\" height=\"95\" source=\"/a/img/v1/165x95/i1/c175027/pakistan-vs-south-africa-matc.jpg\" src=\"\" width=\"165\"/> <div class=\"cb-nws-hdln\">Pakistan vs South Africa, Match 30, ICC World Cup 2019 </div> <span class=\"cb-nws-time\">Sun, Jun 23 2019</span> </a> </div> <div class=\"cb-hm-mr-lnk\"> <a class=\"cb-font-12 cb-text-link\" href=\"/cricket-photo-gallery\" title=\"More Photos\"><i>More Photos..</i></a> </div> </div> </div> <div class=\"cb-bg-white\"> <h2 class=\"cb-hm-lft-hdr cb-lv-scr-mtch-hdr\">SCHEDULE</h2> <div class=\"cb-hm-lft\"> <div class=\"cb-col-100 cb-lst-itm cb-lst-itm-sm\"> <div>Pakistan vs Afghanistan, Match 36</div> <div class=\"cb-nws-time\"><span class=\"schedule-date\" format=\"EEE MMM dd\" timestamp=\"1561800600000\" venue=\"+01:00\"></span> • <span class=\"schedule-date\" format=\"h:mm a\" timestamp=\"1561800600000\" venue=\"+01:00\"></span> GMT</div> </div> <div class=\"cb-col-100 cb-lst-itm cb-lst-itm-sm\"> <div>New Zealand vs Australia, Match 37</div> <div class=\"cb-nws-time\"><span class=\"schedule-date\" format=\"EEE MMM dd\" timestamp=\"1561811400000\" venue=\"+01:00\"></span> • <span class=\"schedule-date\" format=\"h:mm a\" timestamp=\"1561811400000\" venue=\"+01:00\"></span> GMT</div> </div> <div class=\"cb-col-100 cb-lst-itm cb-lst-itm-sm\"> <div>England vs India, Match 38</div> <div class=\"cb-nws-time\"><span class=\"schedule-date\" format=\"EEE MMM dd\" timestamp=\"1561887000000\" venue=\"+01:00\"></span> • <span class=\"schedule-date\" format=\"h:mm a\" timestamp=\"1561887000000\" venue=\"+01:00\"></span> GMT</div> </div> <div class=\"cb-col-100 cb-lst-itm cb-lst-itm-sm\"> <div>Sri Lanka vs West Indies, Match 39</div> <div class=\"cb-nws-time\"><span class=\"schedule-date\" format=\"EEE MMM dd\" timestamp=\"1561973400000\" venue=\"+01:00\"></span> • <span class=\"schedule-date\" format=\"h:mm a\" timestamp=\"1561973400000\" venue=\"+01:00\"></span> GMT</div> </div> <div class=\"cb-col-100 cb-lst-itm cb-lst-itm-sm\"> <div>Ireland vs Zimbabwe, 1st ODI</div> <div class=\"cb-nws-time\"><span class=\"schedule-date\" format=\"EEE MMM dd\" timestamp=\"1561974300000\" venue=\"+01:00\"></span> • <span class=\"schedule-date\" format=\"h:mm a\" timestamp=\"1561974300000\" venue=\"+01:00\"></span> GMT</div> </div> <div class=\"cb-col-100 cb-lst-itm cb-lst-itm-sm\"> <div>Bangladesh vs India, Match 40</div> <div class=\"cb-nws-time\"><span class=\"schedule-date\" format=\"EEE MMM dd\" timestamp=\"1562059800000\" venue=\"+01:00\"></span> • <span class=\"schedule-date\" format=\"h:mm a\" timestamp=\"1562059800000\" venue=\"+01:00\"></span> GMT</div> </div> <div class=\"cb-col-100 cb-lst-itm cb-lst-itm-sm\"> <div>England vs New Zealand, Match 41</div> <div class=\"cb-nws-time\"><span class=\"schedule-date\" format=\"EEE MMM dd\" timestamp=\"1562146200000\" venue=\"+01:00\"></span> • <span class=\"schedule-date\" format=\"h:mm a\" timestamp=\"1562146200000\" venue=\"+01:00\"></span> GMT</div> </div> <div class=\"cb-hm-mr-lnk\"> <a class=\"cb-font-12 cb-text-link\" href=\"/cricket-schedule/upcoming-series/international\" title=\"Cricket Schedule\"><i>More Matches..</i></a> </div> </div> </div> </div><div class=\"cb-col cb-col-47\"><div id=\"video_playlist\"> <script> CBQueue.push(function(){ if((_GEO.country == \"US\" || _GEO.country == \"CA\") && false){ _ele('#video_playlist').html('<div class=\"cb-bg-white\" style=\"margin:0 5px 10px;\"><div class=\"kaltura-playlist\" uiconf_id=\"33885652\" entry_id=\"0_lvphia47\" uiautoplay=\"false\" style=\"width:420px;height:385px;padding:10px 15px;\"></div></div>'); }else if([\"AE\",\"SA\",\"KW\",\"BH\",\"QA\",\"OM\",\"GB\"].indexOf(_GEO.country) != -1 && false){ var eplr = document.createElement('script'); eplr.type = 'text/javascript'; eplr.async = true; eplr.src = 'https://player.performgroup.com/eplayer.js#ccb175de91b4f3c5c4bbed6a35.qjdsydmry69m1je82zk8il975'; var vpl = document.getElementById('video_playlist'); vpl.className = \"cb-bg-white\"; vpl.style.margin = \"0px 5px 10px\"; vpl.appendChild(eplr); } }); </script></div><script>CBQueue.push(function(){\tif(_GEO.country == \"US\" || _GEO.country == \"CA\"){\t_ele('#kaltura-video-player').removeClass('disp-none');\t}\tif(_GEO.country == \"IN\" ){\t_ele('specials-home-module').removeClass('disp-none');\t}\n",
      "});</script><div class=\"cb-col cb-hm-mid cb-bg-white cb-hmpage\" style=\"clear:both\"> <div class=\"big-crd-main cb-bg-white\"><div class=\"crd-cntxt\"><span>PAK VS AFG, MATCH 36</span></div><a href=\"/live-cricket-scores/20272/pak-vs-afg-match-36\" title=\"Imad removes Rahmat; Afghanistan slide\"><img alt=\"imad-removes-rahmat-afghanistan-slide\" height=\"235\" itemprop=\"image\" src=\"/a/img/v1/420x235/i1/c175803/imad-removes-rahmat-afghanist.jpg\" title=\"Imad removes Rahmat; Afghanistan slide\" width=\"420\"/></a><h2 class=\"big-crd-hdln\"><a href=\"/live-cricket-scores/20272/pak-vs-afg-match-36\" title=\"Imad removes Rahmat; Afghanistan slide\"> Imad removes Rahmat; Afghanistan slide</a></h2><div class=\"cb-nws-intr\">With two successive wins, Pakistan are back in contention for a spot in the semis while Afghanistan are yet to register a single victory</div><div class=\"cb-hm-mtch-crd-width cb-lv-scrs-well cb-lv-scrs-well-live\"> <a href=\"/live-cricket-scores/20272/pak-vs-afg-match-36-icc-cricket-world-cup-2019\" title=\"PAK Vs AFG, Match 36 Live cricket scores\"> <div class=\"cb-col cb-col-100 cb-hm-mtch-crd\"> <div class=\"cb-scr-wll-chvrn cb-col-90\"> <div class=\"cb-lv-scrs-col text-black\"> <div class=\"cb-col cb-mr-30\"> <div class=\"text-bold\">AFG</div> <div class=\"text-bold\">PAK</div> </div> <div class=\"cb-col\"> <div> <span>82-3</span> <span> (15.4)</span> </div> <div> </div> </div> </div> <div class=\"cb-lv-scrs-col cb-text-live\" style=\"white-space:unset;\">Afghanistan opt to bat</div> </div> <div class=\"cb-scr-wll-chvrn cb-col-10\"> <div class=\"cb-ico cb-lv-scr-chvrn-bg\"></div> </div> </div> </a></div><div class=\"big-crd-reltd-itm\"><a class=\"big-crd-rltd-txt\" href=\"/cricket-news/108735/live-blog\" title=\"Live blog\">Live blog</a></div></div><div class=\"big-crd-main cb-bg-white\"><div class=\"crd-cntxt\"><span>WORLD CUP 2019</span></div><a href=\"/cricket-news/108730/lords-switches-on-to-witness-trans-tasman-rivalry-in-a-different-light\" title=\"Lord's switches on to witness Trans-Tasman rivalry in a different light\"><img alt=\"lords-switches-on-to-witness-trans-tasman-rivalry-in-a-different-light\" height=\"235\" itemprop=\"image\" src=\"/a/img/v1/420x235/i1/c175785/lords-switches-on-to-witness.jpg\" title=\"Lord's switches on to witness Trans-Tasman rivalry in a different light\" width=\"420\"/></a><h2 class=\"big-crd-hdln\"><a href=\"/cricket-news/108730/lords-switches-on-to-witness-trans-tasman-rivalry-in-a-different-light\" title=\"Lord's switches on to witness Trans-Tasman rivalry in a different light\"> Lord's switches on to witness Trans-Tasman rivalry in a different light</a></h2><div class=\"cb-nws-intr\">With a playoff spot in sight, New Zealand will take on Australia in only the second day-night ODI at Lord's</div><div class=\"big-crd-reltd-itm\"><a class=\"big-crd-rltd-txt\" href=\"/cricket-news/108725/world-cup-head-to-head-new-zealand-vs-australia\" title=\"World Cup Head to Head: New Zealand vs Australia\">World Cup Head to Head: New Zealand vs Australia</a></div></div><div class=\"big-crd-main cb-bg-white\"><div class=\"crd-cntxt\"><span>WORLD CUP 2019</span></div><a href=\"/cricket-news/108732/sri-lanka-switch-from-fifth-gear-to-reverse-in-double-quick-time\" title=\"Sri Lanka switch from fifth gear to reverse in double quick time\"><img alt=\"sri-lanka-switch-from-fifth-gear-to-reverse-in-double-quick-time\" height=\"235\" itemprop=\"image\" src=\"/a/img/v1/420x235/i1/c175791/sri-lanka-switch-from-fifth-ge.jpg\" title=\"Sri Lanka switch from fifth gear to reverse in double quick time\" width=\"420\"/></a><h2 class=\"big-crd-hdln\"><a href=\"/cricket-news/108732/sri-lanka-switch-from-fifth-gear-to-reverse-in-double-quick-time\" title=\"Sri Lanka switch from fifth gear to reverse in double quick time\"> Sri Lanka switch from fifth gear to reverse in double quick time</a></h2><div class=\"cb-nws-intr\">After scoring 67 in the first ten overs, Sri Lanka were bowled out for a paltry 203</div><div class=\"big-crd-reltd-itm\"><a class=\"big-crd-rltd-txt\" href=\"/cricket-news/108727/dwaine-pretorius-chris-morris-bully-sri-lanka-into-submission\" title=\"Dwaine Pretorius, Chris Morris bully Sri Lanka into submission\">Report /\tDwaine Pretorius, Chris Morris bully Sri Lanka into submission</a></div><div class=\"big-crd-reltd-itm\"><a class=\"big-crd-rltd-txt\" href=\"/cricket-news/108733/that-time-when-malinga-bowled-to-amla\" title=\"That time when Malinga bowled to Amla\">That time when Malinga bowled to Amla</a></div><div class=\"big-crd-reltd-itm\"><a class=\"big-crd-rltd-txt\" href=\"/cricket-news/108731/du-plessis-and-the-saga-of-a-bittersweet-win\" title=\"Du Plessis and the saga of a bittersweet win\">Du Plessis and the saga of a bittersweet win</a></div><div class=\"big-crd-reltd-itm\"><a class=\"big-crd-rltd-txt\" href=\"/cricket-news/108728/qualification-scenarios-sri-lankas-fate-beyond-their-control\" title=\"Qualification scenarios: Sri Lanka's fate beyond their control\">Qualification scenarios: Sri Lanka's fate beyond their control</a></div></div><div class=\"sml-crd-main\"><div class=\"crd-cntxt\">ON THE SPOT</div><div class=\"cb-col-33 cb-col\"><a href=\"/cricket-news/108717/mohammed-shami-good-length-great-results\" title=\"Mohammed Shami: Good length, great results\"><img alt=\"mohammed-shami-good-length-great-results\" class=\"lazy-loading\" height=\"75\" source=\"/a/img/v1/135x75/i1/c175673/mohammed-shami-good-length-g.jpg\" src=\"\" style=\"padding:0px;\" width=\"135\"/></a></div><div class=\"cb-col-67 cb-col cb-hdln-hght\"><h3 class=\"sml-crd-hdln\"><a href=\"/cricket-news/108717/mohammed-shami-good-length-great-results\" title=\"Mohammed Shami: Good length, great results\">Mohammed Shami: Good length, great results</a></h3><div class=\"sml-crd-subtxt\">8h ago</div></div><div class=\"cb-nws-intr\">Running in from the Brian Statham end, Shami produced a seam-bowling masterclass against West Indies at Old Trafford</div> <div class=\"big-crd-reltd-itm\"> <a class=\"big-crd-rltd-txt\" href=\"/cricket-news/108718/rahul-disappointed-at-throwing-away-starts\" title=\"Rahul disappointed at throwing away starts\">Rahul disappointed at throwing away starts</a></div><div class=\"big-crd-reltd-itm\"> <a class=\"big-crd-rltd-txt\" href=\"/cricket-news/108729/muted-buttler-keen-to-make-some-noise\" title=\"Muted Buttler keen to make some noise\">Muted Buttler keen to make some noise</a></div></div><div class=\"sml-crd-main\"><div class=\"crd-cntxt\">WORLD CUP 2019</div><div class=\"cb-col-33 cb-col\"><a href=\"/cricket-news/108720/no-plan-to-retire-immediately-after-world-cup-mortaza\" title=\"No plan to retire immediately after World Cup: Mortaza\"><img alt=\"no-plan-to-retire-immediately-after-world-cup-mortaza\" class=\"lazy-loading\" height=\"75\" source=\"/a/img/v1/135x75/i1/c175701/no-plan-to-retire-immediately.jpg\" src=\"\" style=\"padding:0px;\" width=\"135\"/></a></div><div class=\"cb-col-67 cb-col cb-hdln-hght\"><h3 class=\"sml-crd-hdln\"><a href=\"/cricket-news/108720/no-plan-to-retire-immediately-after-world-cup-mortaza\" title=\"No plan to retire immediately after World Cup: Mortaza\">No plan to retire immediately after World Cup: Mortaza</a></h3><div class=\"sml-crd-subtxt\">8h ago</div></div><div class=\"cb-nws-intr\">The Bangladesh captain had earlier announced 2019 will be his last World Cup, adding fuel to the retirement speculations</div> <div class=\"big-crd-reltd-itm\"> <a class=\"big-crd-rltd-txt\" href=\"/cricket-news/108686/gayle-backtracks-on-odi-retirement-available-for-india-series\" title=\"Gayle backtracks on ODI retirement, available for India series\">Gayle backtracks on ODI retirement, available for India series</a></div></div><div class=\"sml-crd-main\"><div class=\"crd-cntxt\">WOMEN'S CRICKET SUPER LEAGUE</div><div class=\"cb-col-33 cb-col\"><a href=\"/cricket-news/108721/deepti-sharma-to-play-for-western-storm\" title=\"Deepti Sharma to play for Western Storm\"><img alt=\"deepti-sharma-to-play-for-western-storm\" class=\"lazy-loading\" height=\"75\" source=\"/a/img/v1/135x75/i1/c175714/deepti-sharma-to-play-for-west.jpg\" src=\"\" style=\"padding:0px;\" width=\"135\"/></a></div><div class=\"cb-col-67 cb-col cb-hdln-hght\"><h3 class=\"sml-crd-hdln\"><a href=\"/cricket-news/108721/deepti-sharma-to-play-for-western-storm\" title=\"Deepti Sharma to play for Western Storm\">Deepti Sharma to play for Western Storm</a></h3><div class=\"sml-crd-subtxt\">22h ago</div></div><div class=\"cb-nws-intr\">The 21-year-old is currently ranked second among ODI all-rounders</div> </div><div class=\"sml-crd-main\"><div class=\"crd-cntxt\">ENGLISH LEGEND</div><div class=\"cb-col-33 cb-col\"><a href=\"/cricket-news/108709/trescothick-announces-retirement-from-professional-cricket\" title=\"Trescothick announces retirement from professional cricket\"><img alt=\"trescothick-announces-retirement-from-professional-cricket\" class=\"lazy-loading\" height=\"75\" source=\"/a/img/v1/135x75/i1/c175606/trescothick-announces-retireme.jpg\" src=\"\" style=\"padding:0px;\" width=\"135\"/></a></div><div class=\"cb-col-67 cb-col cb-hdln-hght\"><h3 class=\"sml-crd-hdln\"><a href=\"/cricket-news/108709/trescothick-announces-retirement-from-professional-cricket\" title=\"Trescothick announces retirement from professional cricket\">Trescothick announces retirement from professional cricket</a></h3><div class=\"sml-crd-subtxt\">1d ago</div></div><div class=\"cb-nws-intr\">The veteran southpaw, who made his first-class debut in 1993, has failed to find form in the ongoing County Championship season</div> </div><div class=\"big-crd-main cb-bg-white\"><div class=\"crd-cntxt\"><span>WHAT'S THE BUZZ</span></div><a href=\"/cricket-news/108171/world-cup-pulse\" title=\"World Cup Pulse\"><img alt=\"world-cup-pulse\" height=\"235\" itemprop=\"image\" src=\"/a/img/v1/420x235/i1/c170196/world-cup-pulse.jpg\" title=\"World Cup Pulse\" width=\"420\"/></a><h2 class=\"big-crd-hdln\"><a href=\"/cricket-news/108171/world-cup-pulse\" title=\"World Cup Pulse\"> World Cup Pulse</a></h2><div class=\"cb-nws-intr\">All that's happening on and off the field at the 2019 World Cup in England &amp; Wales</div></div><div class=\"sml-crd-main\"><div class=\"crd-cntxt\">BANGLADESH CRICKET</div><div class=\"cb-col-33 cb-col\"><a href=\"/cricket-news/108706/bangladesh-await-security-clearance-for-sri-lanka-tour\" title=\"Bangladesh await security clearance for Sri Lanka tour\"><img alt=\"bangladesh-await-security-clearance-for-sri-lanka-tour\" class=\"lazy-loading\" height=\"75\" source=\"/a/img/v1/135x75/i1/c175546/bangladesh-await-security-clea.jpg\" src=\"\" style=\"padding:0px;\" width=\"135\"/></a></div><div class=\"cb-col-67 cb-col cb-hdln-hght\"><h3 class=\"sml-crd-hdln\"><a href=\"/cricket-news/108706/bangladesh-await-security-clearance-for-sri-lanka-tour\" title=\"Bangladesh await security clearance for Sri Lanka tour\">Bangladesh await security clearance for Sri Lanka tour</a></h3><div class=\"sml-crd-subtxt\">1d ago</div></div><div class=\"cb-nws-intr\">Bangladesh are set to host Afghanistan and Zimbabwe in a T20 tri-series in September</div> </div><div class=\"sml-crd-main\"><div class=\"crd-cntxt\">OUTSIDE THE CIRCLE</div><div class=\"cb-col-33 cb-col\"><a href=\"/cricket-news/108716/much-ado-about-numbers\" title=\"Much ado about numbers\"><img alt=\"much-ado-about-numbers\" class=\"lazy-loading\" height=\"75\" source=\"/a/img/v1/135x75/i1/c175661/much-ado-about-numbers.jpg\" src=\"\" style=\"padding:0px;\" width=\"135\"/></a></div><div class=\"cb-col-67 cb-col cb-hdln-hght\"><h3 class=\"sml-crd-hdln\"><a href=\"/cricket-news/108716/much-ado-about-numbers\" title=\"Much ado about numbers\">Much ado about numbers</a></h3><div class=\"sml-crd-subtxt\">1d ago</div></div><div class=\"cb-nws-intr\">Remarkable results away from the World Cup prompt controversy</div> </div></div></div><div class=\"cb-col cb-col-33\"> <div class=\"cb-col cb-col-100 cb-hm-rt-itm cb-bg-white\"> <div class=\"ad-unit center-block\" id=\"mpu\" style=\"min-height: 250px;\"></div> </div> <div class=\"ad-unit\" id=\"strip_320x50\"></div> <div class=\"cb-col cb-col-100 cb-hm-rt-itm cb-bg-white\" gtm-label=\"Homepage\" id=\"latest-vid-mod\"> <h4 class=\"cb-mdl-hdr\">FEATURED VIDEOS</h4> <div class=\"cb-col cb-col-100 cb-mid-wrp\"> <a class=\"suggested-video-gtm\" gtm-label=\"New Zealand vs Australia, Match 37: Preview|39471\" href=\"/cricket-videos/39471/new-zealand-vs-australia-match-37-preview\" target=\"_self\" title=\"New Zealand vs Australia, Match 37: Preview\"> <div class=\"cb-pos-rel\"> <img alt=\"New Zealand vs Australia, Match 37: Preview\" class=\"cb-suggested-vid-img suggested-video-gtm\" gtm-label=\"New Zealand vs Australia, Match 37: Preview|39471\" height=\"164\" src=\"/a/img/v1/290x164/i1/c175792/new-zealand-vs-australia-matc.jpg\" title=\"New Zealand vs Australia, Match 37: Preview\" width=\"290\"/> <div class=\"cb-vid-duration\">9:13</div> <div class=\"cb-cen\"> <div class=\"cb-vid-sm-ply-api\">►</div> </div> </div> <h4 class=\"text-hvr-underline suggested-video-gtm\" gtm-label=\"New Zealand vs Australia, Match 37: Preview|39471\">New Zealand vs Australia, Match 37: Preview</h4> </a> <div class=\"cb-nws-time\">\t15h ago </div> </div> <div class=\"cb-col cb-col-100 cb-mid-wrp\"> <a class=\"suggested-video-gtm\" gtm-label=\"Pacers will hold the key in New Zealand-Australia clash - Damien Fleming|39472\" href=\"/cricket-videos/39472/pacers-will-hold-the-key-in-new-zealand-australia-clash-damien-fleming\" target=\"_self\" title=\"Pacers will hold the key in New Zealand-Australia clash - Damien Fleming\"> <div class=\"cb-pos-rel\"> <img alt=\"Pacers will hold the key in New Zealand-Australia clash - Damien Fleming\" class=\"cb-suggested-vid-img suggested-video-gtm\" gtm-label=\"Pacers will hold the key in New Zealand-Australia clash - Damien Fleming|39472\" height=\"164\" src=\"/a/img/v1/290x164/i1/c175794/pacers-will-hold-the-key-in-ne.jpg\" title=\"Pacers will hold the key in New Zealand-Australia clash - Damien Fleming\" width=\"290\"/> <div class=\"cb-vid-duration\">5:05</div> <div class=\"cb-cen\"> <div class=\"cb-vid-sm-ply-api\">►</div> </div> </div> <h4 class=\"text-hvr-underline suggested-video-gtm\" gtm-label=\"Pacers will hold the key in New Zealand-Australia clash - Damien Fleming|39472\">Pacers will hold the key in New Zealand-Australia clash - Damien Fleming</h4> </a> <div class=\"cb-nws-time\">\t13h ago </div> </div> <div class=\"cb-col cb-col-100 cb-mid-wrp\"> <a class=\"suggested-video-gtm\" gtm-label=\"Centerstage @ CWC 2019: Jingoist reporter forces Pakistan angle into India-England contest|39476\" href=\"/cricket-videos/39476/centerstage-cwc-2019-jingoist-reporter-forces-pakistan-angle-into-india-england-contest\" target=\"_self\" title=\"Centerstage @ CWC 2019: Jingoist reporter forces Pakistan angle into India-England contest\"> <div class=\"cb-pos-rel\"> <img alt=\"Centerstage @ CWC 2019: Jingoist reporter forces Pakistan angle into India-England contest\" class=\"cb-suggested-vid-img suggested-video-gtm\" gtm-label=\"Centerstage @ CWC 2019: Jingoist reporter forces Pakistan angle into India-England contest|39476\" height=\"164\" src=\"/a/img/v1/290x164/i1/c175799/centerstage-cwc-2019-jingoi.jpg\" title=\"Centerstage @ CWC 2019: Jingoist reporter forces Pakistan angle into India-England contest\" width=\"290\"/> <div class=\"cb-vid-duration\">2:40</div> <div class=\"cb-cen\"> <div class=\"cb-vid-sm-ply-api\">►</div> </div> </div> <h4 class=\"text-hvr-underline suggested-video-gtm\" gtm-label=\"Centerstage @ CWC 2019: Jingoist reporter forces Pakistan angle into India-England contest|39476\">Centerstage @ CWC 2019: Jingoist reporter forces Pakistan angle into India-England contest</h4> </a> <div class=\"cb-nws-time\">\t4h ago </div> </div> <div class=\"cb-col cb-col-100 cb-more-btn-cntnr\"> <a class=\"cb-more-btn\" href=\"/cricket-videos\" role=\"button\" target=\"_self\" title=\"Click to view more videos\">More Videos</a> </div> </div> <div class=\"cb-col cb-col-100 cb-hm-rt-itm cb-bg-white\"> <div class=\"ad-unit center-block\" id=\"mpu2\"></div> </div> <div class=\"cb-col cb-col-100 cb-hm-rt-itm cb-bg-white\"> <h4 class=\"cb-mdl-hdr\">Specials</h4> <div class=\"cb-col cb-col-100 cb-mid-wrp\"><a href=\"/cricket-news/108699/icc-cricket-world-cup-2019-new-zealand-craig-mcmillan-interview\" title=\"Craig McMillan - The batting innovator long before the T20 era\"><img alt=\"Craig McMillan - The batting innovator long before the T20 era\" class=\"cb-vid-img\" height=\"170\" src=\"/i/news/fth/303x170/images/homepage/qck_1561594068.jpeg\" width=\"303\"/><h4 class=\"text-hvr-underline\">Craig McMillan - The batting innovator long before the T20 era</h4></a><div class=\"cb-nws-intr\">The former New Zealand cricketer opens up about his playing days, the joy of playing against spin, facing Warne and McGrath and so much more</div></div><div class=\"cb-col cb-col-100 cb-mid-wrp\"><a href=\"/cricket-news/108667/the-indian-constant-in-mushtaq-mohammads-memory-trail\" title=\"The Indian constant in Mushtaq Mohammad's memory trail\"><img alt=\"The Indian constant in Mushtaq Mohammad's memory trail\" class=\"cb-vid-img\" height=\"170\" src=\"/i/news/fth/303x170/images/homepage/qck_1561526653.jpeg\" width=\"303\"/><h4 class=\"text-hvr-underline\">The Indian constant in Mushtaq Mohammad's memory trail</h4></a><div class=\"cb-nws-intr\">Mushtaq Mohammad opens up about the Indian influences through his journey, his love for classical music, a chance meeting with Lata Mangeshkar and more in an exclusive chat</div></div><div class=\"cb-col cb-col-100 cb-mid-wrp\"><a href=\"/cricket-news/108602/afghanistan-pacer-hamid-hassans-promise-kept-as-he-embarks-on-last-lap\" title=\"Hamid Hassan's promise kept as he embarks on last lap\"><img alt=\"Hamid Hassan's promise kept as he embarks on last lap\" class=\"cb-vid-img\" height=\"170\" src=\"/i/news/fth/303x170/images/homepage/qck_1561117801.jpeg\" width=\"303\"/><h4 class=\"text-hvr-underline\">Hamid Hassan's promise kept as he embarks on last lap</h4></a><div class=\"cb-nws-intr\">The Afghanistan pacer has battled through hurdles aplenty to live his World Cup dream, including a career-threatening injury a few years ago</div></div><div class=\"cb-col cb-col-100 cb-mid-wrp\"><a href=\"/cricket-news/108580/wahab-riaz-jofra-archer-faf-du-plessis-angelo-mathews-steve-smith-when-world-cup-stars-played-club-cricke\" title=\"When World Cup stars played club cricket\"><img alt=\"When World Cup stars played club cricket\" class=\"cb-vid-img\" height=\"170\" src=\"/i/news/fth/303x170/images/homepage/qck_1561022281.jpeg\" width=\"303\"/><h4 class=\"text-hvr-underline\">When World Cup stars played club cricket</h4></a><div class=\"cb-nws-intr\">The days when every great cricketer played in English league cricket may be gone, but there are still some at this World Cup who had such a stint. We speak to those who played with them</div></div><div class=\"cb-col cb-col-100 cb-mid-wrp\"><a href=\"/cricket-news/108598/2019-world-cup-joe-root-grandfather-don-root-don-bradman\" title=\"In conversation with grandpa Root\"><img alt=\"In conversation with grandpa Root\" class=\"cb-vid-img\" height=\"170\" src=\"/i/news/fth/303x170/images/homepage/qck_1561083998.jpeg\" width=\"303\"/><h4 class=\"text-hvr-underline\">In conversation with grandpa Root</h4></a><div class=\"cb-nws-intr\">Don, the 83-year-old grandfather of Joe Root, talks about seeing Bradman live as a 14-year-old, and now spending his retired life watching cricket</div></div> </div> <div class=\"cb-col cb-col-100 cb-hm-rt-itm cb-bg-white\"> <div class=\"ad-unit center-block\" id=\"mpu3\"></div> </div> </div> <span class=\"ad-unit\" id=\"skin_right\" style=\"overflow:hidden;position:fixed;top:0;left:calc(50% + 490px);margin-left:3px;z-index:-99;\"></span></div></div><div ng-cloak=\"\" ng-if='$root.$GEO.continent == \"EU\"'><div class=\"feedback-bar text-center cb-col-100 disp-none feedback-menu\" id=\"feedback-bar\" ng-controller=\"FeedbackCtrl\" ng-init=\"show_feedback_menu();\"><span class=\"feedback-txt\">We use cookies to improve your experience on our site and to show you non-personalized ads. Find out more in our <a href=\"/info/privacy\" style=\"color:#4A90E2;\">privacy policy</a> and <a href=\"/info/privacy#cookie_policy\" style=\"color:#4A90E2;\">cookie policy</a></span><button class=\"cb-feedback-btn blue-btn cb-cursor\" id=\"close_feedback_btn\" ng-click=\"close_feedback();\">OK</button></div></div><footer id=\"FooterWraper\" itemscope=\"\" itemtype=\"http://schema.org/WPFooter\"><div class=\"cb-footer cb-col-100 cb-col\"><div class=\"cb-ftr-cntnr\"><div class=\"cb-col-25 cb-col\"><a class=\"center-block\" href=\"/\"><div class=\"cb-ftr-logo cb-ico\"></div></a></div><div class=\"cb-col-25 cb-col\"><div class=\"text-left cb-font-16 text-bold\">MOBILE SITE &amp; APPS</div><ul class=\"cb-ftr-ul\"><li class=\"cb-ftr-lst\"><a class=\"text-white\" href=\"https://m.cricbuzz.com\"><span class=\"cb-mobile-site cb-ico\"></span><span class=\"cb-footer-list-rt\">m.cricbuzz.com</span></a></li><li class=\"cb-ftr-lst\"><a class=\"text-white\" href=\"https://play.google.com/store/apps/details?id=com.cricbuzz.android\" target=\"_blank\"><span class=\"cb-app-android cb-ico\"></span><span class=\"cb-footer-list-rt\">Android</span></a></li><li class=\"cb-ftr-lst\"><a class=\"text-white\" href=\"https://itunes.apple.com/app/id360466413\" target=\"_blank\"><span class=\"cb-app-ios cb-ico\"></span><span class=\"cb-footer-list-rt\">iOS</span></a></li></ul></div><div class=\"cb-col-25 cb-col\"><div class=\"text-left cb-font-16 text-bold\">FOLLOW US ON</div><ul class=\"cb-ftr-ul\"><li class=\"cb-ftr-lst\"><a class=\"text-white\" href=\"https://www.facebook.com/cricbuzz\" target=\"_blank\"><span class=\"cb-social-fb cb-ico\"></span><span class=\"cb-footer-list-rt\">facebook</span></a></li><li class=\"cb-ftr-lst\"><a class=\"text-white\" href=\"https://twitter.com/cricbuzz\" target=\"_blank\"><span class=\"cb-social-twitter cb-ico\"></span><span class=\"cb-footer-list-rt\">twitter</span></a></li><li class=\"cb-ftr-lst\"><a class=\"text-white\" href=\"https://www.youtube.com/channel/UCSRQXk5yErn4e14vN76upOw\" target=\"_blank\"><span class=\"cb-social-ytbe cb-ico\"></span><span class=\"cb-footer-list-rt\">youtube</span></a></li><li class=\"cb-ftr-lst\"><a class=\"text-white\" href=\"https://in.pinterest.com/cricbuzz/\" target=\"_blank\"><span class=\"cb-social-pinterest cb-ico\"></span><span class=\"cb-footer-list-rt\">Pinterest</span></a></li></ul></div><div class=\"cb-col-25 cb-col\"><div class=\"text-left cb-font-16 text-bold\">COMPANY</div><ul class=\"cb-ftr-ul\"><li class=\"cb-ftr-lst\"><a class=\"text-white\" href=\"/careers\">Careers</a></li><li class=\"cb-ftr-lst\"><a class=\"text-white\" href=\"/info/advertise\">Advertise</a></li><li class=\"cb-ftr-lst\"><a class=\"text-white\" href=\"/info/privacy\" rel=\"nofollow\">Privacy Policy</a></li><li class=\"cb-ftr-lst\"><a class=\"text-white\" href=\"/info/termsofuse\" rel=\"nofollow\">Terms of Use</a></li><li class=\"cb-ftr-lst\"><a class=\"text-white\" href=\"/product-blog/cricbuzz-mobile-apps-tv-ad-cricket-ka-keeda\">Cricbuzz TV Ads</a></li></ul></div><div class=\"cb-col-100 cb-col cb-ftr-cpyrght\">© 2019 Cricbuzz.com, Times Internet Limited. All rights reserved | <a class=\"cb-ftr-cpyrght text-hvr-underline\" href=\"http://timesofindia.indiatimes.com/\" target=\"_blank\">The Times of India</a> | <a class=\"cb-ftr-cpyrght text-hvr-underline\" href=\"http://navbharattimes.indiatimes.com/\" target=\"_blank\">Navbharat Times</a></div></div></div></footer><script type=\"text/javascript\">var script_tag = document.getElementsByTagName('script')[0];\t(function() {\tvar cmin = document.createElement('script'); cmin.type = 'text/javascript'; cmin.async = true;\tcmin.src = '/dist/js/cricbuzz.min.6501.js';\tscript_tag.parentNode.insertBefore(cmin, script_tag);\t})();</script><noscript><iframe height=\"0\" src=\"//www.googletagmanager.com/ns.html?id=GTM-PGNCT7\" style=\"display:none;visibility:hidden\" width=\"0\"></iframe></noscript><script>(function(w,d,s,l,i){w[l]=w[l]||[];w[l].push({'gtm.start':\tnew Date().getTime(),event:'gtm.js'});var f=d.getElementsByTagName(s)[0],\tj=d.createElement(s),dl=l!='dataLayer'?'&l='+l:'';j.async=true;j.src=\t'//www.googletagmanager.com/gtm.js?id='+i+dl;f.parentNode.insertBefore(j,f);\t})(window,document,'script','dataLayer','GTM-PGNCT7');</script><script>window.onerror = function(message, file, line) {\tvar sFormattedMessage = '[' + file + ' (' + line + ')] ' + message;\tdataLayer.push({'EventAction': \"Application\",'EventLabel': sFormattedMessage,'event': 'Exceptions'});\t}</script> </body></html>\n"
     ]
    }
   ],
   "source": [
    "print(s)"
   ]
  },
  {
   "cell_type": "code",
   "execution_count": 56,
   "metadata": {},
   "outputs": [],
   "source": [
    "for i in s.findAll(\"div\",{\"class\":\"cb-lv-scrs-well cb-lv-scrs-well-live\"}):\n",
    "     print(i.text)"
   ]
  },
  {
   "cell_type": "code",
   "execution_count": null,
   "metadata": {},
   "outputs": [],
   "source": [
    "\n"
   ]
  },
  {
   "cell_type": "code",
   "execution_count": 1,
   "metadata": {},
   "outputs": [],
   "source": [
    "import random"
   ]
  },
  {
   "cell_type": "code",
   "execution_count": 7,
   "metadata": {},
   "outputs": [
    {
     "data": {
      "text/plain": [
       "6"
      ]
     },
     "execution_count": 7,
     "metadata": {},
     "output_type": "execute_result"
    }
   ],
   "source": [
    "random.randint(1,10)"
   ]
  },
  {
   "cell_type": "raw",
   "metadata": {},
   "source": [
    "fyu\n",
    "juh"
   ]
  },
  {
   "cell_type": "raw",
   "metadata": {},
   "source": []
  },
  {
   "cell_type": "code",
   "execution_count": 15,
   "metadata": {},
   "outputs": [],
   "source": [
    "from textblob import TextBlob"
   ]
  },
  {
   "cell_type": "code",
   "execution_count": 16,
   "metadata": {},
   "outputs": [],
   "source": [
    "a= TextBlob('happy')"
   ]
  },
  {
   "cell_type": "code",
   "execution_count": 17,
   "metadata": {},
   "outputs": [
    {
     "data": {
      "text/plain": [
       "Sentiment(polarity=0.8, subjectivity=1.0)"
      ]
     },
     "execution_count": 17,
     "metadata": {},
     "output_type": "execute_result"
    }
   ],
   "source": [
    "a.sentiment"
   ]
  },
  {
   "cell_type": "code",
   "execution_count": 18,
   "metadata": {},
   "outputs": [
    {
     "data": {
      "text/plain": [
       "Sentiment(polarity=-0.5, subjectivity=1.0)"
      ]
     },
     "execution_count": 18,
     "metadata": {},
     "output_type": "execute_result"
    }
   ],
   "source": [
    "a= TextBlob('i am sad')\n",
    "a.sentiment"
   ]
  },
  {
   "cell_type": "code",
   "execution_count": 22,
   "metadata": {},
   "outputs": [
    {
     "data": {
      "text/plain": [
       "Sentiment(polarity=0.8, subjectivity=1.0)"
      ]
     },
     "execution_count": 22,
     "metadata": {},
     "output_type": "execute_result"
    }
   ],
   "source": [
    "a= TextBlob('i am happy')\n",
    "a.sentiment"
   ]
  },
  {
   "cell_type": "code",
   "execution_count": 36,
   "metadata": {},
   "outputs": [
    {
     "ename": "SyntaxError",
     "evalue": "invalid syntax (<ipython-input-36-cd9a1d208e75>, line 9)",
     "output_type": "error",
     "traceback": [
      "\u001b[1;36m  File \u001b[1;32m\"<ipython-input-36-cd9a1d208e75>\"\u001b[1;36m, line \u001b[1;32m9\u001b[0m\n\u001b[1;33m    >>> from textblob import TextBlob\u001b[0m\n\u001b[1;37m     ^\u001b[0m\n\u001b[1;31mSyntaxError\u001b[0m\u001b[1;31m:\u001b[0m invalid syntax\n"
     ]
    }
   ],
   "source": [
    "#pip install textblob\n",
    "\n",
    "#python -m textblob.download_corpora\n",
    "\n",
    "\n",
    "\n",
    "\n",
    "\n",
    ">>> from textblob import TextBlob\n",
    "\n",
    ">>> b = TextBlob('hey i am happy')\n",
    "\n",
    ">>> b.sentiment\n",
    "\n",
    "Sentiment(polarity=0.8, subjectivity=1.0)\n",
    "\n",
    "NameError: name 'textBlob' is not defined\n",
    "\n",
    ">>> from textblob import TextBlob\n",
    "\n",
    ">>> b = textBlob('i am not happy')\n",
    "\n",
    "Traceback (most recent call last):\n",
    "\n",
    "  File \"<stdin>\", line 1, in <module>\n",
    "\n",
    "\n",
    "\n",
    ">>> b = TextBlob('i am not happy')\n",
    "\n",
    ">>> b\n",
    "\n",
    "TextBlob(\"i am not happy\")\n",
    "\n",
    ">>> b.sentiment\n",
    "\n",
    "Sentiment(polarity=-0.4, subjectivity=1.0)\n",
    "\n",
    "\n",
    "\n",
    "\n",
    "\n",
    ">>> for i in b:\n",
    "\n",
    "...     print(i)\n",
    "\n",
    "... \n",
    "\n",
    "i\n",
    "\n",
    " \n",
    "\n",
    "a\n",
    "\n",
    "m\n",
    "\n",
    " \n",
    "\n",
    "n\n",
    "\n",
    "o\n",
    "\n",
    "t\n",
    "\n",
    " \n",
    "\n",
    "h\n",
    "\n",
    "a\n",
    "\n",
    "p\n",
    "\n",
    "p\n",
    "\n",
    "y\n",
    "\n",
    "\n",
    "\n",
    "\n",
    "\n",
    ">>> for i in b.words:\n",
    "\n",
    "...     print(i)\n",
    "\n",
    "... \n",
    "\n",
    "i\n",
    "\n",
    "am\n",
    "\n",
    "not\n",
    "\n",
    "happy\n",
    "\n",
    "\n",
    "\n",
    "\n",
    "\n",
    ">>> b = TextBlob('i am not happ')\n",
    "\n",
    ">>> b.correct()\n",
    "\n",
    "TextBlob(\"i am not happy\")\n",
    "\n",
    "\n",
    "\n",
    ">>> b = TextBlob('enthusium')\n",
    "\n",
    ">>> b.correct()\n",
    "\n",
    "TextBlob(\"enthusiasm\")\n",
    "\n",
    "\n",
    "\n",
    ">>> b = TextBlob('i am not happ')\n",
    "\n",
    ">>> b.words[3].spellcheck()\n",
    "\n",
    "[('happy', 0.919831223628692), ('rapp', 0.04219409282700422), ('harp', 0.03375527426160337), ('hasp', 0.004219409282700422)]\n",
    "\n",
    "\n",
    "\n",
    ">>> b.detect_language()\n",
    "\n",
    "'en'\n",
    "\n",
    ">>> bb = TextBlob('أحبك')\n",
    "\n",
    ">>> bb.detect_language()\n",
    "\n",
    "'ar'\n",
    "\n",
    ">>> bb.translate(to='en')\n",
    "\n",
    "TextBlob(\"I love you\")\n",
    "\n",
    ">>> c = bb.translate(to='en')\n",
    "\n",
    ">>> for words, tag in blob.tags:\n",
    "\n",
    "...     print(words, tags)\n",
    "\n",
    "... \n",
    "\n",
    "Traceback (most recent call last):\n",
    "\n",
    "  File \"<stdin>\", line 1, in <module>\n",
    "\n",
    "NameError: name 'blob' is not defined\n",
    "\n",
    ">>> for words, tag in b.tags:\n",
    "\n",
    "...     print(words, tags)\n",
    "\n",
    "... \n",
    "\n",
    "Traceback (most recent call last):\n",
    "\n",
    "  File \"<stdin>\", line 2, in <module>\n",
    "\n",
    "NameError: name 'tags' is not defined\n",
    "\n",
    ">>> for words, tag in b.tags:\n",
    "\n",
    "...     print(words, tag)\n",
    "\n",
    "... \n",
    "\n",
    "i NN\n",
    "\n",
    "am VBP\n",
    "\n",
    "not RB\n",
    "\n",
    "happ JJ"
   ]
  },
  {
   "cell_type": "code",
   "execution_count": 24,
   "metadata": {},
   "outputs": [
    {
     "data": {
      "text/plain": [
       "Sentiment(polarity=0.8, subjectivity=1.0)"
      ]
     },
     "execution_count": 24,
     "metadata": {},
     "output_type": "execute_result"
    }
   ],
   "source": [
    ">>> from textblob import TextBlob\n",
    "\n",
    ">>> b = TextBlob('hey i am happy')\n",
    "\n",
    ">>> b.sentiment\n"
   ]
  },
  {
   "cell_type": "code",
   "execution_count": 42,
   "metadata": {},
   "outputs": [
    {
     "ename": "IndentationError",
     "evalue": "unexpected indent (<ipython-input-42-95db57a69305>, line 2)",
     "output_type": "error",
     "traceback": [
      "\u001b[1;36m  File \u001b[1;32m\"<ipython-input-42-95db57a69305>\"\u001b[1;36m, line \u001b[1;32m2\u001b[0m\n\u001b[1;33m    b = TextBlob('i am not happy')\u001b[0m\n\u001b[1;37m    ^\u001b[0m\n\u001b[1;31mIndentationError\u001b[0m\u001b[1;31m:\u001b[0m unexpected indent\n"
     ]
    }
   ],
   "source": [
    ">>> from textblob import TextBlob\n",
    " b = TextBlob('i am not happy')"
   ]
  },
  {
   "cell_type": "code",
   "execution_count": 35,
   "metadata": {},
   "outputs": [
    {
     "data": {
      "text/plain": [
       "Sentiment(polarity=-0.4, subjectivity=1.0)"
      ]
     },
     "execution_count": 35,
     "metadata": {},
     "output_type": "execute_result"
    }
   ],
   "source": [
    ">>> b = TextBlob('i am not happy')\n",
    "\n",
    ">>> b\n",
    "\n",
    "TextBlob(\"i am not happy\")\n",
    "\n",
    ">>> b.sentiment"
   ]
  },
  {
   "cell_type": "code",
   "execution_count": 41,
   "metadata": {},
   "outputs": [
    {
     "name": "stdout",
     "output_type": "stream",
     "text": [
      "i\n",
      " \n",
      "a\n",
      "m\n",
      " \n",
      "n\n",
      "o\n",
      "t\n",
      " \n",
      "h\n",
      "a\n",
      "p\n",
      "p\n",
      "y\n"
     ]
    }
   ],
   "source": [
    ">>> for i in b:\n",
    "\n",
    "...     print(i)\n"
   ]
  },
  {
   "cell_type": "code",
   "execution_count": 43,
   "metadata": {},
   "outputs": [
    {
     "name": "stdout",
     "output_type": "stream",
     "text": [
      "i\n",
      "am\n",
      "not\n",
      "happy\n"
     ]
    }
   ],
   "source": [
    ">>> for i in b.words:\n",
    "\n",
    "...     print(i)"
   ]
  },
  {
   "cell_type": "code",
   "execution_count": 44,
   "metadata": {},
   "outputs": [
    {
     "data": {
      "text/plain": [
       "TextBlob(\"I love you\")"
      ]
     },
     "execution_count": 44,
     "metadata": {},
     "output_type": "execute_result"
    }
   ],
   "source": [
    ">>> b.detect_language()\n",
    "\n",
    "'en'\n",
    "\n",
    ">>> bb = TextBlob('أحبك')\n",
    "\n",
    ">>> bb.detect_language()\n",
    "\n",
    "'ar'\n",
    "\n",
    ">>> bb.translate(to='en')\n"
   ]
  },
  {
   "cell_type": "code",
   "execution_count": 47,
   "metadata": {},
   "outputs": [],
   "source": [
    "import pandas as pd"
   ]
  },
  {
   "cell_type": "code",
   "execution_count": 49,
   "metadata": {},
   "outputs": [],
   "source": [
    "x=[1,2,3,4,5]"
   ]
  },
  {
   "cell_type": "code",
   "execution_count": 53,
   "metadata": {},
   "outputs": [
    {
     "name": "stdout",
     "output_type": "stream",
     "text": [
      "   0\n",
      "0  1\n",
      "1  2\n",
      "2  3\n",
      "3  4\n",
      "4  5\n"
     ]
    }
   ],
   "source": [
    "b=pd.DataFrame(x)\n",
    "print(b)"
   ]
  },
  {
   "cell_type": "code",
   "execution_count": 54,
   "metadata": {},
   "outputs": [
    {
     "data": {
      "text/html": [
       "<div>\n",
       "<style scoped>\n",
       "    .dataframe tbody tr th:only-of-type {\n",
       "        vertical-align: middle;\n",
       "    }\n",
       "\n",
       "    .dataframe tbody tr th {\n",
       "        vertical-align: top;\n",
       "    }\n",
       "\n",
       "    .dataframe thead th {\n",
       "        text-align: right;\n",
       "    }\n",
       "</style>\n",
       "<table border=\"1\" class=\"dataframe\">\n",
       "  <thead>\n",
       "    <tr style=\"text-align: right;\">\n",
       "      <th></th>\n",
       "      <th>0</th>\n",
       "    </tr>\n",
       "  </thead>\n",
       "  <tbody>\n",
       "    <tr>\n",
       "      <th>0</th>\n",
       "      <td>1</td>\n",
       "    </tr>\n",
       "    <tr>\n",
       "      <th>1</th>\n",
       "      <td>2</td>\n",
       "    </tr>\n",
       "    <tr>\n",
       "      <th>2</th>\n",
       "      <td>3</td>\n",
       "    </tr>\n",
       "    <tr>\n",
       "      <th>3</th>\n",
       "      <td>4</td>\n",
       "    </tr>\n",
       "    <tr>\n",
       "      <th>4</th>\n",
       "      <td>5</td>\n",
       "    </tr>\n",
       "  </tbody>\n",
       "</table>\n",
       "</div>"
      ],
      "text/plain": [
       "   0\n",
       "0  1\n",
       "1  2\n",
       "2  3\n",
       "3  4\n",
       "4  5"
      ]
     },
     "execution_count": 54,
     "metadata": {},
     "output_type": "execute_result"
    }
   ],
   "source": [
    "pd.DataFrame(x)"
   ]
  },
  {
   "cell_type": "code",
   "execution_count": 61,
   "metadata": {},
   "outputs": [],
   "source": [
    "aa={'First':[1,2,3,4,5],\n",
    "   'Second':[6,7,8,9,1],\n",
    "   'Third':[1,2,3,4,4]}"
   ]
  },
  {
   "cell_type": "code",
   "execution_count": 62,
   "metadata": {},
   "outputs": [
    {
     "name": "stdout",
     "output_type": "stream",
     "text": [
      "   First  Second  Third\n",
      "0      1       6      1\n",
      "1      2       7      2\n",
      "2      3       8      3\n",
      "3      4       9      4\n",
      "4      5       1      4\n"
     ]
    }
   ],
   "source": [
    "c= pd.DataFrame(aa)\n",
    "print(c)"
   ]
  },
  {
   "cell_type": "code",
   "execution_count": 63,
   "metadata": {},
   "outputs": [
    {
     "data": {
      "text/html": [
       "<div>\n",
       "<style scoped>\n",
       "    .dataframe tbody tr th:only-of-type {\n",
       "        vertical-align: middle;\n",
       "    }\n",
       "\n",
       "    .dataframe tbody tr th {\n",
       "        vertical-align: top;\n",
       "    }\n",
       "\n",
       "    .dataframe thead th {\n",
       "        text-align: right;\n",
       "    }\n",
       "</style>\n",
       "<table border=\"1\" class=\"dataframe\">\n",
       "  <thead>\n",
       "    <tr style=\"text-align: right;\">\n",
       "      <th></th>\n",
       "      <th>First</th>\n",
       "      <th>Second</th>\n",
       "      <th>Third</th>\n",
       "    </tr>\n",
       "  </thead>\n",
       "  <tbody>\n",
       "    <tr>\n",
       "      <th>0</th>\n",
       "      <td>1</td>\n",
       "      <td>6</td>\n",
       "      <td>1</td>\n",
       "    </tr>\n",
       "    <tr>\n",
       "      <th>1</th>\n",
       "      <td>2</td>\n",
       "      <td>7</td>\n",
       "      <td>2</td>\n",
       "    </tr>\n",
       "    <tr>\n",
       "      <th>2</th>\n",
       "      <td>3</td>\n",
       "      <td>8</td>\n",
       "      <td>3</td>\n",
       "    </tr>\n",
       "    <tr>\n",
       "      <th>3</th>\n",
       "      <td>4</td>\n",
       "      <td>9</td>\n",
       "      <td>4</td>\n",
       "    </tr>\n",
       "    <tr>\n",
       "      <th>4</th>\n",
       "      <td>5</td>\n",
       "      <td>1</td>\n",
       "      <td>4</td>\n",
       "    </tr>\n",
       "  </tbody>\n",
       "</table>\n",
       "</div>"
      ],
      "text/plain": [
       "   First  Second  Third\n",
       "0      1       6      1\n",
       "1      2       7      2\n",
       "2      3       8      3\n",
       "3      4       9      4\n",
       "4      5       1      4"
      ]
     },
     "execution_count": 63,
     "metadata": {},
     "output_type": "execute_result"
    }
   ],
   "source": [
    "pd.DataFrame(aa)"
   ]
  },
  {
   "cell_type": "code",
   "execution_count": 69,
   "metadata": {},
   "outputs": [
    {
     "name": "stdout",
     "output_type": "stream",
     "text": [
      "   0\n",
      "0  1\n",
      "1  2\n",
      "2  3\n",
      "3  4\n",
      "4  5\n"
     ]
    }
   ],
   "source": [
    "c= pd.DataFrame(aa['First'])\n",
    "print(c)"
   ]
  },
  {
   "cell_type": "code",
   "execution_count": 73,
   "metadata": {},
   "outputs": [
    {
     "name": "stdout",
     "output_type": "stream",
     "text": [
      "   First  Second\n",
      "0      1       6\n",
      "1      2       7\n",
      "2      3       8\n",
      "3      4       9\n",
      "4      5       1\n"
     ]
    }
   ],
   "source": [
    "c= pd.DataFrame(aa)\n",
    "print(c[['First','Second']])"
   ]
  },
  {
   "cell_type": "code",
   "execution_count": 74,
   "metadata": {},
   "outputs": [
    {
     "name": "stdout",
     "output_type": "stream",
     "text": [
      "   First  Third\n",
      "0      1      1\n",
      "1      2      2\n",
      "2      3      3\n",
      "3      4      4\n",
      "4      5      4\n"
     ]
    }
   ],
   "source": [
    "c= pd.DataFrame(aa)\n",
    "print(c[['First','Third']])"
   ]
  },
  {
   "cell_type": "code",
   "execution_count": 85,
   "metadata": {},
   "outputs": [
    {
     "name": "stdout",
     "output_type": "stream",
     "text": [
      "  Start Date   Start Time  End Date    End Time                  Event Title   \\\n",
      "0    9/5/2011  3:00:00 PM  9/5/2011         NaN  Social Studies Dept. Meeting   \n",
      "1    9/5/2011  6:00:00 PM  9/5/2011  8:00:00 PM            Curriculum Meeting   \n",
      "\n",
      "  All Day Event No End Time   Event Description         Contact   \\\n",
      "0             N           Y  Department meeting  Chris Gallagher   \n",
      "1             N           N  Curriculum Meeting  Chris Gallagher   \n",
      "\n",
      "                Contact Email Contact Phone     Location  Category Mandatory  \\\n",
      "0  cgallagher@schoolwires.com  814-555-5179  High School         2         N   \n",
      "1  cgallagher@schoolwires.com  814-555-5179  High School         2         N   \n",
      "\n",
      "  Registration  Maximum Last Date To Register  \n",
      "0            N       25              9/2/2011  \n",
      "1            N       25              9/2/2011  \n"
     ]
    }
   ],
   "source": [
    "e= pd.read_csv('C2ImportCalEventSample (1).csv')\n",
    "print(e)"
   ]
  },
  {
   "cell_type": "code",
   "execution_count": 88,
   "metadata": {},
   "outputs": [
    {
     "data": {
      "text/html": [
       "<div>\n",
       "<style scoped>\n",
       "    .dataframe tbody tr th:only-of-type {\n",
       "        vertical-align: middle;\n",
       "    }\n",
       "\n",
       "    .dataframe tbody tr th {\n",
       "        vertical-align: top;\n",
       "    }\n",
       "\n",
       "    .dataframe thead th {\n",
       "        text-align: right;\n",
       "    }\n",
       "</style>\n",
       "<table border=\"1\" class=\"dataframe\">\n",
       "  <thead>\n",
       "    <tr style=\"text-align: right;\">\n",
       "      <th></th>\n",
       "      <th>Start Date</th>\n",
       "      <th>Start Time</th>\n",
       "      <th>End Date</th>\n",
       "      <th>End Time</th>\n",
       "      <th>Event Title</th>\n",
       "      <th>All Day Event</th>\n",
       "      <th>No End Time</th>\n",
       "      <th>Event Description</th>\n",
       "      <th>Contact</th>\n",
       "      <th>Contact Email</th>\n",
       "      <th>Contact Phone</th>\n",
       "      <th>Location</th>\n",
       "      <th>Category</th>\n",
       "      <th>Mandatory</th>\n",
       "      <th>Registration</th>\n",
       "      <th>Maximum</th>\n",
       "      <th>Last Date To Register</th>\n",
       "    </tr>\n",
       "  </thead>\n",
       "  <tbody>\n",
       "    <tr>\n",
       "      <th>0</th>\n",
       "      <td>9/5/2011</td>\n",
       "      <td>3:00:00 PM</td>\n",
       "      <td>9/5/2011</td>\n",
       "      <td>NaN</td>\n",
       "      <td>Social Studies Dept. Meeting</td>\n",
       "      <td>N</td>\n",
       "      <td>Y</td>\n",
       "      <td>Department meeting</td>\n",
       "      <td>Chris Gallagher</td>\n",
       "      <td>cgallagher@schoolwires.com</td>\n",
       "      <td>814-555-5179</td>\n",
       "      <td>High School</td>\n",
       "      <td>2</td>\n",
       "      <td>N</td>\n",
       "      <td>N</td>\n",
       "      <td>25</td>\n",
       "      <td>9/2/2011</td>\n",
       "    </tr>\n",
       "    <tr>\n",
       "      <th>1</th>\n",
       "      <td>9/5/2011</td>\n",
       "      <td>6:00:00 PM</td>\n",
       "      <td>9/5/2011</td>\n",
       "      <td>8:00:00 PM</td>\n",
       "      <td>Curriculum Meeting</td>\n",
       "      <td>N</td>\n",
       "      <td>N</td>\n",
       "      <td>Curriculum Meeting</td>\n",
       "      <td>Chris Gallagher</td>\n",
       "      <td>cgallagher@schoolwires.com</td>\n",
       "      <td>814-555-5179</td>\n",
       "      <td>High School</td>\n",
       "      <td>2</td>\n",
       "      <td>N</td>\n",
       "      <td>N</td>\n",
       "      <td>25</td>\n",
       "      <td>9/2/2011</td>\n",
       "    </tr>\n",
       "  </tbody>\n",
       "</table>\n",
       "</div>"
      ],
      "text/plain": [
       "  Start Date   Start Time  End Date    End Time                  Event Title   \\\n",
       "0    9/5/2011  3:00:00 PM  9/5/2011         NaN  Social Studies Dept. Meeting   \n",
       "1    9/5/2011  6:00:00 PM  9/5/2011  8:00:00 PM            Curriculum Meeting   \n",
       "\n",
       "  All Day Event No End Time   Event Description         Contact   \\\n",
       "0             N           Y  Department meeting  Chris Gallagher   \n",
       "1             N           N  Curriculum Meeting  Chris Gallagher   \n",
       "\n",
       "                Contact Email Contact Phone     Location  Category Mandatory  \\\n",
       "0  cgallagher@schoolwires.com  814-555-5179  High School         2         N   \n",
       "1  cgallagher@schoolwires.com  814-555-5179  High School         2         N   \n",
       "\n",
       "  Registration  Maximum Last Date To Register  \n",
       "0            N       25              9/2/2011  \n",
       "1            N       25              9/2/2011  "
      ]
     },
     "execution_count": 88,
     "metadata": {},
     "output_type": "execute_result"
    }
   ],
   "source": [
    "pd.read_csv('C2ImportCalEventSample (1).csv')"
   ]
  },
  {
   "cell_type": "code",
   "execution_count": 101,
   "metadata": {},
   "outputs": [],
   "source": [
    "a=pd.read_csv('C2ImportCalEventSample (1).csv',index_col=\"No End Time\")"
   ]
  },
  {
   "cell_type": "code",
   "execution_count": 104,
   "metadata": {},
   "outputs": [
    {
     "name": "stdout",
     "output_type": "stream",
     "text": [
      "Start Date                                   9/5/2011\n",
      "Start Time                                 3:00:00 PM\n",
      "End Date                                     9/5/2011\n",
      "End Time                                          NaN\n",
      "Event Title              Social Studies Dept. Meeting\n",
      "All Day Event                                       N\n",
      "Event Description                  Department meeting\n",
      "Contact                               Chris Gallagher\n",
      "Contact Email              cgallagher@schoolwires.com\n",
      "Contact Phone                            814-555-5179\n",
      "Location                                  High School\n",
      "Category                                            2\n",
      "Mandatory                                           N\n",
      "Registration                                        N\n",
      "Maximum                                            25\n",
      "Last Date To Register                        9/2/2011\n",
      "Name: Y, dtype: object\n"
     ]
    }
   ],
   "source": [
    "b=a.loc['Y']\n",
    "print(b)"
   ]
  },
  {
   "cell_type": "code",
   "execution_count": 109,
   "metadata": {},
   "outputs": [
    {
     "name": "stdout",
     "output_type": "stream",
     "text": [
      "Start Date                                 9/5/2011\n",
      "Start Time                               6:00:00 PM\n",
      "End Date                                   9/5/2011\n",
      "End Time                                 8:00:00 PM\n",
      "Event Title                      Curriculum Meeting\n",
      "All Day Event                                     N\n",
      "Event Description                Curriculum Meeting\n",
      "Contact                             Chris Gallagher\n",
      "Contact Email            cgallagher@schoolwires.com\n",
      "Contact Phone                          814-555-5179\n",
      "Location                                High School\n",
      "Category                                          2\n",
      "Mandatory                                         N\n",
      "Registration                                      N\n",
      "Maximum                                          25\n",
      "Last Date To Register                      9/2/2011\n",
      "Name: N, dtype: object\n"
     ]
    }
   ],
   "source": [
    "q=a.iloc[1]\n",
    "print(q)"
   ]
  },
  {
   "cell_type": "code",
   "execution_count": 114,
   "metadata": {},
   "outputs": [],
   "source": [
    "import html"
   ]
  },
  {
   "cell_type": "code",
   "execution_count": 115,
   "metadata": {},
   "outputs": [
    {
     "data": {
      "text/plain": [
       "['__all__',\n",
       " '__builtins__',\n",
       " '__cached__',\n",
       " '__doc__',\n",
       " '__file__',\n",
       " '__loader__',\n",
       " '__name__',\n",
       " '__package__',\n",
       " '__path__',\n",
       " '__spec__',\n",
       " '_charref',\n",
       " '_html5',\n",
       " '_invalid_charrefs',\n",
       " '_invalid_codepoints',\n",
       " '_re',\n",
       " '_replace_charref',\n",
       " 'entities',\n",
       " 'escape',\n",
       " 'unescape']"
      ]
     },
     "execution_count": 115,
     "metadata": {},
     "output_type": "execute_result"
    }
   ],
   "source": [
    "a=dir(html)\n",
    "a"
   ]
  },
  {
   "cell_type": "code",
   "execution_count": null,
   "metadata": {},
   "outputs": [],
   "source": [
    "python kya h \n",
    "python is a functional language ,which is use as a backhand language .\n",
    "it is use in every feild where  you want to use .\n",
    "like:- (ml,ai,iot,big data)"
   ]
  },
  {
   "cell_type": "code",
   "execution_count": null,
   "metadata": {},
   "outputs": [],
   "source": [
    "                                                                                                                                                           "
   ]
  },
  {
   "cell_type": "code",
   "execution_count": 3,
   "metadata": {},
   "outputs": [],
   "source": [
    "import numpy as np"
   ]
  },
  {
   "cell_type": "code",
   "execution_count": 7,
   "metadata": {},
   "outputs": [
    {
     "name": "stdout",
     "output_type": "stream",
     "text": [
      "[[ 1  2  3  4  5]\n",
      " [ 6  7  8  9 10]]\n"
     ]
    }
   ],
   "source": [
    "a=np.array([[1,2,3,4,5 ],[6,7,8,9,10]])\n",
    "print(a)"
   ]
  },
  {
   "cell_type": "code",
   "execution_count": 16,
   "metadata": {},
   "outputs": [
    {
     "name": "stdout",
     "output_type": "stream",
     "text": [
      "[[1 2 3]\n",
      " [6 7 8]\n",
      " [3 5 6]]\n"
     ]
    }
   ],
   "source": [
    "a=np.array([[1,2,3 ],[6,7,8],[3,5,6]])\n",
    "print(a)"
   ]
  },
  {
   "cell_type": "code",
   "execution_count": 19,
   "metadata": {},
   "outputs": [
    {
     "name": "stdout",
     "output_type": "stream",
     "text": [
      "[[1 2]\n",
      " [6 7]]\n"
     ]
    }
   ],
   "source": [
    "c=np.array([[1,2 ],[6,7]])\n",
    "print(c)"
   ]
  },
  {
   "cell_type": "code",
   "execution_count": 17,
   "metadata": {},
   "outputs": [
    {
     "name": "stdout",
     "output_type": "stream",
     "text": [
      "[[ 1  6  7]\n",
      " [ 6  9 11]\n",
      " [ 3  5  6]]\n"
     ]
    }
   ],
   "source": [
    "b=np.array([[1,6,7 ],[6,9,11],[3,5,6]])\n",
    "print(b)"
   ]
  },
  {
   "cell_type": "code",
   "execution_count": 18,
   "metadata": {},
   "outputs": [
    {
     "name": "stdout",
     "output_type": "stream",
     "text": [
      "[[ 2  8 10]\n",
      " [12 16 19]\n",
      " [ 6 10 12]]\n"
     ]
    }
   ],
   "source": [
    "g=np.add(a,b)\n",
    "print(g)"
   ]
  },
  {
   "cell_type": "code",
   "execution_count": 24,
   "metadata": {},
   "outputs": [
    {
     "name": "stdout",
     "output_type": "stream",
     "text": [
      "[[ 2  4]\n",
      " [12 14]]\n"
     ]
    }
   ],
   "source": [
    "h=np.add(c,d)\n",
    "print(h)"
   ]
  },
  {
   "cell_type": "code",
   "execution_count": 23,
   "metadata": {},
   "outputs": [
    {
     "name": "stdout",
     "output_type": "stream",
     "text": [
      "[[1 2]\n",
      " [6 7]]\n"
     ]
    }
   ],
   "source": [
    "d=np.array([[1,2 ],[6,7]])\n",
    "print(d)"
   ]
  },
  {
   "cell_type": "code",
   "execution_count": 25,
   "metadata": {},
   "outputs": [
    {
     "data": {
      "text/plain": [
       "41"
      ]
     },
     "execution_count": 25,
     "metadata": {},
     "output_type": "execute_result"
    }
   ],
   "source": [
    "a.sum()"
   ]
  },
  {
   "cell_type": "code",
   "execution_count": 27,
   "metadata": {},
   "outputs": [
    {
     "data": {
      "text/plain": [
       "dtype('int32')"
      ]
     },
     "execution_count": 27,
     "metadata": {},
     "output_type": "execute_result"
    }
   ],
   "source": [
    "b.dtype"
   ]
  },
  {
   "cell_type": "code",
   "execution_count": 28,
   "metadata": {},
   "outputs": [
    {
     "name": "stdout",
     "output_type": "stream",
     "text": [
      "41\n"
     ]
    }
   ],
   "source": [
    "j=np.sum(a)\n",
    "print(j)"
   ]
  },
  {
   "cell_type": "code",
   "execution_count": 29,
   "metadata": {},
   "outputs": [
    {
     "name": "stdout",
     "output_type": "stream",
     "text": [
      "[[1.         2.44948974 2.64575131]\n",
      " [2.44948974 3.         3.31662479]\n",
      " [1.73205081 2.23606798 2.44948974]]\n"
     ]
    }
   ],
   "source": [
    "l=np.sqrt(b)\n",
    "print(l)"
   ]
  },
  {
   "cell_type": "code",
   "execution_count": 30,
   "metadata": {},
   "outputs": [
    {
     "data": {
      "text/plain": [
       "dtype('float64')"
      ]
     },
     "execution_count": 30,
     "metadata": {},
     "output_type": "execute_result"
    }
   ],
   "source": [
    "l.dtype"
   ]
  },
  {
   "cell_type": "code",
   "execution_count": 36,
   "metadata": {},
   "outputs": [
    {
     "data": {
      "text/plain": [
       "array([[1, 6, 3],\n",
       "       [2, 7, 5],\n",
       "       [3, 8, 6]])"
      ]
     },
     "execution_count": 36,
     "metadata": {},
     "output_type": "execute_result"
    }
   ],
   "source": [
    "a.T"
   ]
  },
  {
   "cell_type": "code",
   "execution_count": 39,
   "metadata": {},
   "outputs": [],
   "source": [
    "import matplotlib.pyplot as p"
   ]
  },
  {
   "cell_type": "code",
   "execution_count": 40,
   "metadata": {},
   "outputs": [],
   "source": [
    "a=[1,2,3,9]\n",
    "b=[3,5,6,8]\n"
   ]
  },
  {
   "cell_type": "code",
   "execution_count": 41,
   "metadata": {},
   "outputs": [
    {
     "data": {
      "text/plain": [
       "[<matplotlib.lines.Line2D at 0x26c5b953240>]"
      ]
     },
     "execution_count": 41,
     "metadata": {},
     "output_type": "execute_result"
    },
    {
     "data": {
      "image/png": "[encoded data removed]",
      "text/plain": [
       "<Figure size 432x288 with 1 Axes>"
      ]
     },
     "metadata": {
      "needs_background": "light"
     },
     "output_type": "display_data"
    }
   ],
   "source": [
    "p.plot(a,b)"
   ]
  },
  {
   "cell_type": "code",
   "execution_count": 60,
   "metadata": {},
   "outputs": [
    {
     "data": {
      "image/png": "[encoded data removed]",
      "text/plain": [
       "<Figure size 432x288 with 1 Axes>"
      ]
     },
     "metadata": {
      "needs_background": "light"
     },
     "output_type": "display_data"
    }
   ],
   "source": [
    "a=[1,2,3,9]\n",
    "b=[3,5,6,8]\n",
    "c=[2,4,5,6]\n",
    "d=[5,6,7,5]\n",
    "p.plot(a,b,c,d)\n",
    "p.show()"
   ]
  },
  {
   "cell_type": "code",
   "execution_count": 61,
   "metadata": {},
   "outputs": [
    {
     "data": {
      "image/png": "[encoded data removed]",
      "text/plain": [
       "<Figure size 432x288 with 1 Axes>"
      ]
     },
     "metadata": {
      "needs_background": "light"
     },
     "output_type": "display_data"
    }
   ],
   "source": [
    "p.xlabel('time-->')\n",
    "p.ylabel('distance-->')\n",
    "p.plot(a,b,c,d)\n",
    "p.show()"
   ]
  },
  {
   "cell_type": "code",
   "execution_count": 62,
   "metadata": {},
   "outputs": [
    {
     "data": {
      "image/png": "[encoded data removed]",
      "text/plain": [
       "<Figure size 432x288 with 1 Axes>"
      ]
     },
     "metadata": {
      "needs_background": "light"
     },
     "output_type": "display_data"
    }
   ],
   "source": [
    "p.xlabel('time-->')\n",
    "p.ylabel('distance-->')\n",
    "p.title('xy plane')\n",
    "p.plot(a,b,c,d)\n",
    "p.show()"
   ]
  },
  {
   "cell_type": "code",
   "execution_count": 86,
   "metadata": {},
   "outputs": [
    {
     "data": {
      "image/png": "[encoded data removed]",
      "text/plain": [
       "<Figure size 432x288 with 1 Axes>"
      ]
     },
     "metadata": {
      "needs_background": "light"
     },
     "output_type": "display_data"
    }
   ],
   "source": [
    "a=[1,2,3,9]\n",
    "b=[3,5,6,8]\n",
    "c=[2,4,5,6]\n",
    "d=[5,6,7,5]\n",
    "p.plot(a,b,c,d)\n",
    "p.xlabel('time-->')\n",
    "p.ylabel('distance-->')\n",
    "p.title('xy plane')\n",
    "p.legend(a)\n",
    "p.legend(b)\n",
    "p.legend(c)\n",
    "p.legend(d)\n",
    "p.show()"
   ]
  },
  {
   "cell_type": "code",
   "execution_count": 100,
   "metadata": {},
   "outputs": [
    {
     "data": {
      "image/png": "[encoded data removed]",
      "text/plain": [
       "<Figure size 432x288 with 1 Axes>"
      ]
     },
     "metadata": {
      "needs_background": "light"
     },
     "output_type": "display_data"
    }
   ],
   "source": [
    "p.plot(a,b,label='xplane',color='red', linestyle=\"dotted\")\n",
    "p.plot(c,d,label='xplane',color='green', linestyle=\"dashed\")\n",
    "p.xlabel('time-->')\n",
    "p.ylabel('distance-->')\n",
    "p.title('xy plane')\n",
    "p.legend(a)\n",
    "p.legend(b)\n",
    "p.show()"
   ]
  },
  {
   "cell_type": "code",
   "execution_count": 101,
   "metadata": {},
   "outputs": [
    {
     "data": {
      "image/png": "[encoded data removed]",
      "text/plain": [
       "<Figure size 432x288 with 1 Axes>"
      ]
     },
     "metadata": {
      "needs_background": "light"
     },
     "output_type": "display_data"
    }
   ],
   "source": [
    "p.plot(a,label='xplane',color='red', linestyle=\"dotted\")\n",
    "p.plot(b,label='xplane',color='green', linestyle=\"dashed\")\n",
    "p.plot(c,label='xplane',color='green', linestyle=\"dashed\")\n",
    "p.plot(d,label='xplane',color='green', linestyle=\"dashed\")\n",
    "p.xlabel('time-->')\n",
    "p.ylabel('distance-->')\n",
    "p.title('xy plane')\n",
    "p.legend(a)\n",
    "p.legend(b)\n",
    "p.show()"
   ]
  },
  {
   "cell_type": "code",
   "execution_count": 102,
   "metadata": {},
   "outputs": [
    {
     "data": {
      "image/png": "[encoded data removed]",
      "text/plain": [
       "<Figure size 432x288 with 1 Axes>"
      ]
     },
     "metadata": {
      "needs_background": "light"
     },
     "output_type": "display_data"
    }
   ],
   "source": [
    "p.plot(a,b,c,d,label='xplane',color='red', linestyle=\"dotted\")\n",
    "\n",
    "p.xlabel('time-->')\n",
    "p.ylabel('distance-->')\n",
    "p.title('xy plane')\n",
    "p.legend(a)\n",
    "p.legend(b)\n",
    "p.show()"
   ]
  },
  {
   "cell_type": "code",
   "execution_count": 107,
   "metadata": {},
   "outputs": [
    {
     "data": {
      "image/png": "[encoded data removed]",
      "text/plain": [
       "<Figure size 432x288 with 1 Axes>"
      ]
     },
     "metadata": {
      "needs_background": "light"
     },
     "output_type": "display_data"
    }
   ],
   "source": [
    "j=[3,5,8,6,9]\n",
    "k=[1,4,6,8,7]\n",
    "p.bar(j,k,color='red')\n",
    "p.show()"
   ]
  },
  {
   "cell_type": "code",
   "execution_count": 113,
   "metadata": {},
   "outputs": [
    {
     "data": {
      "image/png": "[encoded data removed]",
      "text/plain": [
       "<Figure size 432x288 with 1 Axes>"
      ]
     },
     "metadata": {
      "needs_background": "light"
     },
     "output_type": "display_data"
    }
   ],
   "source": [
    "a=[1,2,3,9]\n",
    "b=[3,5,6,8]\n",
    "c=[2,4,5,6]\n",
    "d=[5,6,7,5]\n",
    "p.xlim(1,11)\n",
    "p.ylim(3,9)\n",
    "p.plot(a,b,c,d)\n",
    "p.xlabel('time-->')\n",
    "p.ylabel('distance-->')\n",
    "p.title('xy plane')\n",
    "p.legend(a)\n",
    "p.legend(b)\n",
    "p.legend(c)\n",
    "p.legend(d)\n",
    "p.show()"
   ]
  },
  {
   "cell_type": "code",
   "execution_count": 131,
   "metadata": {},
   "outputs": [
    {
     "data": {
      "image/png": "[encoded data removed]",
      "text/plain": [
       "<Figure size 432x288 with 1 Axes>"
      ]
     },
     "metadata": {
      "needs_background": "light"
     },
     "output_type": "display_data"
    }
   ],
   "source": [
    "j=[3,5,8,6,9]\n",
    "k=[1,4,6,8,7]\n",
    "n=[2,4,5,6,7]\n",
    "m=[5,6,7,5,10]\n",
    "p.bar(j,k,color='pink')\n",
    "p.bar(n,k,color='violet')\n",
    "p.bar(n,m,color='magenta')\n",
    "p.bar(m,j,color='yellowgreen')\n",
    "p.show()"
   ]
  },
  {
   "cell_type": "code",
   "execution_count": 148,
   "metadata": {},
   "outputs": [
    {
     "data": {
      "image/png": "[encoded data removed]",
      "text/plain": [
       "<Figure size 432x288 with 1 Axes>"
      ]
     },
     "metadata": {
      "needs_background": "light"
     },
     "output_type": "display_data"
    }
   ],
   "source": [
    "j=[3,5,8,6,9]\n",
    "k=[5,4,6,8,7]\n",
    "n=[2,4,5,6,7]\n",
    "m=[5,6,7,5,10]\n",
    "p.bar(n,k,color=['red','pink'])\n",
    "p.show()"
   ]
  },
  {
   "cell_type": "code",
   "execution_count": 159,
   "metadata": {},
   "outputs": [],
   "source": [
    "import matplotlib.pyplot as p"
   ]
  },
  {
   "cell_type": "code",
   "execution_count": 160,
   "metadata": {},
   "outputs": [
    {
     "data": {
      "image/png": "[encoded data removed]",
      "text/plain": [
       "<Figure size 432x288 with 1 Axes>"
      ]
     },
     "metadata": {
      "needs_background": "light"
     },
     "output_type": "display_data"
    }
   ],
   "source": [
    "x=[1,2,3,4,5]\n",
    "y=[6,7,8,9,10]\n",
    "p.scatter(x,y)\n",
    "p.show()"
   ]
  },
  {
   "cell_type": "code",
   "execution_count": 161,
   "metadata": {},
   "outputs": [],
   "source": [
    "z=[1,2,3,4]\n",
    "m=['abhi','manaal','deepak','anupam']"
   ]
  },
  {
   "cell_type": "code",
   "execution_count": 165,
   "metadata": {},
   "outputs": [
    {
     "data": {
      "image/png": "[encoded data removed]",
      "text/plain": [
       "<Figure size 432x288 with 1 Axes>"
      ]
     },
     "metadata": {},
     "output_type": "display_data"
    }
   ],
   "source": [
    "color=['red','blue','green','violet']\n",
    "p.pie(z, labels=m , colors=color)\n",
    "p.show()"
   ]
  },
  {
   "cell_type": "code",
   "execution_count": 176,
   "metadata": {},
   "outputs": [
    {
     "data": {
      "image/png": "[encoded data removed]",
      "text/plain": [
       "<Figure size 432x288 with 1 Axes>"
      ]
     },
     "metadata": {},
     "output_type": "display_data"
    }
   ],
   "source": [
    "color=['red','blue','green','violet']\n",
    "p.pie(z, labels=m , colors=color,shadow=True,radius=5)\n",
    "p.legend()\n",
    "p.show()"
   ]
  },
  {
   "cell_type": "code",
   "execution_count": null,
   "metadata": {},
   "outputs": [],
   "source": []
  }
 ],
 "metadata": {
  "kernelspec": {
   "display_name": "Python 3",
   "language": "python",
   "name": "python3"
  },
  "language_info": {
   "codemirror_mode": {
    "name": "ipython",
    "version": 3
   },
   "file_extension": ".py",
   "mimetype": "text/x-python",
   "name": "python",
   "nbconvert_exporter": "python",
   "pygments_lexer": "ipython3",
   "version": "3.7.3"
  }
 },
 "nbformat": 4,
 "nbformat_minor": 2
}
